{
 "cells": [
  {
   "cell_type": "code",
   "source": "!pip install tweepy==4.8.0",
   "metadata": {
    "cell_id": "9b0d7e6e4fd74147ade3e1485f04d4d6",
    "tags": [],
    "deepnote_to_be_reexecuted": false,
    "source_hash": "fb7a6e60",
    "execution_start": 1651751039612,
    "execution_millis": 3060,
    "deepnote_cell_type": "code",
    "deepnote_cell_height": 342.875
   },
   "outputs": [
    {
     "name": "stdout",
     "text": "Requirement already satisfied: tweepy==4.8.0 in /root/venv/lib/python3.7/site-packages (4.8.0)\nRequirement already satisfied: requests-oauthlib<2,>=1.2.0 in /shared-libs/python3.7/py/lib/python3.7/site-packages (from tweepy==4.8.0) (1.3.1)\nRequirement already satisfied: oauthlib<4,>=3.2.0 in /shared-libs/python3.7/py/lib/python3.7/site-packages (from tweepy==4.8.0) (3.2.0)\nRequirement already satisfied: requests<3,>=2.27.0 in /shared-libs/python3.7/py/lib/python3.7/site-packages (from tweepy==4.8.0) (2.27.1)\nRequirement already satisfied: idna<4,>=2.5; python_version >= \"3\" in /shared-libs/python3.7/py-core/lib/python3.7/site-packages (from requests<3,>=2.27.0->tweepy==4.8.0) (3.3)\nRequirement already satisfied: urllib3<1.27,>=1.21.1 in /shared-libs/python3.7/py/lib/python3.7/site-packages (from requests<3,>=2.27.0->tweepy==4.8.0) (1.26.9)\nRequirement already satisfied: charset-normalizer~=2.0.0; python_version >= \"3\" in /shared-libs/python3.7/py-core/lib/python3.7/site-packages (from requests<3,>=2.27.0->tweepy==4.8.0) (2.0.12)\nRequirement already satisfied: certifi>=2017.4.17 in /shared-libs/python3.7/py/lib/python3.7/site-packages (from requests<3,>=2.27.0->tweepy==4.8.0) (2021.10.8)\n\u001b[33mWARNING: You are using pip version 20.1.1; however, version 22.0.4 is available.\nYou should consider upgrading via the '/root/venv/bin/python -m pip install --upgrade pip' command.\u001b[0m\n",
     "output_type": "stream"
    }
   ],
   "execution_count": 1
  },
  {
   "cell_type": "code",
   "source": "!pip install preprocessor==1.1.3",
   "metadata": {
    "cell_id": "14743c3406fc48f9bf9a75814e2c86f7",
    "tags": [],
    "deepnote_to_be_reexecuted": false,
    "source_hash": "648273ec",
    "execution_start": 1651751042676,
    "execution_millis": 3379,
    "deepnote_cell_type": "code",
    "deepnote_cell_height": 197.5625
   },
   "outputs": [
    {
     "name": "stdout",
     "text": "Requirement already satisfied: preprocessor==1.1.3 in /root/venv/lib/python3.7/site-packages (1.1.3)\n\u001b[33mWARNING: You are using pip version 20.1.1; however, version 22.0.4 is available.\nYou should consider upgrading via the '/root/venv/bin/python -m pip install --upgrade pip' command.\u001b[0m\n",
     "output_type": "stream"
    }
   ],
   "execution_count": 2
  },
  {
   "cell_type": "code",
   "metadata": {
    "scrolled": true,
    "cell_id": "57e70d5f-ffd7-47d8-be91-d478b52555e6",
    "deepnote_to_be_reexecuted": false,
    "source_hash": "2d09f57c",
    "execution_start": 1651751045764,
    "execution_millis": 724,
    "deepnote_cell_type": "code",
    "deepnote_cell_height": 315
   },
   "source": "import numpy as np\nimport pandas as pd\nfrom tweepy import OAuthHandler\nfrom tweepy.streaming import Stream\nimport tweepy\nimport json\nimport pandas as pd\nimport csv\nimport re\nfrom textblob import TextBlob\nimport string\nimport preprocessor as p\nimport os\nimport time",
   "execution_count": 3,
   "outputs": []
  },
  {
   "cell_type": "code",
   "source": "!pip install AppCred",
   "metadata": {
    "cell_id": "25efdcbbde1d4a3b8ab54966261ffc1f",
    "tags": [],
    "deepnote_to_be_reexecuted": false,
    "source_hash": "819cb39a",
    "execution_start": 1651751046496,
    "execution_millis": 2429,
    "deepnote_cell_type": "code",
    "deepnote_cell_height": 172.75
   },
   "outputs": [
    {
     "name": "stdout",
     "text": "\u001b[31mERROR: Could not find a version that satisfies the requirement AppCred (from versions: none)\u001b[0m\n\u001b[31mERROR: No matching distribution found for AppCred\u001b[0m\n\u001b[33mWARNING: You are using pip version 20.1.1; however, version 22.0.4 is available.\nYou should consider upgrading via the '/root/venv/bin/python -m pip install --upgrade pip' command.\u001b[0m\n",
     "output_type": "stream"
    }
   ],
   "execution_count": 4
  },
  {
   "cell_type": "code",
   "metadata": {
    "cell_id": "00001-f0a8e9d8-e20a-4ffc-8599-d4746ae9052d",
    "deepnote_to_be_reexecuted": false,
    "source_hash": "3ccc731a",
    "execution_start": 1651751048382,
    "execution_millis": 545,
    "deepnote_cell_type": "code",
    "deepnote_cell_height": 351.1875
   },
   "source": "import tweepy\n# set up authentication for twitter\n# first, use tweep OAuthHandler function to generate authentification object\nfrom AppCred import CONSUMER_KEY, CONSUMER_SECRET\nfrom AppCred import ACCESS_TOKEN, ACCESS_TOKEN_SECRET\nauth = tweepy.OAuthHandler(CONSUMER_KEY, CONSUMER_SECRET)\n# second, add access token and secret to authentification object\nauth.set_access_token(ACCESS_TOKEN, ACCESS_TOKEN_SECRET)\n# finally, generate variable to interact with twitter API\napi = tweepy.API(auth)",
   "execution_count": 5,
   "outputs": [
    {
     "output_type": "error",
     "ename": "ModuleNotFoundError",
     "evalue": "No module named 'AppCred'",
     "traceback": [
      "\u001b[0;31m---------------------------------------------------------------------------\u001b[0m",
      "\u001b[0;31mModuleNotFoundError\u001b[0m                       Traceback (most recent call last)",
      "\u001b[0;32m<ipython-input-5-43872b2072df>\u001b[0m in \u001b[0;36m<module>\u001b[0;34m\u001b[0m\n\u001b[1;32m      2\u001b[0m \u001b[0;31m# set up authentication for twitter\u001b[0m\u001b[0;34m\u001b[0m\u001b[0;34m\u001b[0m\u001b[0;34m\u001b[0m\u001b[0m\n\u001b[1;32m      3\u001b[0m \u001b[0;31m# first, use tweep OAuthHandler function to generate authentification object\u001b[0m\u001b[0;34m\u001b[0m\u001b[0;34m\u001b[0m\u001b[0;34m\u001b[0m\u001b[0m\n\u001b[0;32m----> 4\u001b[0;31m \u001b[0;32mfrom\u001b[0m \u001b[0mAppCred\u001b[0m \u001b[0;32mimport\u001b[0m \u001b[0mCONSUMER_KEY\u001b[0m\u001b[0;34m,\u001b[0m \u001b[0mCONSUMER_SECRET\u001b[0m\u001b[0;34m\u001b[0m\u001b[0;34m\u001b[0m\u001b[0m\n\u001b[0m\u001b[1;32m      5\u001b[0m \u001b[0;32mfrom\u001b[0m \u001b[0mAppCred\u001b[0m \u001b[0;32mimport\u001b[0m \u001b[0mACCESS_TOKEN\u001b[0m\u001b[0;34m,\u001b[0m \u001b[0mACCESS_TOKEN_SECRET\u001b[0m\u001b[0;34m\u001b[0m\u001b[0;34m\u001b[0m\u001b[0m\n\u001b[1;32m      6\u001b[0m \u001b[0mauth\u001b[0m \u001b[0;34m=\u001b[0m \u001b[0mtweepy\u001b[0m\u001b[0;34m.\u001b[0m\u001b[0mOAuthHandler\u001b[0m\u001b[0;34m(\u001b[0m\u001b[0mCONSUMER_KEY\u001b[0m\u001b[0;34m,\u001b[0m \u001b[0mCONSUMER_SECRET\u001b[0m\u001b[0;34m)\u001b[0m\u001b[0;34m\u001b[0m\u001b[0;34m\u001b[0m\u001b[0m\n",
      "\u001b[0;31mModuleNotFoundError\u001b[0m: No module named 'AppCred'"
     ]
    }
   ]
  },
  {
   "cell_type": "code",
   "metadata": {
    "cell_id": "00002-9249affb-fd31-4506-bf85-eff5f12b72aa",
    "deepnote_to_be_reexecuted": true,
    "source_hash": "2549c76e",
    "deepnote_cell_type": "code",
    "deepnote_cell_height": 225
   },
   "source": "# def auth():\n#     try:\n#         auth = tweepy.OAuthHandler(config.CONSUMER_KEY, config.CONSUMER_SECRET)\n#         auth.set_access_token(config.ACCESS_TOKEN, config.ACCESS_TOKEN_SECRET)\n#         api = tweepy.API(auth)\n#     except:\n#         print(\"An error occurred during the authentication\")\n    \n#     return api",
   "outputs": [],
   "execution_count": null
  },
  {
   "cell_type": "code",
   "metadata": {
    "cell_id": "00003-9105e4f8-2ff1-4b5b-b74a-b676e8415dfd",
    "deepnote_to_be_reexecuted": true,
    "source_hash": "f435b0f0",
    "deepnote_cell_type": "code",
    "deepnote_cell_height": 693
   },
   "source": "# def search_by_hashtag(api, date_since, date_until, words):\n#     df = pd.DataFrame(columns=['id', 'created_at', 'username', 'location', 'following', \n#                                'followers', 'retweetcount', 'text']) \n#     tweets = tweepy.Cursor(api.search_tweets,\n#                            q=words, \n#                            lang=\"en\", #which language to search for\n#                            wait_on_rate_limit=True,\n#                            since=date_since, until=date_until, \n#                            tweet_mode='extended').items() #getting all of the tweets\n    \n#     list_tweets = [tweet for tweet in tweets] \n\n         \n#     for tweet in list_tweets: #getting all of the useful information from each tweet\n#         id = tweet.id\n#         created_at = tweet.created_at\n#         username = tweet.user.screen_name \n#         location = tweet.user.location \n#         following = tweet.user.friends_count \n#         followers = tweet.user.followers_count \n#         totaltweets = tweet.user.statuses_count \n#         retweetcount = tweet.retweet_count \n\n#         try: \n#             text = tweet.retweeted_status.full_text \n#         except AttributeError: \n#             text = tweet.full_text \n  \n#         tweets = [id, created_at, username, location, following, \n#                      followers, retweetcount, text] \n\n#         df.loc[len(df)] = tweets \n          \n#     filename = 'tweets_eng.csv'\n#     df.to_csv(filename) ",
   "outputs": [],
   "execution_count": null
  },
  {
   "cell_type": "code",
   "metadata": {
    "scrolled": true,
    "cell_id": "00004-46cf3182-588a-4207-b5e4-3f2a529c14aa",
    "deepnote_to_be_reexecuted": true,
    "source_hash": "67877435",
    "deepnote_cell_type": "code",
    "deepnote_cell_height": 1505.375
   },
   "source": "# #api = auth()\n# words = \"#Ukraine\"\n# date_since = \"2022-04-29\"\n# date_until = \"2022-04-30\"\n# search_by_hashtag(api, date_since, date_until, words)",
   "outputs": [
    {
     "name": "stderr",
     "output_type": "stream",
     "text": "Unexpected parameter: wait_on_rate_limit\nUnexpected parameter: since\nUnexpected parameter: wait_on_rate_limit\nUnexpected parameter: since\nUnexpected parameter: wait_on_rate_limit\nUnexpected parameter: since\nUnexpected parameter: wait_on_rate_limit\nUnexpected parameter: since\nUnexpected parameter: wait_on_rate_limit\nUnexpected parameter: since\nUnexpected parameter: wait_on_rate_limit\nUnexpected parameter: since\nUnexpected parameter: wait_on_rate_limit\nUnexpected parameter: since\nUnexpected parameter: wait_on_rate_limit\nUnexpected parameter: since\nUnexpected parameter: wait_on_rate_limit\nUnexpected parameter: since\nUnexpected parameter: wait_on_rate_limit\nUnexpected parameter: since\nUnexpected parameter: wait_on_rate_limit\nUnexpected parameter: since\nUnexpected parameter: wait_on_rate_limit\nUnexpected parameter: since\nUnexpected parameter: wait_on_rate_limit\nUnexpected parameter: since\nUnexpected parameter: wait_on_rate_limit\nUnexpected parameter: since\nUnexpected parameter: wait_on_rate_limit\nUnexpected parameter: since\nUnexpected parameter: wait_on_rate_limit\nUnexpected parameter: since\nUnexpected parameter: wait_on_rate_limit\nUnexpected parameter: since\nUnexpected parameter: wait_on_rate_limit\nUnexpected parameter: since\nUnexpected parameter: wait_on_rate_limit\nUnexpected parameter: since\nUnexpected parameter: wait_on_rate_limit\nUnexpected parameter: since\nUnexpected parameter: wait_on_rate_limit\nUnexpected parameter: since\nUnexpected parameter: wait_on_rate_limit\nUnexpected parameter: since\nUnexpected parameter: wait_on_rate_limit\nUnexpected parameter: since\nUnexpected parameter: wait_on_rate_limit\nUnexpected parameter: since\nUnexpected parameter: wait_on_rate_limit\nUnexpected parameter: since\nUnexpected parameter: wait_on_rate_limit\nUnexpected parameter: since\nUnexpected parameter: wait_on_rate_limit\nUnexpected parameter: since\nUnexpected parameter: wait_on_rate_limit\nUnexpected parameter: since\nUnexpected parameter: wait_on_rate_limit\nUnexpected parameter: since\nUnexpected parameter: wait_on_rate_limit\nUnexpected parameter: since\nUnexpected parameter: wait_on_rate_limit\nUnexpected parameter: since\nUnexpected parameter: wait_on_rate_limit\nUnexpected parameter: since\nUnexpected parameter: wait_on_rate_limit\nUnexpected parameter: since\nUnexpected parameter: wait_on_rate_limit\nUnexpected parameter: since\nUnexpected parameter: wait_on_rate_limit\nUnexpected parameter: since\nUnexpected parameter: wait_on_rate_limit\nUnexpected parameter: since\nUnexpected parameter: wait_on_rate_limit\nUnexpected parameter: since\nUnexpected parameter: wait_on_rate_limit\nUnexpected parameter: since\nUnexpected parameter: wait_on_rate_limit\nUnexpected parameter: since\nUnexpected parameter: wait_on_rate_limit\nUnexpected parameter: since\nUnexpected parameter: wait_on_rate_limit\nUnexpected parameter: since\nUnexpected parameter: wait_on_rate_limit\nUnexpected parameter: since\nUnexpected parameter: wait_on_rate_limit\nUnexpected parameter: since\nUnexpected parameter: wait_on_rate_limit\nUnexpected parameter: since\nUnexpected parameter: wait_on_rate_limit\nUnexpected parameter: since\nUnexpected parameter: wait_on_rate_limit\nUnexpected parameter: since\nUnexpected parameter: wait_on_rate_limit\nUnexpected parameter: since\nUnexpected parameter: wait_on_rate_limit\nUnexpected parameter: since\nUnexpected parameter: wait_on_rate_limit\nUnexpected parameter: since\nUnexpected parameter: wait_on_rate_limit\nUnexpected parameter: since\nUnexpected parameter: wait_on_rate_limit\nUnexpected parameter: since\nUnexpected parameter: wait_on_rate_limit\nUnexpected parameter: since\nUnexpected parameter: wait_on_rate_limit\nUnexpected parameter: since\nUnexpected parameter: wait_on_rate_limit\nUnexpected parameter: since\nUnexpected parameter: wait_on_rate_limit\nUnexpected parameter: since\nUnexpected parameter: wait_on_rate_limit\nUnexpected parameter: since\nUnexpected parameter: wait_on_rate_limit\nUnexpected parameter: since\nUnexpected parameter: wait_on_rate_limit\nUnexpected parameter: since\nUnexpected parameter: wait_on_rate_limit\nUnexpected parameter: since\nUnexpected parameter: wait_on_rate_limit\nUnexpected parameter: since\nUnexpected parameter: wait_on_rate_limit\nUnexpected parameter: since\nUnexpected parameter: wait_on_rate_limit\nUnexpected parameter: since\nUnexpected parameter: wait_on_rate_limit\nUnexpected parameter: since\nUnexpected parameter: wait_on_rate_limit\nUnexpected parameter: since\nUnexpected parameter: wait_on_rate_limit\nUnexpected parameter: since\nUnexpected parameter: wait_on_rate_limit\nUnexpected parameter: since\nUnexpected parameter: wait_on_rate_limit\nUnexpected parameter: since\nUnexpected parameter: wait_on_rate_limit\nUnexpected parameter: since\nUnexpected parameter: wait_on_rate_limit\nUnexpected parameter: since\nUnexpected parameter: wait_on_rate_limit\nUnexpected parameter: since\nUnexpected parameter: wait_on_rate_limit\nUnexpected parameter: since\nUnexpected parameter: wait_on_rate_limit\nUnexpected parameter: since\nUnexpected parameter: wait_on_rate_limit\nUnexpected parameter: since\nUnexpected parameter: wait_on_rate_limit\nUnexpected parameter: since\nUnexpected parameter: wait_on_rate_limit\nUnexpected parameter: since\nUnexpected parameter: wait_on_rate_limit\nUnexpected parameter: since\nUnexpected parameter: wait_on_rate_limit\nUnexpected parameter: since\nUnexpected parameter: wait_on_rate_limit\nUnexpected parameter: since\nUnexpected parameter: wait_on_rate_limit\nUnexpected parameter: since\nUnexpected parameter: wait_on_rate_limit\nUnexpected parameter: since\nUnexpected parameter: wait_on_rate_limit\nUnexpected parameter: since\nUnexpected parameter: wait_on_rate_limit\nUnexpected parameter: since\nUnexpected parameter: wait_on_rate_limit\nUnexpected parameter: since\nUnexpected parameter: wait_on_rate_limit\nUnexpected parameter: since\nUnexpected parameter: wait_on_rate_limit\nUnexpected parameter: since\nUnexpected parameter: wait_on_rate_limit\nUnexpected parameter: since\nUnexpected parameter: wait_on_rate_limit\nUnexpected parameter: since\nUnexpected parameter: wait_on_rate_limit\nUnexpected parameter: since\nUnexpected parameter: wait_on_rate_limit\nUnexpected parameter: since\nUnexpected parameter: wait_on_rate_limit\nUnexpected parameter: since\nUnexpected parameter: wait_on_rate_limit\nUnexpected parameter: since\nUnexpected parameter: wait_on_rate_limit\nUnexpected parameter: since\nUnexpected parameter: wait_on_rate_limit\nUnexpected parameter: since\nUnexpected parameter: wait_on_rate_limit\nUnexpected parameter: since\nUnexpected parameter: wait_on_rate_limit\nUnexpected parameter: since\nUnexpected parameter: wait_on_rate_limit\nUnexpected parameter: since\nUnexpected parameter: wait_on_rate_limit\nUnexpected parameter: since\nUnexpected parameter: wait_on_rate_limit\nUnexpected parameter: since\nUnexpected parameter: wait_on_rate_limit\nUnexpected parameter: since\nUnexpected parameter: wait_on_rate_limit\nUnexpected parameter: since\nUnexpected parameter: wait_on_rate_limit\nUnexpected parameter: since\nUnexpected parameter: wait_on_rate_limit\nUnexpected parameter: since\nUnexpected parameter: wait_on_rate_limit\nUnexpected parameter: since\nUnexpected parameter: wait_on_rate_limit\nUnexpected parameter: since\nUnexpected parameter: wait_on_rate_limit\nUnexpected parameter: since\nUnexpected parameter: wait_on_rate_limit\nUnexpected parameter: since\nUnexpected parameter: wait_on_rate_limit\nUnexpected parameter: since\nUnexpected parameter: wait_on_rate_limit\nUnexpected parameter: since\nUnexpected parameter: wait_on_rate_limit\nUnexpected parameter: since\nUnexpected parameter: wait_on_rate_limit\nUnexpected parameter: since\nUnexpected parameter: wait_on_rate_limit\nUnexpected parameter: since\nUnexpected parameter: wait_on_rate_limit\nUnexpected parameter: since\nUnexpected parameter: wait_on_rate_limit\nUnexpected parameter: since\nUnexpected parameter: wait_on_rate_limit\nUnexpected parameter: since\nUnexpected parameter: wait_on_rate_limit\nUnexpected parameter: since\nUnexpected parameter: wait_on_rate_limit\nUnexpected parameter: since\nUnexpected parameter: wait_on_rate_limit\nUnexpected parameter: since\nUnexpected parameter: wait_on_rate_limit\nUnexpected parameter: since\nUnexpected parameter: wait_on_rate_limit\nUnexpected parameter: since\n"
    },
    {
     "name": "stderr",
     "output_type": "stream",
     "text": "Unexpected parameter: wait_on_rate_limit\nUnexpected parameter: since\nUnexpected parameter: wait_on_rate_limit\nUnexpected parameter: since\nUnexpected parameter: wait_on_rate_limit\nUnexpected parameter: since\nUnexpected parameter: wait_on_rate_limit\nUnexpected parameter: since\nUnexpected parameter: wait_on_rate_limit\nUnexpected parameter: since\nUnexpected parameter: wait_on_rate_limit\nUnexpected parameter: since\nUnexpected parameter: wait_on_rate_limit\nUnexpected parameter: since\nUnexpected parameter: wait_on_rate_limit\nUnexpected parameter: since\nUnexpected parameter: wait_on_rate_limit\nUnexpected parameter: since\nUnexpected parameter: wait_on_rate_limit\nUnexpected parameter: since\nUnexpected parameter: wait_on_rate_limit\nUnexpected parameter: since\nUnexpected parameter: wait_on_rate_limit\nUnexpected parameter: since\nUnexpected parameter: wait_on_rate_limit\nUnexpected parameter: since\nUnexpected parameter: wait_on_rate_limit\nUnexpected parameter: since\nUnexpected parameter: wait_on_rate_limit\nUnexpected parameter: since\nUnexpected parameter: wait_on_rate_limit\nUnexpected parameter: since\nUnexpected parameter: wait_on_rate_limit\nUnexpected parameter: since\nUnexpected parameter: wait_on_rate_limit\nUnexpected parameter: since\nUnexpected parameter: wait_on_rate_limit\nUnexpected parameter: since\nUnexpected parameter: wait_on_rate_limit\nUnexpected parameter: since\nUnexpected parameter: wait_on_rate_limit\nUnexpected parameter: since\nUnexpected parameter: wait_on_rate_limit\nUnexpected parameter: since\nUnexpected parameter: wait_on_rate_limit\nUnexpected parameter: since\nUnexpected parameter: wait_on_rate_limit\nUnexpected parameter: since\nUnexpected parameter: wait_on_rate_limit\nUnexpected parameter: since\nUnexpected parameter: wait_on_rate_limit\nUnexpected parameter: since\nUnexpected parameter: wait_on_rate_limit\nUnexpected parameter: since\nUnexpected parameter: wait_on_rate_limit\nUnexpected parameter: since\nUnexpected parameter: wait_on_rate_limit\nUnexpected parameter: since\nUnexpected parameter: wait_on_rate_limit\nUnexpected parameter: since\nUnexpected parameter: wait_on_rate_limit\nUnexpected parameter: since\nUnexpected parameter: wait_on_rate_limit\nUnexpected parameter: since\nUnexpected parameter: wait_on_rate_limit\nUnexpected parameter: since\nUnexpected parameter: wait_on_rate_limit\nUnexpected parameter: since\nUnexpected parameter: wait_on_rate_limit\nUnexpected parameter: since\nUnexpected parameter: wait_on_rate_limit\nUnexpected parameter: since\nUnexpected parameter: wait_on_rate_limit\nUnexpected parameter: since\nUnexpected parameter: wait_on_rate_limit\nUnexpected parameter: since\nUnexpected parameter: wait_on_rate_limit\nUnexpected parameter: since\nUnexpected parameter: wait_on_rate_limit\nUnexpected parameter: since\nUnexpected parameter: wait_on_rate_limit\nUnexpected parameter: since\nUnexpected parameter: wait_on_rate_limit\nUnexpected parameter: since\nUnexpected parameter: wait_on_rate_limit\nUnexpected parameter: since\nUnexpected parameter: wait_on_rate_limit\nUnexpected parameter: since\nUnexpected parameter: wait_on_rate_limit\nUnexpected parameter: since\nUnexpected parameter: wait_on_rate_limit\nUnexpected parameter: since\nUnexpected parameter: wait_on_rate_limit\nUnexpected parameter: since\nUnexpected parameter: wait_on_rate_limit\nUnexpected parameter: since\nUnexpected parameter: wait_on_rate_limit\nUnexpected parameter: since\nUnexpected parameter: wait_on_rate_limit\nUnexpected parameter: since\nUnexpected parameter: wait_on_rate_limit\nUnexpected parameter: since\nUnexpected parameter: wait_on_rate_limit\nUnexpected parameter: since\nUnexpected parameter: wait_on_rate_limit\nUnexpected parameter: since\nUnexpected parameter: wait_on_rate_limit\nUnexpected parameter: since\nUnexpected parameter: wait_on_rate_limit\nUnexpected parameter: since\nUnexpected parameter: wait_on_rate_limit\nUnexpected parameter: since\nUnexpected parameter: wait_on_rate_limit\nUnexpected parameter: since\nUnexpected parameter: wait_on_rate_limit\nUnexpected parameter: since\nUnexpected parameter: wait_on_rate_limit\nUnexpected parameter: since\nUnexpected parameter: wait_on_rate_limit\nUnexpected parameter: since\nUnexpected parameter: wait_on_rate_limit\nUnexpected parameter: since\nUnexpected parameter: wait_on_rate_limit\nUnexpected parameter: since\n"
    },
    {
     "ename": "TooManyRequests",
     "evalue": "429 Too Many Requests\n88 - Rate limit exceeded",
     "output_type": "error",
     "traceback": [
      "\u001b[0;31m---------------------------------------------------------------------------\u001b[0m",
      "\u001b[0;31mTooManyRequests\u001b[0m                           Traceback (most recent call last)",
      "\u001b[0;32m<ipython-input-5-09648c9b038f>\u001b[0m in \u001b[0;36m<module>\u001b[0;34m\u001b[0m\n\u001b[1;32m      3\u001b[0m \u001b[0mdate_since\u001b[0m \u001b[0;34m=\u001b[0m \u001b[0;34m\"2022-04-29\"\u001b[0m\u001b[0;34m\u001b[0m\u001b[0;34m\u001b[0m\u001b[0m\n\u001b[1;32m      4\u001b[0m \u001b[0mdate_until\u001b[0m \u001b[0;34m=\u001b[0m \u001b[0;34m\"2022-04-30\"\u001b[0m\u001b[0;34m\u001b[0m\u001b[0;34m\u001b[0m\u001b[0m\n\u001b[0;32m----> 5\u001b[0;31m \u001b[0msearch_by_hashtag\u001b[0m\u001b[0;34m(\u001b[0m\u001b[0mapi\u001b[0m\u001b[0;34m,\u001b[0m \u001b[0mdate_since\u001b[0m\u001b[0;34m,\u001b[0m \u001b[0mdate_until\u001b[0m\u001b[0;34m,\u001b[0m \u001b[0mwords\u001b[0m\u001b[0;34m)\u001b[0m\u001b[0;34m\u001b[0m\u001b[0;34m\u001b[0m\u001b[0m\n\u001b[0m",
      "\u001b[0;32m<ipython-input-4-a25ea5111d92>\u001b[0m in \u001b[0;36msearch_by_hashtag\u001b[0;34m(api, date_since, date_until, words)\u001b[0m\n\u001b[1;32m      9\u001b[0m                            tweet_mode='extended').items() #getting all of the tweets\n\u001b[1;32m     10\u001b[0m \u001b[0;34m\u001b[0m\u001b[0m\n\u001b[0;32m---> 11\u001b[0;31m     \u001b[0mlist_tweets\u001b[0m \u001b[0;34m=\u001b[0m \u001b[0;34m[\u001b[0m\u001b[0mtweet\u001b[0m \u001b[0;32mfor\u001b[0m \u001b[0mtweet\u001b[0m \u001b[0;32min\u001b[0m \u001b[0mtweets\u001b[0m\u001b[0;34m]\u001b[0m\u001b[0;34m\u001b[0m\u001b[0;34m\u001b[0m\u001b[0m\n\u001b[0m\u001b[1;32m     12\u001b[0m \u001b[0;34m\u001b[0m\u001b[0m\n\u001b[1;32m     13\u001b[0m \u001b[0;34m\u001b[0m\u001b[0m\n",
      "\u001b[0;32m<ipython-input-4-a25ea5111d92>\u001b[0m in \u001b[0;36m<listcomp>\u001b[0;34m(.0)\u001b[0m\n\u001b[1;32m      9\u001b[0m                            tweet_mode='extended').items() #getting all of the tweets\n\u001b[1;32m     10\u001b[0m \u001b[0;34m\u001b[0m\u001b[0m\n\u001b[0;32m---> 11\u001b[0;31m     \u001b[0mlist_tweets\u001b[0m \u001b[0;34m=\u001b[0m \u001b[0;34m[\u001b[0m\u001b[0mtweet\u001b[0m \u001b[0;32mfor\u001b[0m \u001b[0mtweet\u001b[0m \u001b[0;32min\u001b[0m \u001b[0mtweets\u001b[0m\u001b[0;34m]\u001b[0m\u001b[0;34m\u001b[0m\u001b[0;34m\u001b[0m\u001b[0m\n\u001b[0m\u001b[1;32m     12\u001b[0m \u001b[0;34m\u001b[0m\u001b[0m\n\u001b[1;32m     13\u001b[0m \u001b[0;34m\u001b[0m\u001b[0m\n",
      "\u001b[0;32m~/opt/anaconda3/lib/python3.8/site-packages/tweepy/cursor.py\u001b[0m in \u001b[0;36m__next__\u001b[0;34m(self)\u001b[0m\n\u001b[1;32m     84\u001b[0m \u001b[0;34m\u001b[0m\u001b[0m\n\u001b[1;32m     85\u001b[0m     \u001b[0;32mdef\u001b[0m \u001b[0m__next__\u001b[0m\u001b[0;34m(\u001b[0m\u001b[0mself\u001b[0m\u001b[0;34m)\u001b[0m\u001b[0;34m:\u001b[0m\u001b[0;34m\u001b[0m\u001b[0;34m\u001b[0m\u001b[0m\n\u001b[0;32m---> 86\u001b[0;31m         \u001b[0;32mreturn\u001b[0m \u001b[0mself\u001b[0m\u001b[0;34m.\u001b[0m\u001b[0mnext\u001b[0m\u001b[0;34m(\u001b[0m\u001b[0;34m)\u001b[0m\u001b[0;34m\u001b[0m\u001b[0;34m\u001b[0m\u001b[0m\n\u001b[0m\u001b[1;32m     87\u001b[0m \u001b[0;34m\u001b[0m\u001b[0m\n\u001b[1;32m     88\u001b[0m     \u001b[0;32mdef\u001b[0m \u001b[0mnext\u001b[0m\u001b[0;34m(\u001b[0m\u001b[0mself\u001b[0m\u001b[0;34m)\u001b[0m\u001b[0;34m:\u001b[0m\u001b[0;34m\u001b[0m\u001b[0;34m\u001b[0m\u001b[0m\n",
      "\u001b[0;32m~/opt/anaconda3/lib/python3.8/site-packages/tweepy/cursor.py\u001b[0m in \u001b[0;36mnext\u001b[0;34m(self)\u001b[0m\n\u001b[1;32m    284\u001b[0m         \u001b[0;32mif\u001b[0m \u001b[0mself\u001b[0m\u001b[0;34m.\u001b[0m\u001b[0mcurrent_page\u001b[0m \u001b[0;32mis\u001b[0m \u001b[0;32mNone\u001b[0m \u001b[0;32mor\u001b[0m \u001b[0mself\u001b[0m\u001b[0;34m.\u001b[0m\u001b[0mpage_index\u001b[0m \u001b[0;34m==\u001b[0m \u001b[0mlen\u001b[0m\u001b[0;34m(\u001b[0m\u001b[0mself\u001b[0m\u001b[0;34m.\u001b[0m\u001b[0mcurrent_page\u001b[0m\u001b[0;34m)\u001b[0m \u001b[0;34m-\u001b[0m \u001b[0;36m1\u001b[0m\u001b[0;34m:\u001b[0m\u001b[0;34m\u001b[0m\u001b[0;34m\u001b[0m\u001b[0m\n\u001b[1;32m    285\u001b[0m             \u001b[0;31m# Reached end of current page, get the next page...\u001b[0m\u001b[0;34m\u001b[0m\u001b[0;34m\u001b[0m\u001b[0;34m\u001b[0m\u001b[0m\n\u001b[0;32m--> 286\u001b[0;31m             \u001b[0mself\u001b[0m\u001b[0;34m.\u001b[0m\u001b[0mcurrent_page\u001b[0m \u001b[0;34m=\u001b[0m \u001b[0mnext\u001b[0m\u001b[0;34m(\u001b[0m\u001b[0mself\u001b[0m\u001b[0;34m.\u001b[0m\u001b[0mpage_iterator\u001b[0m\u001b[0;34m)\u001b[0m\u001b[0;34m\u001b[0m\u001b[0;34m\u001b[0m\u001b[0m\n\u001b[0m\u001b[1;32m    287\u001b[0m             \u001b[0;32mwhile\u001b[0m \u001b[0mlen\u001b[0m\u001b[0;34m(\u001b[0m\u001b[0mself\u001b[0m\u001b[0;34m.\u001b[0m\u001b[0mcurrent_page\u001b[0m\u001b[0;34m)\u001b[0m \u001b[0;34m==\u001b[0m \u001b[0;36m0\u001b[0m\u001b[0;34m:\u001b[0m\u001b[0;34m\u001b[0m\u001b[0;34m\u001b[0m\u001b[0m\n\u001b[1;32m    288\u001b[0m                 \u001b[0mself\u001b[0m\u001b[0;34m.\u001b[0m\u001b[0mcurrent_page\u001b[0m \u001b[0;34m=\u001b[0m \u001b[0mnext\u001b[0m\u001b[0;34m(\u001b[0m\u001b[0mself\u001b[0m\u001b[0;34m.\u001b[0m\u001b[0mpage_iterator\u001b[0m\u001b[0;34m)\u001b[0m\u001b[0;34m\u001b[0m\u001b[0;34m\u001b[0m\u001b[0m\n",
      "\u001b[0;32m~/opt/anaconda3/lib/python3.8/site-packages/tweepy/cursor.py\u001b[0m in \u001b[0;36m__next__\u001b[0;34m(self)\u001b[0m\n\u001b[1;32m     84\u001b[0m \u001b[0;34m\u001b[0m\u001b[0m\n\u001b[1;32m     85\u001b[0m     \u001b[0;32mdef\u001b[0m \u001b[0m__next__\u001b[0m\u001b[0;34m(\u001b[0m\u001b[0mself\u001b[0m\u001b[0;34m)\u001b[0m\u001b[0;34m:\u001b[0m\u001b[0;34m\u001b[0m\u001b[0;34m\u001b[0m\u001b[0m\n\u001b[0;32m---> 86\u001b[0;31m         \u001b[0;32mreturn\u001b[0m \u001b[0mself\u001b[0m\u001b[0;34m.\u001b[0m\u001b[0mnext\u001b[0m\u001b[0;34m(\u001b[0m\u001b[0;34m)\u001b[0m\u001b[0;34m\u001b[0m\u001b[0;34m\u001b[0m\u001b[0m\n\u001b[0m\u001b[1;32m     87\u001b[0m \u001b[0;34m\u001b[0m\u001b[0m\n\u001b[1;32m     88\u001b[0m     \u001b[0;32mdef\u001b[0m \u001b[0mnext\u001b[0m\u001b[0;34m(\u001b[0m\u001b[0mself\u001b[0m\u001b[0;34m)\u001b[0m\u001b[0;34m:\u001b[0m\u001b[0;34m\u001b[0m\u001b[0;34m\u001b[0m\u001b[0m\n",
      "\u001b[0;32m~/opt/anaconda3/lib/python3.8/site-packages/tweepy/cursor.py\u001b[0m in \u001b[0;36mnext\u001b[0;34m(self)\u001b[0m\n\u001b[1;32m    165\u001b[0m \u001b[0;34m\u001b[0m\u001b[0m\n\u001b[1;32m    166\u001b[0m         \u001b[0;32mif\u001b[0m \u001b[0mself\u001b[0m\u001b[0;34m.\u001b[0m\u001b[0mindex\u001b[0m \u001b[0;34m>=\u001b[0m \u001b[0mlen\u001b[0m\u001b[0;34m(\u001b[0m\u001b[0mself\u001b[0m\u001b[0;34m.\u001b[0m\u001b[0mresults\u001b[0m\u001b[0;34m)\u001b[0m \u001b[0;34m-\u001b[0m \u001b[0;36m1\u001b[0m\u001b[0;34m:\u001b[0m\u001b[0;34m\u001b[0m\u001b[0;34m\u001b[0m\u001b[0m\n\u001b[0;32m--> 167\u001b[0;31m             \u001b[0mdata\u001b[0m \u001b[0;34m=\u001b[0m \u001b[0mself\u001b[0m\u001b[0;34m.\u001b[0m\u001b[0mmethod\u001b[0m\u001b[0;34m(\u001b[0m\u001b[0mmax_id\u001b[0m\u001b[0;34m=\u001b[0m\u001b[0mself\u001b[0m\u001b[0;34m.\u001b[0m\u001b[0mmax_id\u001b[0m\u001b[0;34m,\u001b[0m \u001b[0mparser\u001b[0m\u001b[0;34m=\u001b[0m\u001b[0mRawParser\u001b[0m\u001b[0;34m(\u001b[0m\u001b[0;34m)\u001b[0m\u001b[0;34m,\u001b[0m \u001b[0;34m*\u001b[0m\u001b[0mself\u001b[0m\u001b[0;34m.\u001b[0m\u001b[0margs\u001b[0m\u001b[0;34m,\u001b[0m \u001b[0;34m**\u001b[0m\u001b[0mself\u001b[0m\u001b[0;34m.\u001b[0m\u001b[0mkwargs\u001b[0m\u001b[0;34m)\u001b[0m\u001b[0;34m\u001b[0m\u001b[0;34m\u001b[0m\u001b[0m\n\u001b[0m\u001b[1;32m    168\u001b[0m \u001b[0;34m\u001b[0m\u001b[0m\n\u001b[1;32m    169\u001b[0m             \u001b[0;31m# This is a special invocation that returns the underlying\u001b[0m\u001b[0;34m\u001b[0m\u001b[0;34m\u001b[0m\u001b[0;34m\u001b[0m\u001b[0m\n",
      "\u001b[0;32m~/opt/anaconda3/lib/python3.8/site-packages/tweepy/api.py\u001b[0m in \u001b[0;36mwrapper\u001b[0;34m(*args, **kwargs)\u001b[0m\n\u001b[1;32m     31\u001b[0m         \u001b[0;34m@\u001b[0m\u001b[0mfunctools\u001b[0m\u001b[0;34m.\u001b[0m\u001b[0mwraps\u001b[0m\u001b[0;34m(\u001b[0m\u001b[0mmethod\u001b[0m\u001b[0;34m)\u001b[0m\u001b[0;34m\u001b[0m\u001b[0;34m\u001b[0m\u001b[0m\n\u001b[1;32m     32\u001b[0m         \u001b[0;32mdef\u001b[0m \u001b[0mwrapper\u001b[0m\u001b[0;34m(\u001b[0m\u001b[0;34m*\u001b[0m\u001b[0margs\u001b[0m\u001b[0;34m,\u001b[0m \u001b[0;34m**\u001b[0m\u001b[0mkwargs\u001b[0m\u001b[0;34m)\u001b[0m\u001b[0;34m:\u001b[0m\u001b[0;34m\u001b[0m\u001b[0;34m\u001b[0m\u001b[0m\n\u001b[0;32m---> 33\u001b[0;31m             \u001b[0;32mreturn\u001b[0m \u001b[0mmethod\u001b[0m\u001b[0;34m(\u001b[0m\u001b[0;34m*\u001b[0m\u001b[0margs\u001b[0m\u001b[0;34m,\u001b[0m \u001b[0;34m**\u001b[0m\u001b[0mkwargs\u001b[0m\u001b[0;34m)\u001b[0m\u001b[0;34m\u001b[0m\u001b[0;34m\u001b[0m\u001b[0m\n\u001b[0m\u001b[1;32m     34\u001b[0m         \u001b[0mwrapper\u001b[0m\u001b[0;34m.\u001b[0m\u001b[0mpagination_mode\u001b[0m \u001b[0;34m=\u001b[0m \u001b[0mmode\u001b[0m\u001b[0;34m\u001b[0m\u001b[0;34m\u001b[0m\u001b[0m\n\u001b[1;32m     35\u001b[0m         \u001b[0;32mreturn\u001b[0m \u001b[0mwrapper\u001b[0m\u001b[0;34m\u001b[0m\u001b[0;34m\u001b[0m\u001b[0m\n",
      "\u001b[0;32m~/opt/anaconda3/lib/python3.8/site-packages/tweepy/api.py\u001b[0m in \u001b[0;36mwrapper\u001b[0;34m(*args, **kwargs)\u001b[0m\n\u001b[1;32m     44\u001b[0m             \u001b[0mkwargs\u001b[0m\u001b[0;34m[\u001b[0m\u001b[0;34m'payload_list'\u001b[0m\u001b[0;34m]\u001b[0m \u001b[0;34m=\u001b[0m \u001b[0mpayload_list\u001b[0m\u001b[0;34m\u001b[0m\u001b[0;34m\u001b[0m\u001b[0m\n\u001b[1;32m     45\u001b[0m             \u001b[0mkwargs\u001b[0m\u001b[0;34m[\u001b[0m\u001b[0;34m'payload_type'\u001b[0m\u001b[0;34m]\u001b[0m \u001b[0;34m=\u001b[0m \u001b[0mpayload_type\u001b[0m\u001b[0;34m\u001b[0m\u001b[0;34m\u001b[0m\u001b[0m\n\u001b[0;32m---> 46\u001b[0;31m             \u001b[0;32mreturn\u001b[0m \u001b[0mmethod\u001b[0m\u001b[0;34m(\u001b[0m\u001b[0;34m*\u001b[0m\u001b[0margs\u001b[0m\u001b[0;34m,\u001b[0m \u001b[0;34m**\u001b[0m\u001b[0mkwargs\u001b[0m\u001b[0;34m)\u001b[0m\u001b[0;34m\u001b[0m\u001b[0;34m\u001b[0m\u001b[0m\n\u001b[0m\u001b[1;32m     47\u001b[0m         \u001b[0mwrapper\u001b[0m\u001b[0;34m.\u001b[0m\u001b[0mpayload_list\u001b[0m \u001b[0;34m=\u001b[0m \u001b[0mpayload_list\u001b[0m\u001b[0;34m\u001b[0m\u001b[0;34m\u001b[0m\u001b[0m\n\u001b[1;32m     48\u001b[0m         \u001b[0mwrapper\u001b[0m\u001b[0;34m.\u001b[0m\u001b[0mpayload_type\u001b[0m \u001b[0;34m=\u001b[0m \u001b[0mpayload_type\u001b[0m\u001b[0;34m\u001b[0m\u001b[0;34m\u001b[0m\u001b[0m\n",
      "\u001b[0;32m~/opt/anaconda3/lib/python3.8/site-packages/tweepy/api.py\u001b[0m in \u001b[0;36msearch_tweets\u001b[0;34m(self, q, **kwargs)\u001b[0m\n\u001b[1;32m   1263\u001b[0m         \u001b[0mhttps\u001b[0m\u001b[0;34m:\u001b[0m\u001b[0;34m//\u001b[0m\u001b[0mdeveloper\u001b[0m\u001b[0;34m.\u001b[0m\u001b[0mtwitter\u001b[0m\u001b[0;34m.\u001b[0m\u001b[0mcom\u001b[0m\u001b[0;34m/\u001b[0m\u001b[0men\u001b[0m\u001b[0;34m/\u001b[0m\u001b[0mdocs\u001b[0m\u001b[0;34m/\u001b[0m\u001b[0mtwitter\u001b[0m\u001b[0;34m-\u001b[0m\u001b[0mapi\u001b[0m\u001b[0;34m/\u001b[0m\u001b[0mv1\u001b[0m\u001b[0;34m/\u001b[0m\u001b[0mtweets\u001b[0m\u001b[0;34m/\u001b[0m\u001b[0msearch\u001b[0m\u001b[0;34m/\u001b[0m\u001b[0mapi\u001b[0m\u001b[0;34m-\u001b[0m\u001b[0mreference\u001b[0m\u001b[0;34m/\u001b[0m\u001b[0mget\u001b[0m\u001b[0;34m-\u001b[0m\u001b[0msearch\u001b[0m\u001b[0;34m-\u001b[0m\u001b[0mtweets\u001b[0m\u001b[0;34m\u001b[0m\u001b[0;34m\u001b[0m\u001b[0m\n\u001b[1;32m   1264\u001b[0m         \"\"\"\n\u001b[0;32m-> 1265\u001b[0;31m         return self.request(\n\u001b[0m\u001b[1;32m   1266\u001b[0m             'GET', 'search/tweets', endpoint_parameters=(\n\u001b[1;32m   1267\u001b[0m                 \u001b[0;34m'q'\u001b[0m\u001b[0;34m,\u001b[0m \u001b[0;34m'geocode'\u001b[0m\u001b[0;34m,\u001b[0m \u001b[0;34m'lang'\u001b[0m\u001b[0;34m,\u001b[0m \u001b[0;34m'locale'\u001b[0m\u001b[0;34m,\u001b[0m \u001b[0;34m'result_type'\u001b[0m\u001b[0;34m,\u001b[0m \u001b[0;34m'count'\u001b[0m\u001b[0;34m,\u001b[0m\u001b[0;34m\u001b[0m\u001b[0;34m\u001b[0m\u001b[0m\n",
      "\u001b[0;32m~/opt/anaconda3/lib/python3.8/site-packages/tweepy/api.py\u001b[0m in \u001b[0;36mrequest\u001b[0;34m(self, method, endpoint, endpoint_parameters, params, headers, json_payload, parser, payload_list, payload_type, post_data, files, require_auth, return_cursors, upload_api, use_cache, **kwargs)\u001b[0m\n\u001b[1;32m    261\u001b[0m                 \u001b[0;32mraise\u001b[0m \u001b[0mNotFound\u001b[0m\u001b[0;34m(\u001b[0m\u001b[0mresp\u001b[0m\u001b[0;34m)\u001b[0m\u001b[0;34m\u001b[0m\u001b[0;34m\u001b[0m\u001b[0m\n\u001b[1;32m    262\u001b[0m             \u001b[0;32mif\u001b[0m \u001b[0mresp\u001b[0m\u001b[0;34m.\u001b[0m\u001b[0mstatus_code\u001b[0m \u001b[0;34m==\u001b[0m \u001b[0;36m429\u001b[0m\u001b[0;34m:\u001b[0m\u001b[0;34m\u001b[0m\u001b[0;34m\u001b[0m\u001b[0m\n\u001b[0;32m--> 263\u001b[0;31m                 \u001b[0;32mraise\u001b[0m \u001b[0mTooManyRequests\u001b[0m\u001b[0;34m(\u001b[0m\u001b[0mresp\u001b[0m\u001b[0;34m)\u001b[0m\u001b[0;34m\u001b[0m\u001b[0;34m\u001b[0m\u001b[0m\n\u001b[0m\u001b[1;32m    264\u001b[0m             \u001b[0;32mif\u001b[0m \u001b[0mresp\u001b[0m\u001b[0;34m.\u001b[0m\u001b[0mstatus_code\u001b[0m \u001b[0;34m>=\u001b[0m \u001b[0;36m500\u001b[0m\u001b[0;34m:\u001b[0m\u001b[0;34m\u001b[0m\u001b[0;34m\u001b[0m\u001b[0m\n\u001b[1;32m    265\u001b[0m                 \u001b[0;32mraise\u001b[0m \u001b[0mTwitterServerError\u001b[0m\u001b[0;34m(\u001b[0m\u001b[0mresp\u001b[0m\u001b[0;34m)\u001b[0m\u001b[0;34m\u001b[0m\u001b[0;34m\u001b[0m\u001b[0m\n",
      "\u001b[0;31mTooManyRequests\u001b[0m: 429 Too Many Requests\n88 - Rate limit exceeded"
     ]
    }
   ],
   "execution_count": null
  },
  {
   "cell_type": "markdown",
   "source": "___",
   "metadata": {
    "cell_id": "00005-3d22d193-0bf0-48f2-a440-b9cd6edc9d9e",
    "deepnote_cell_type": "markdown",
    "deepnote_cell_height": 46
   }
  },
  {
   "cell_type": "markdown",
   "source": "# Use this one:",
   "metadata": {
    "cell_id": "00006-c69c96e5-56b3-49d9-b93b-080790a64554",
    "deepnote_cell_type": "markdown",
    "deepnote_cell_height": 82
   }
  },
  {
   "cell_type": "code",
   "metadata": {
    "scrolled": true,
    "cell_id": "00007-54869991-d9a8-42aa-8000-b2758c99d0cb",
    "deepnote_to_be_reexecuted": false,
    "source_hash": "a7a86e01",
    "execution_start": 1651751293514,
    "owner_user_id": "4e4b7b69-e115-4b7c-8884-24da3b9294bc",
    "deepnote_cell_type": "code",
    "deepnote_cell_height": 10495
   },
   "source": "# Python Script to Extract tweets of a\n# particular Hashtag using Tweepy and Pandas\n\n# import modules\nimport pandas as pd\nimport tweepy\n\n# function to display data of each tweet\ndef printtweetdata(n, ith_tweet):\n\t\tprint()\n\t\tprint(f\"Tweet {n}:\")\n\t\tprint(f\"Username:{ith_tweet[0]}\")\n\t\tprint(f\"Description:{ith_tweet[1]}\")\n\t\tprint(f\"Location:{ith_tweet[2]}\")\n\t\tprint(f\"Following Count:{ith_tweet[3]}\")\n\t\tprint(f\"Follower Count:{ith_tweet[4]}\")\n\t\tprint(f\"Total Tweets:{ith_tweet[5]}\")\n\t\tprint(f\"Retweet Count:{ith_tweet[6]}\")\n\t\tprint(f\"Tweet Text:{ith_tweet[7]}\")\n\t\tprint(f\"Hashtags Used:{ith_tweet[8]}\")\n\n\n# function to perform data extraction\ndef scrape(words, date_since, numtweet):\n\n\t\t# Creating DataFrame using pandas\n\t\tdb = pd.DataFrame(columns=['username',\n\t\t\t\t\t\t\t\t'description',\n\t\t\t\t\t\t\t\t'location',\n\t\t\t\t\t\t\t\t'following',\n\t\t\t\t\t\t\t\t'followers',\n\t\t\t\t\t\t\t\t'totaltweets',\n\t\t\t\t\t\t\t\t'retweetcount',\n\t\t\t\t\t\t\t\t'text',\n\t\t\t\t\t\t\t\t'hashtags'])\n\n\t\t# We are using .Cursor() to search\n\t\t# through twitter for the required tweets.\n\t\t# The number of tweets can be\n\t\t# restricted using .items(number of tweets)\n\t\ttweets = tweepy.Cursor(api.search_tweets,\n\t\t\t\t\t\t\twords, lang=\"en\",\n\t\t\t\t\t\t\tsince_id=date_since,\n\t\t\t\t\t\t\ttweet_mode='extended').items(numtweet)\n\n\n\t\t# .Cursor() returns an iterable object. Each item in\n\t\t# the iterator has various attributes\n\t\t# that you can access to\n\t\t# get information about each tweet\n\t\tlist_tweets = [tweet for tweet in tweets]\n\n\t\t# Counter to maintain Tweet Count\n\t\ti = 1\n\n\t\t# we will iterate over each tweet in the\n\t\t# list for extracting information about each tweet\n\t\tfor tweet in list_tweets:\n\t\t\t\tusername = tweet.user.screen_name\n\t\t\t\tdescription = tweet.user.description\n\t\t\t\tlocation = tweet.user.location\n\t\t\t\tfollowing = tweet.user.friends_count\n\t\t\t\tfollowers = tweet.user.followers_count\n\t\t\t\ttotaltweets = tweet.user.statuses_count\n\t\t\t\tretweetcount = tweet.retweet_count\n\t\t\t\thashtags = tweet.entities['hashtags']\n\n\t\t\t\t# Retweets can be distinguished by\n\t\t\t\t# a retweeted_status attribute,\n\t\t\t\t# in case it is an invalid reference,\n\t\t\t\t# except block will be executed\n\t\t\t\ttry:\n\t\t\t\t\t\ttext = tweet.retweeted_status.full_text\n\t\t\t\texcept AttributeError:\n\t\t\t\t\t\ttext = tweet.full_text\n\t\t\t\thashtext = list()\n\t\t\t\tfor j in range(0, len(hashtags)):\n\t\t\t\t\t\thashtext.append(hashtags[j]['text'])\n\n\t\t\t\t# Here we are appending all the\n\t\t\t\t# extracted information in the DataFrame\n\t\t\t\tith_tweet = [username, description,\n\t\t\t\t\t\t\tlocation, following,\n\t\t\t\t\t\t\tfollowers, totaltweets,\n\t\t\t\t\t\t\tretweetcount, text, hashtext]\n\t\t\t\tdb.loc[len(db)] = ith_tweet\n\n\t\t\t\t# Function call to print tweet data on screen\n\t\t\t\tprinttweetdata(i, ith_tweet)\n\t\t\t\ti = i+1\n\t\tfilename = 'scraped_tweets.csv'\n\n\t\t# we will save our database as a CSV file.\n\t\tdb.to_csv(filename)\n\nif __name__ == '__main__':\n\n\t\t# Enter your own credentials obtained\n\t\t# from your developer account\n\t\tconsumer_key = 'SUxVgkJyHx1h9CSWYQ1n7ZPRB'\n\t\tconsumer_secret = 'QAnvbqILy5etrrysaAyVDTf5UOoYhbZK1twEmty60RY1MiiQI8'\n\t\taccess_token = '1113067170903154691-qhfOUOLz1uonmKxHOOftR2tdSAPdMd'\n\t\taccess_token_secret = 'zY0WN72WlxTf5Mtfr3JmHtvYZD6GEgv6v40iNoqe9WXkB'\n\n\t\tauth = tweepy.OAuthHandler(consumer_key, consumer_secret)\n\t\tauth.set_access_token(access_token, access_token_secret)\n\t\tapi = tweepy.API(auth)\n\n\t\t# Enter Hashtag and initial date\n\t\tprint(\"Enter Twitter HashTag to search for\")\n\t\twords = input()\n\t\tprint(\"Enter Date since The Tweets are required in yyyy-mm--dd\")\n\t\tdate_since = input()\n\n\t\t# number of tweets you want to extract in one run\n\t\tnumtweet = 500\n\t\tscrape(words, date_since, numtweet)\n\t\tprint('Scraping has completed!')\n",
   "outputs": [
    {
     "name": "stdout",
     "text": "Enter Twitter HashTag to search for\n",
     "output_type": "stream"
    }
   ],
   "execution_count": null
  },
  {
   "cell_type": "code",
   "metadata": {
    "cell_id": "00008-d2711fc5-eb68-4900-9a56-f4ba3dba4639",
    "deepnote_to_be_reexecuted": true,
    "source_hash": "c95798c3",
    "deepnote_cell_type": "code",
    "deepnote_cell_height": 497.1875,
    "deepnote_output_heights": [
     382.1875
    ]
   },
   "source": "df =pd.read_csv('scraped_tweets.csv')\ndf",
   "outputs": [
    {
     "data": {
      "text/html": "<div>\n<style scoped>\n    .dataframe tbody tr th:only-of-type {\n        vertical-align: middle;\n    }\n\n    .dataframe tbody tr th {\n        vertical-align: top;\n    }\n\n    .dataframe thead th {\n        text-align: right;\n    }\n</style>\n<table border=\"1\" class=\"dataframe\">\n  <thead>\n    <tr style=\"text-align: right;\">\n      <th></th>\n      <th>Unnamed: 0</th>\n      <th>username</th>\n      <th>description</th>\n      <th>location</th>\n      <th>following</th>\n      <th>followers</th>\n      <th>totaltweets</th>\n      <th>retweetcount</th>\n      <th>text</th>\n      <th>hashtags</th>\n    </tr>\n  </thead>\n  <tbody>\n    <tr>\n      <th>0</th>\n      <td>0</td>\n      <td>hongnho_GH</td>\n      <td>for NU'EST and ONEUS</td>\n      <td>NaN</td>\n      <td>76</td>\n      <td>3</td>\n      <td>4183</td>\n      <td>20</td>\n      <td>happy children's day to babies oneus 👶🏼 https:...</td>\n      <td>[]</td>\n    </tr>\n    <tr>\n      <th>1</th>\n      <td>1</td>\n      <td>kwekumoles</td>\n      <td>kindness🤹|chelsea football 🔥||on Top</td>\n      <td>Kumasi, Ghana</td>\n      <td>329</td>\n      <td>653</td>\n      <td>6222</td>\n      <td>0</td>\n      <td>@POLONGO_GH Your dreaming</td>\n      <td>[]</td>\n    </tr>\n    <tr>\n      <th>2</th>\n      <td>2</td>\n      <td>brakutzz</td>\n      <td>God's Girl, yeah •budding A&amp;R •Music Curator•V...</td>\n      <td>NaN</td>\n      <td>2717</td>\n      <td>8405</td>\n      <td>45889</td>\n      <td>5</td>\n      <td>Update Your Playlist With Throwback Thursday 💛...</td>\n      <td>[]</td>\n    </tr>\n    <tr>\n      <th>3</th>\n      <td>3</td>\n      <td>iceses_gh</td>\n      <td>@arsenal over girlfriend</td>\n      <td>Greater Accra, Ghana</td>\n      <td>3026</td>\n      <td>2978</td>\n      <td>60076</td>\n      <td>7</td>\n      <td>Ex paddies paddying exes to make me look funny...</td>\n      <td>[]</td>\n    </tr>\n    <tr>\n      <th>4</th>\n      <td>4</td>\n      <td>TamatokeC</td>\n      <td>| @manchester united |Young Otchie|Sarcasm|Sar...</td>\n      <td>Earth</td>\n      <td>117</td>\n      <td>415</td>\n      <td>1046</td>\n      <td>0</td>\n      <td>@Fante_ni @BoyKelzz @AddyMavis @IzzatElKhawaja...</td>\n      <td>[]</td>\n    </tr>\n    <tr>\n      <th>...</th>\n      <td>...</td>\n      <td>...</td>\n      <td>...</td>\n      <td>...</td>\n      <td>...</td>\n      <td>...</td>\n      <td>...</td>\n      <td>...</td>\n      <td>...</td>\n      <td>...</td>\n    </tr>\n    <tr>\n      <th>495</th>\n      <td>495</td>\n      <td>Got2Luv_MeL</td>\n      <td>opinionated goofball first… everything else, y...</td>\n      <td>Tomball, TX</td>\n      <td>132</td>\n      <td>163</td>\n      <td>20842</td>\n      <td>14</td>\n      <td>Hilarious that #GH writers think they’re cleve...</td>\n      <td>['GH']</td>\n    </tr>\n    <tr>\n      <th>496</th>\n      <td>496</td>\n      <td>NsiaYaw2</td>\n      <td>NaN</td>\n      <td>NaN</td>\n      <td>2771</td>\n      <td>2325</td>\n      <td>15592</td>\n      <td>18</td>\n      <td>I have read Gh gov'ts response to the embarras...</td>\n      <td>[]</td>\n    </tr>\n    <tr>\n      <th>497</th>\n      <td>497</td>\n      <td>OldSkool_gh</td>\n      <td>IF you know what life is worth, you would look...</td>\n      <td>Ghana</td>\n      <td>3861</td>\n      <td>5676</td>\n      <td>187258</td>\n      <td>13</td>\n      <td>Kwasia, how can you tell me this story. 😂 http...</td>\n      <td>[]</td>\n    </tr>\n    <tr>\n      <th>498</th>\n      <td>498</td>\n      <td>233shadow</td>\n      <td>God | Blogger | Health | Tech | Lifestyle | ht...</td>\n      <td>🇳🇬🇺🇸🇬🇭</td>\n      <td>2673</td>\n      <td>2694</td>\n      <td>9195</td>\n      <td>0</td>\n      <td>BOPP To Pay ¢1.06 Per Share To Shareholders ht...</td>\n      <td>[]</td>\n    </tr>\n    <tr>\n      <th>499</th>\n      <td>499</td>\n      <td>233shadow</td>\n      <td>God | Blogger | Health | Tech | Lifestyle | ht...</td>\n      <td>🇳🇬🇺🇸🇬🇭</td>\n      <td>2673</td>\n      <td>2694</td>\n      <td>9195</td>\n      <td>0</td>\n      <td>Scale-Up Long Term Funding For Industry – AGI ...</td>\n      <td>[]</td>\n    </tr>\n  </tbody>\n</table>\n<p>500 rows × 10 columns</p>\n</div>",
      "text/plain": "     Unnamed: 0     username  \\\n0             0   hongnho_GH   \n1             1   kwekumoles   \n2             2     brakutzz   \n3             3    iceses_gh   \n4             4    TamatokeC   \n..          ...          ...   \n495         495  Got2Luv_MeL   \n496         496     NsiaYaw2   \n497         497  OldSkool_gh   \n498         498    233shadow   \n499         499    233shadow   \n\n                                           description              location  \\\n0                                 for NU'EST and ONEUS                   NaN   \n1                 kindness🤹|chelsea football 🔥||on Top         Kumasi, Ghana   \n2    God's Girl, yeah •budding A&R •Music Curator•V...                   NaN   \n3                             @arsenal over girlfriend  Greater Accra, Ghana   \n4    | @manchester united |Young Otchie|Sarcasm|Sar...                 Earth   \n..                                                 ...                   ...   \n495  opinionated goofball first… everything else, y...           Tomball, TX   \n496                                                NaN                   NaN   \n497  IF you know what life is worth, you would look...                 Ghana   \n498  God | Blogger | Health | Tech | Lifestyle | ht...                🇳🇬🇺🇸🇬🇭   \n499  God | Blogger | Health | Tech | Lifestyle | ht...                🇳🇬🇺🇸🇬🇭   \n\n     following  followers  totaltweets  retweetcount  \\\n0           76          3         4183            20   \n1          329        653         6222             0   \n2         2717       8405        45889             5   \n3         3026       2978        60076             7   \n4          117        415         1046             0   \n..         ...        ...          ...           ...   \n495        132        163        20842            14   \n496       2771       2325        15592            18   \n497       3861       5676       187258            13   \n498       2673       2694         9195             0   \n499       2673       2694         9195             0   \n\n                                                  text hashtags  \n0    happy children's day to babies oneus 👶🏼 https:...       []  \n1                            @POLONGO_GH Your dreaming       []  \n2    Update Your Playlist With Throwback Thursday 💛...       []  \n3    Ex paddies paddying exes to make me look funny...       []  \n4    @Fante_ni @BoyKelzz @AddyMavis @IzzatElKhawaja...       []  \n..                                                 ...      ...  \n495  Hilarious that #GH writers think they’re cleve...   ['GH']  \n496  I have read Gh gov'ts response to the embarras...       []  \n497  Kwasia, how can you tell me this story. 😂 http...       []  \n498  BOPP To Pay ¢1.06 Per Share To Shareholders ht...       []  \n499  Scale-Up Long Term Funding For Industry – AGI ...       []  \n\n[500 rows x 10 columns]"
     },
     "execution_count": 29,
     "metadata": {},
     "output_type": "execute_result"
    }
   ],
   "execution_count": null
  },
  {
   "cell_type": "code",
   "metadata": {
    "cell_id": "00009-2cd85fd8-48eb-4c91-9bc3-65ffd8ab8f90",
    "deepnote_to_be_reexecuted": true,
    "source_hash": "b623e53d",
    "deepnote_cell_type": "code",
    "deepnote_cell_height": 81
   },
   "source": "",
   "execution_count": null,
   "outputs": []
  },
  {
   "cell_type": "markdown",
   "source": "<a style='text-decoration:none;line-height:16px;display:flex;color:#5B5B62;padding:10px;justify-content:end;' href='https://deepnote.com?utm_source=created-in-deepnote-cell&projectId=5d4bb95b-788c-4897-b34f-02e3344e21fe' target=\"_blank\">\n<img alt='Created in deepnote.com' style='display:inline;max-height:16px;margin:0px;margin-right:7.5px;' src='data:image/svg+xml;base64,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' > </img>\nCreated in <span style='font-weight:600;margin-left:4px;'>Deepnote</span></a>",
   "metadata": {
    "tags": [],
    "created_in_deepnote_cell": true,
    "deepnote_cell_type": "markdown"
   }
  }
 ],
 "nbformat": 4,
 "nbformat_minor": 5,
 "metadata": {
  "kernelspec": {
   "display_name": "Python 3",
   "language": "python",
   "name": "python3"
  },
  "language_info": {
   "codemirror_mode": {
    "name": "ipython",
    "version": 3
   },
   "file_extension": ".py",
   "mimetype": "text/x-python",
   "name": "python",
   "nbconvert_exporter": "python",
   "pygments_lexer": "ipython3",
   "version": "3.8.8"
  },
  "deepnote_notebook_id": "2b05b2f7-25fd-4f57-967e-7d992bb07b71",
  "deepnote": {},
  "deepnote_execution_queue": [
   {
    "cellId": "00007-54869991-d9a8-42aa-8000-b2758c99d0cb",
    "sessionId": "dbf486cc-fc0d-4005-807c-133c1765e49d",
    "msgId": "66f83f12-d42a-4662-b575-ac49fc9bf7e2"
   }
  ]
 }
}