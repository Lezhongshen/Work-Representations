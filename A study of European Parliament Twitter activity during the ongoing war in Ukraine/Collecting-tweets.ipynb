{
 "cells": [
  {
   "cell_type": "code",
   "execution_count": null,
   "id": "a504ffc4",
   "metadata": {},
   "outputs": [],
   "source": [
    "#insert your own twitter id via\n",
    "import pandas as pd\n",
    "import copy\n",
    "from bs4 import BeautifulSoup\n",
    "import requests as rq\n",
    "import re\n",
    "import tweepy\n",
    "from AppCred import CONSUMER_KEY, CONSUMER_SECRET\n",
    "from AppCred import ACCESS_TOKEN, ACCESS_TOKEN_SECRET\n",
    "auth = tweepy.OAuthHandler(CONSUMER_KEY, CONSUMER_SECRET)\n",
    "auth.set_access_token(ACCESS_TOKEN, ACCESS_TOKEN_SECRET)\n",
    "api = tweepy.API(auth)"
   ]
  },
  {
   "cell_type": "markdown",
   "id": "7517bc56",
   "metadata": {},
   "source": [
    "___"
   ]
  },
  {
   "cell_type": "code",
   "execution_count": 2,
   "id": "3e4aa12d",
   "metadata": {},
   "outputs": [
    {
     "data": {
      "text/html": [
       "<div>\n",
       "<style scoped>\n",
       "    .dataframe tbody tr th:only-of-type {\n",
       "        vertical-align: middle;\n",
       "    }\n",
       "\n",
       "    .dataframe tbody tr th {\n",
       "        vertical-align: top;\n",
       "    }\n",
       "\n",
       "    .dataframe thead th {\n",
       "        text-align: right;\n",
       "    }\n",
       "</style>\n",
       "<table border=\"1\" class=\"dataframe\">\n",
       "  <thead>\n",
       "    <tr style=\"text-align: right;\">\n",
       "      <th></th>\n",
       "      <th>Unnamed: 0</th>\n",
       "      <th>screen_name</th>\n",
       "    </tr>\n",
       "  </thead>\n",
       "  <tbody>\n",
       "    <tr>\n",
       "      <th>0</th>\n",
       "      <td>0</td>\n",
       "      <td>MaxovaRadka</td>\n",
       "    </tr>\n",
       "    <tr>\n",
       "      <th>1</th>\n",
       "      <td>1</td>\n",
       "      <td>KubiliusA</td>\n",
       "    </tr>\n",
       "    <tr>\n",
       "      <th>2</th>\n",
       "      <td>2</td>\n",
       "      <td>SuncanaGlavak</td>\n",
       "    </tr>\n",
       "    <tr>\n",
       "      <th>3</th>\n",
       "      <td>3</td>\n",
       "      <td>IECarvalhais</td>\n",
       "    </tr>\n",
       "    <tr>\n",
       "      <th>4</th>\n",
       "      <td>4</td>\n",
       "      <td>OKovarikMEP</td>\n",
       "    </tr>\n",
       "    <tr>\n",
       "      <th>...</th>\n",
       "      <td>...</td>\n",
       "      <td>...</td>\n",
       "    </tr>\n",
       "    <tr>\n",
       "      <th>527</th>\n",
       "      <td>527</td>\n",
       "      <td>jonasfernandez</td>\n",
       "    </tr>\n",
       "    <tr>\n",
       "      <th>528</th>\n",
       "      <td>528</td>\n",
       "      <td>KRLS</td>\n",
       "    </tr>\n",
       "    <tr>\n",
       "      <th>529</th>\n",
       "      <td>529</td>\n",
       "      <td>nicogoncas</td>\n",
       "    </tr>\n",
       "    <tr>\n",
       "      <th>530</th>\n",
       "      <td>530</td>\n",
       "      <td>paolodecastro</td>\n",
       "    </tr>\n",
       "    <tr>\n",
       "      <th>531</th>\n",
       "      <td>531</td>\n",
       "      <td>JakopDalunde</td>\n",
       "    </tr>\n",
       "  </tbody>\n",
       "</table>\n",
       "<p>532 rows × 2 columns</p>\n",
       "</div>"
      ],
      "text/plain": [
       "     Unnamed: 0     screen_name\n",
       "0             0     MaxovaRadka\n",
       "1             1       KubiliusA\n",
       "2             2   SuncanaGlavak\n",
       "3             3    IECarvalhais\n",
       "4             4     OKovarikMEP\n",
       "..          ...             ...\n",
       "527         527  jonasfernandez\n",
       "528         528            KRLS\n",
       "529         529      nicogoncas\n",
       "530         530   paolodecastro\n",
       "531         531    JakopDalunde\n",
       "\n",
       "[532 rows x 2 columns]"
      ]
     },
     "execution_count": 2,
     "metadata": {},
     "output_type": "execute_result"
    }
   ],
   "source": [
    "\n",
    "#handles that we need to extract from:\n",
    "df_handles = pd.read_csv('list_mps.csv')\n",
    "df_handles"
   ]
  },
  {
   "cell_type": "code",
   "execution_count": 3,
   "id": "19ebe97d",
   "metadata": {},
   "outputs": [
    {
     "data": {
      "text/plain": [
       "177.33333333333334"
      ]
     },
     "execution_count": 3,
     "metadata": {},
     "output_type": "execute_result"
    }
   ],
   "source": [
    "532/3"
   ]
  },
  {
   "cell_type": "code",
   "execution_count": null,
   "id": "f1c2ed37",
   "metadata": {},
   "outputs": [],
   "source": [
    "#Selection of tweets that we each need to collect:\n",
    "\n",
    "#Morten: 0-170\n",
    "#Martin: 171-341\n",
    "#Lezhong: 342-532"
   ]
  },
  {
   "cell_type": "markdown",
   "id": "57d0a645",
   "metadata": {},
   "source": [
    "___"
   ]
  },
  {
   "cell_type": "code",
   "execution_count": null,
   "id": "9ed6cdb3",
   "metadata": {},
   "outputs": [],
   "source": [
    "#Set the iloc to the tweets you need\n",
    "ex = df_handles['screen_name'].iloc[1:2] #REACHED 239 ()\n",
    "ex"
   ]
  },
  {
   "cell_type": "markdown",
   "id": "267f62dc",
   "metadata": {},
   "source": [
    "____"
   ]
  },
  {
   "cell_type": "code",
   "execution_count": null,
   "id": "e535b6ea",
   "metadata": {},
   "outputs": [],
   "source": [
    "#extract all the tweets from certain period, can seperate into several times\n",
    "\n",
    "\n",
    "import tweepy\n",
    "import datetime\n",
    "import xlsxwriter\n",
    "import sys\n",
    "import pytz\n",
    "\n",
    "# credentials from https://apps.twitter.com/\n",
    "\n",
    "\n",
    "username = sys.argv[1]\n",
    "startDate = datetime.datetime(2022, 2, 20, 0, 0, 0)\n",
    "endDate =   datetime.datetime(2022, 5, 7, 0, 0, 0)\n",
    "\n",
    "utc=pytz.UTC\n",
    "\n",
    "startDate = utc.localize(startDate) \n",
    "endDate = utc.localize(endDate) \n",
    "\n",
    "tweets1 = []\n",
    "\n",
    "\n",
    "for x in ex: #looping through ex that we made above\n",
    "\n",
    "    tmpTweets = api.user_timeline(screen_name = x, tweet_mode = 'extended')\n",
    "    for tweet in tmpTweets:\n",
    "        if tweet.created_at < endDate and tweet.created_at > startDate:\n",
    "            tweets1.append(tweet)\n",
    "\n",
    "    while (tmpTweets[-1].created_at > startDate):\n",
    "        print(\"Last Tweet @\", tmpTweets[-1].created_at, \" - fetching some more\")\n",
    "        tmpTweets = api.user_timeline(screen_name = x, max_id = tmpTweets[-1].id, tweet_mode = 'extended')\n",
    "        for tweet in tmpTweets:\n",
    "            if tweet.created_at < endDate and tweet.created_at > startDate:\n",
    "                tweets1.append(tweet)\n",
    "\n",
    "    # second step- after we get the list for all of the tweets, we make them into a file.\n",
    "\n",
    "    workbook = xlsxwriter.Workbook(x + \".xlsx\")\n",
    "    worksheet = workbook.add_worksheet()\n",
    "    row = 1\n",
    "    for tweet in tweets1:\n",
    "        worksheet.write_string(row, 0, str(x))\n",
    "        worksheet.write_string(row, 1, str(tweet.id))\n",
    "        worksheet.write_string(row, 2, str(tweet.created_at))\n",
    "        worksheet.write(row, 3, tweet.full_text)\n",
    "        worksheet.write(row, 4, tweet.favorite_count)\n",
    "        worksheet.write(row, 5, tweet.retweet_count)\n",
    "        worksheet.write_string(row, 6, str(tweet.in_reply_to_status_id))\n",
    "        row += 1\n",
    "\n",
    "    workbook.close()\n",
    "    print(\"Excel file ready\")"
   ]
  }
 ],
 "metadata": {
  "kernelspec": {
   "display_name": "Python 3",
   "language": "python",
   "name": "python3"
  },
  "language_info": {
   "codemirror_mode": {
    "name": "ipython",
    "version": 3
   },
   "file_extension": ".py",
   "mimetype": "text/x-python",
   "name": "python",
   "nbconvert_exporter": "python",
   "pygments_lexer": "ipython3",
   "version": "3.8.8"
  }
 },
 "nbformat": 4,
 "nbformat_minor": 5
}
