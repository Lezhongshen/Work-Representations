{
 "cells": [
  {
   "cell_type": "markdown",
   "id": "7273c02e",
   "metadata": {},
   "source": [
    "## IMDB analysis"
   ]
  },
  {
   "cell_type": "code",
   "execution_count": 1,
   "id": "6055fa9c",
   "metadata": {},
   "outputs": [],
   "source": [
    "import pandas as pd\n",
    "import numpy as np\n",
    "import seaborn as sns\n",
    "import matplotlib.pyplot as plt\n",
    "import statsmodels.api as sm\n",
    "from statsmodels.formula.api import ols\n",
    "from stargazer.stargazer import Stargazer, LineLocation\n",
    "import statsmodels.formula.api as smf \n",
    "from sklearn.linear_model import LogisticRegression \n"
   ]
  },
  {
   "cell_type": "code",
   "execution_count": 2,
   "id": "c8cdf50e",
   "metadata": {
    "scrolled": true
   },
   "outputs": [
    {
     "data": {
      "text/html": [
       "<div>\n",
       "<style scoped>\n",
       "    .dataframe tbody tr th:only-of-type {\n",
       "        vertical-align: middle;\n",
       "    }\n",
       "\n",
       "    .dataframe tbody tr th {\n",
       "        vertical-align: top;\n",
       "    }\n",
       "\n",
       "    .dataframe thead th {\n",
       "        text-align: right;\n",
       "    }\n",
       "</style>\n",
       "<table border=\"1\" class=\"dataframe\">\n",
       "  <thead>\n",
       "    <tr style=\"text-align: right;\">\n",
       "      <th></th>\n",
       "      <th>name</th>\n",
       "      <th>length(minutes)</th>\n",
       "      <th>genre</th>\n",
       "      <th>rating_10_scale</th>\n",
       "      <th>metascore_100_scale</th>\n",
       "      <th>vote number</th>\n",
       "      <th>us/canada gross(USD/Million)</th>\n",
       "      <th>budget(USD/Million)</th>\n",
       "      <th>opening week gross(USD/Million)</th>\n",
       "      <th>gross world wide(USD/Million)</th>\n",
       "    </tr>\n",
       "  </thead>\n",
       "  <tbody>\n",
       "    <tr>\n",
       "      <th>0</th>\n",
       "      <td>Spider-Man: Far from Home</td>\n",
       "      <td>129</td>\n",
       "      <td>Action, Adventure, Sci-Fi</td>\n",
       "      <td>7.4</td>\n",
       "      <td>69.0</td>\n",
       "      <td>414434</td>\n",
       "      <td>390.53</td>\n",
       "      <td>160.0</td>\n",
       "      <td>92.579212</td>\n",
       "      <td>1131.927996</td>\n",
       "    </tr>\n",
       "    <tr>\n",
       "      <th>1</th>\n",
       "      <td>Avengers: Endgame</td>\n",
       "      <td>181</td>\n",
       "      <td>Action, Adventure, Drama</td>\n",
       "      <td>8.4</td>\n",
       "      <td>78.0</td>\n",
       "      <td>981756</td>\n",
       "      <td>858.37</td>\n",
       "      <td>356.0</td>\n",
       "      <td>357.115007</td>\n",
       "      <td>2797.501328</td>\n",
       "    </tr>\n",
       "    <tr>\n",
       "      <th>2</th>\n",
       "      <td>Klaus</td>\n",
       "      <td>96</td>\n",
       "      <td>Animation, Adventure, Comedy</td>\n",
       "      <td>8.2</td>\n",
       "      <td>65.0</td>\n",
       "      <td>132425</td>\n",
       "      <td>NaN</td>\n",
       "      <td>40.0</td>\n",
       "      <td>NaN</td>\n",
       "      <td>NaN</td>\n",
       "    </tr>\n",
       "    <tr>\n",
       "      <th>3</th>\n",
       "      <td>Last Christmas</td>\n",
       "      <td>103</td>\n",
       "      <td>Comedy, Drama, Fantasy</td>\n",
       "      <td>6.5</td>\n",
       "      <td>50.0</td>\n",
       "      <td>71509</td>\n",
       "      <td>NaN</td>\n",
       "      <td>25.0</td>\n",
       "      <td>11.441055</td>\n",
       "      <td>121.550750</td>\n",
       "    </tr>\n",
       "    <tr>\n",
       "      <th>4</th>\n",
       "      <td>Little Women</td>\n",
       "      <td>135</td>\n",
       "      <td>Drama, Romance</td>\n",
       "      <td>7.8</td>\n",
       "      <td>91.0</td>\n",
       "      <td>176347</td>\n",
       "      <td>108.10</td>\n",
       "      <td>40.0</td>\n",
       "      <td>16.755310</td>\n",
       "      <td>216.601214</td>\n",
       "    </tr>\n",
       "    <tr>\n",
       "      <th>...</th>\n",
       "      <td>...</td>\n",
       "      <td>...</td>\n",
       "      <td>...</td>\n",
       "      <td>...</td>\n",
       "      <td>...</td>\n",
       "      <td>...</td>\n",
       "      <td>...</td>\n",
       "      <td>...</td>\n",
       "      <td>...</td>\n",
       "      <td>...</td>\n",
       "    </tr>\n",
       "    <tr>\n",
       "      <th>495</th>\n",
       "      <td>The Hole in the Ground</td>\n",
       "      <td>90</td>\n",
       "      <td>Drama, Horror, Mystery</td>\n",
       "      <td>5.7</td>\n",
       "      <td>63.0</td>\n",
       "      <td>17820</td>\n",
       "      <td>0.02</td>\n",
       "      <td>NaN</td>\n",
       "      <td>NaN</td>\n",
       "      <td>3.373474</td>\n",
       "    </tr>\n",
       "    <tr>\n",
       "      <th>496</th>\n",
       "      <td>Skyfire</td>\n",
       "      <td>97</td>\n",
       "      <td>Action, Adventure, Drama</td>\n",
       "      <td>5.2</td>\n",
       "      <td>52.0</td>\n",
       "      <td>2667</td>\n",
       "      <td>NaN</td>\n",
       "      <td>NaN</td>\n",
       "      <td>0.000861</td>\n",
       "      <td>24.444590</td>\n",
       "    </tr>\n",
       "    <tr>\n",
       "      <th>497</th>\n",
       "      <td>Overcomer</td>\n",
       "      <td>119</td>\n",
       "      <td>Drama, Family, Sport</td>\n",
       "      <td>6.7</td>\n",
       "      <td>17.0</td>\n",
       "      <td>4559</td>\n",
       "      <td>26.25</td>\n",
       "      <td>5.0</td>\n",
       "      <td>8.146533</td>\n",
       "      <td>38.026103</td>\n",
       "    </tr>\n",
       "    <tr>\n",
       "      <th>498</th>\n",
       "      <td>Dveselu putenis</td>\n",
       "      <td>104</td>\n",
       "      <td>Drama, History, War</td>\n",
       "      <td>7.4</td>\n",
       "      <td>63.0</td>\n",
       "      <td>3822</td>\n",
       "      <td>NaN</td>\n",
       "      <td>NaN</td>\n",
       "      <td>NaN</td>\n",
       "      <td>0.008750</td>\n",
       "    </tr>\n",
       "    <tr>\n",
       "      <th>499</th>\n",
       "      <td>Among the Shadows</td>\n",
       "      <td>96</td>\n",
       "      <td>Horror, Thriller</td>\n",
       "      <td>2.2</td>\n",
       "      <td>NaN</td>\n",
       "      <td>1025</td>\n",
       "      <td>NaN</td>\n",
       "      <td>3.0</td>\n",
       "      <td>NaN</td>\n",
       "      <td>NaN</td>\n",
       "    </tr>\n",
       "  </tbody>\n",
       "</table>\n",
       "<p>500 rows × 10 columns</p>\n",
       "</div>"
      ],
      "text/plain": [
       "                          name  length(minutes)                         genre  \\\n",
       "0    Spider-Man: Far from Home              129     Action, Adventure, Sci-Fi   \n",
       "1            Avengers: Endgame              181      Action, Adventure, Drama   \n",
       "2                        Klaus               96  Animation, Adventure, Comedy   \n",
       "3               Last Christmas              103        Comedy, Drama, Fantasy   \n",
       "4                 Little Women              135                Drama, Romance   \n",
       "..                         ...              ...                           ...   \n",
       "495     The Hole in the Ground               90        Drama, Horror, Mystery   \n",
       "496                    Skyfire               97      Action, Adventure, Drama   \n",
       "497                  Overcomer              119          Drama, Family, Sport   \n",
       "498            Dveselu putenis              104           Drama, History, War   \n",
       "499          Among the Shadows               96              Horror, Thriller   \n",
       "\n",
       "     rating_10_scale  metascore_100_scale  vote number  \\\n",
       "0                7.4                 69.0       414434   \n",
       "1                8.4                 78.0       981756   \n",
       "2                8.2                 65.0       132425   \n",
       "3                6.5                 50.0        71509   \n",
       "4                7.8                 91.0       176347   \n",
       "..               ...                  ...          ...   \n",
       "495              5.7                 63.0        17820   \n",
       "496              5.2                 52.0         2667   \n",
       "497              6.7                 17.0         4559   \n",
       "498              7.4                 63.0         3822   \n",
       "499              2.2                  NaN         1025   \n",
       "\n",
       "     us/canada gross(USD/Million)  budget(USD/Million)  \\\n",
       "0                          390.53                160.0   \n",
       "1                          858.37                356.0   \n",
       "2                             NaN                 40.0   \n",
       "3                             NaN                 25.0   \n",
       "4                          108.10                 40.0   \n",
       "..                            ...                  ...   \n",
       "495                          0.02                  NaN   \n",
       "496                           NaN                  NaN   \n",
       "497                         26.25                  5.0   \n",
       "498                           NaN                  NaN   \n",
       "499                           NaN                  3.0   \n",
       "\n",
       "     opening week gross(USD/Million)  gross world wide(USD/Million)  \n",
       "0                          92.579212                    1131.927996  \n",
       "1                         357.115007                    2797.501328  \n",
       "2                                NaN                            NaN  \n",
       "3                          11.441055                     121.550750  \n",
       "4                          16.755310                     216.601214  \n",
       "..                               ...                            ...  \n",
       "495                              NaN                       3.373474  \n",
       "496                         0.000861                      24.444590  \n",
       "497                         8.146533                      38.026103  \n",
       "498                              NaN                       0.008750  \n",
       "499                              NaN                            NaN  \n",
       "\n",
       "[500 rows x 10 columns]"
      ]
     },
     "execution_count": 2,
     "metadata": {},
     "output_type": "execute_result"
    }
   ],
   "source": [
    "imdb_df = pd.read_csv('imdb.csv')\n",
    "imdb_df"
   ]
  },
  {
   "cell_type": "code",
   "execution_count": 3,
   "id": "6c1a84d1",
   "metadata": {},
   "outputs": [],
   "source": [
    "# classify movies length type in to short, normal and long movie\n",
    "imdb_df.loc[imdb_df['length(minutes)'] < 90, 'movie_length_type'] = 'short'\n",
    "imdb_df.loc[(imdb_df['length(minutes)'] >= 90) & (imdb_df['length(minutes)'] <= 120) , 'movie_length_type'] = 'normal'\n",
    "imdb_df.loc[imdb_df['length(minutes)'] >120 , 'movie_length_type'] = 'long'"
   ]
  },
  {
   "cell_type": "code",
   "execution_count": 4,
   "id": "f38fb059",
   "metadata": {},
   "outputs": [],
   "source": [
    "# rename the columns into proper format\n",
    "imdb_df = imdb_df.rename(columns={\n",
    "    'length(minutes)': 'length_min', \n",
    "    'vote number': 'vote_number_thousand',\n",
    "    'us/canada gross(USD/Million)': 'US_Canada_gross_USD_Million',\n",
    "    'budget(USD/Million)':'budget_USD_Million',\n",
    "    'opening week gross(USD/Million)':'opening_week_gross_USD_Million',\n",
    "    'gross world wide(USD/Million)':'gross_world_USD_Million'\n",
    "    })"
   ]
  },
  {
   "cell_type": "code",
   "execution_count": 5,
   "id": "0543bc2a",
   "metadata": {},
   "outputs": [],
   "source": [
    "# define binary score variable: rating score higher than 7 is considered high score, less than 7 is considered low score\n",
    "imdb_df.loc[imdb_df['rating_10_scale'] >= 7, 'High_low_score'] = 1\n",
    "imdb_df.loc[imdb_df['rating_10_scale'] < 7, 'High_low_score'] = 0\n",
    "imdb_df['High_low_score'] = [int(x) for x in imdb_df['High_low_score']]"
   ]
  },
  {
   "cell_type": "code",
   "execution_count": 6,
   "id": "17c9c8c1",
   "metadata": {},
   "outputs": [],
   "source": [
    "# turn the unit of vote number in to thousand\n",
    "imdb_df['vote_number_thousand'] = [x/1000 for x in imdb_df['vote_number_thousand']]"
   ]
  },
  {
   "cell_type": "code",
   "execution_count": 7,
   "id": "653c7246",
   "metadata": {},
   "outputs": [
    {
     "data": {
      "text/html": [
       "<div>\n",
       "<style scoped>\n",
       "    .dataframe tbody tr th:only-of-type {\n",
       "        vertical-align: middle;\n",
       "    }\n",
       "\n",
       "    .dataframe tbody tr th {\n",
       "        vertical-align: top;\n",
       "    }\n",
       "\n",
       "    .dataframe thead th {\n",
       "        text-align: right;\n",
       "    }\n",
       "</style>\n",
       "<table border=\"1\" class=\"dataframe\">\n",
       "  <thead>\n",
       "    <tr style=\"text-align: right;\">\n",
       "      <th></th>\n",
       "      <th>name</th>\n",
       "      <th>length_min</th>\n",
       "      <th>genre</th>\n",
       "      <th>rating_10_scale</th>\n",
       "      <th>metascore_100_scale</th>\n",
       "      <th>vote_number_thousand</th>\n",
       "      <th>US_Canada_gross_USD_Million</th>\n",
       "      <th>budget_USD_Million</th>\n",
       "      <th>opening_week_gross_USD_Million</th>\n",
       "      <th>gross_world_USD_Million</th>\n",
       "      <th>movie_length_type</th>\n",
       "      <th>High_low_score</th>\n",
       "    </tr>\n",
       "  </thead>\n",
       "  <tbody>\n",
       "    <tr>\n",
       "      <th>0</th>\n",
       "      <td>Spider-Man: Far from Home</td>\n",
       "      <td>129</td>\n",
       "      <td>Action, Adventure, Sci-Fi</td>\n",
       "      <td>7.4</td>\n",
       "      <td>69.0</td>\n",
       "      <td>414.434</td>\n",
       "      <td>390.53</td>\n",
       "      <td>160.0</td>\n",
       "      <td>92.579212</td>\n",
       "      <td>1131.927996</td>\n",
       "      <td>long</td>\n",
       "      <td>1</td>\n",
       "    </tr>\n",
       "    <tr>\n",
       "      <th>1</th>\n",
       "      <td>Avengers: Endgame</td>\n",
       "      <td>181</td>\n",
       "      <td>Action, Adventure, Drama</td>\n",
       "      <td>8.4</td>\n",
       "      <td>78.0</td>\n",
       "      <td>981.756</td>\n",
       "      <td>858.37</td>\n",
       "      <td>356.0</td>\n",
       "      <td>357.115007</td>\n",
       "      <td>2797.501328</td>\n",
       "      <td>long</td>\n",
       "      <td>1</td>\n",
       "    </tr>\n",
       "    <tr>\n",
       "      <th>2</th>\n",
       "      <td>Klaus</td>\n",
       "      <td>96</td>\n",
       "      <td>Animation, Adventure, Comedy</td>\n",
       "      <td>8.2</td>\n",
       "      <td>65.0</td>\n",
       "      <td>132.425</td>\n",
       "      <td>NaN</td>\n",
       "      <td>40.0</td>\n",
       "      <td>NaN</td>\n",
       "      <td>NaN</td>\n",
       "      <td>normal</td>\n",
       "      <td>1</td>\n",
       "    </tr>\n",
       "    <tr>\n",
       "      <th>3</th>\n",
       "      <td>Last Christmas</td>\n",
       "      <td>103</td>\n",
       "      <td>Comedy, Drama, Fantasy</td>\n",
       "      <td>6.5</td>\n",
       "      <td>50.0</td>\n",
       "      <td>71.509</td>\n",
       "      <td>NaN</td>\n",
       "      <td>25.0</td>\n",
       "      <td>11.441055</td>\n",
       "      <td>121.550750</td>\n",
       "      <td>normal</td>\n",
       "      <td>0</td>\n",
       "    </tr>\n",
       "    <tr>\n",
       "      <th>4</th>\n",
       "      <td>Little Women</td>\n",
       "      <td>135</td>\n",
       "      <td>Drama, Romance</td>\n",
       "      <td>7.8</td>\n",
       "      <td>91.0</td>\n",
       "      <td>176.347</td>\n",
       "      <td>108.10</td>\n",
       "      <td>40.0</td>\n",
       "      <td>16.755310</td>\n",
       "      <td>216.601214</td>\n",
       "      <td>long</td>\n",
       "      <td>1</td>\n",
       "    </tr>\n",
       "    <tr>\n",
       "      <th>...</th>\n",
       "      <td>...</td>\n",
       "      <td>...</td>\n",
       "      <td>...</td>\n",
       "      <td>...</td>\n",
       "      <td>...</td>\n",
       "      <td>...</td>\n",
       "      <td>...</td>\n",
       "      <td>...</td>\n",
       "      <td>...</td>\n",
       "      <td>...</td>\n",
       "      <td>...</td>\n",
       "      <td>...</td>\n",
       "    </tr>\n",
       "    <tr>\n",
       "      <th>495</th>\n",
       "      <td>The Hole in the Ground</td>\n",
       "      <td>90</td>\n",
       "      <td>Drama, Horror, Mystery</td>\n",
       "      <td>5.7</td>\n",
       "      <td>63.0</td>\n",
       "      <td>17.820</td>\n",
       "      <td>0.02</td>\n",
       "      <td>NaN</td>\n",
       "      <td>NaN</td>\n",
       "      <td>3.373474</td>\n",
       "      <td>normal</td>\n",
       "      <td>0</td>\n",
       "    </tr>\n",
       "    <tr>\n",
       "      <th>496</th>\n",
       "      <td>Skyfire</td>\n",
       "      <td>97</td>\n",
       "      <td>Action, Adventure, Drama</td>\n",
       "      <td>5.2</td>\n",
       "      <td>52.0</td>\n",
       "      <td>2.667</td>\n",
       "      <td>NaN</td>\n",
       "      <td>NaN</td>\n",
       "      <td>0.000861</td>\n",
       "      <td>24.444590</td>\n",
       "      <td>normal</td>\n",
       "      <td>0</td>\n",
       "    </tr>\n",
       "    <tr>\n",
       "      <th>497</th>\n",
       "      <td>Overcomer</td>\n",
       "      <td>119</td>\n",
       "      <td>Drama, Family, Sport</td>\n",
       "      <td>6.7</td>\n",
       "      <td>17.0</td>\n",
       "      <td>4.559</td>\n",
       "      <td>26.25</td>\n",
       "      <td>5.0</td>\n",
       "      <td>8.146533</td>\n",
       "      <td>38.026103</td>\n",
       "      <td>normal</td>\n",
       "      <td>0</td>\n",
       "    </tr>\n",
       "    <tr>\n",
       "      <th>498</th>\n",
       "      <td>Dveselu putenis</td>\n",
       "      <td>104</td>\n",
       "      <td>Drama, History, War</td>\n",
       "      <td>7.4</td>\n",
       "      <td>63.0</td>\n",
       "      <td>3.822</td>\n",
       "      <td>NaN</td>\n",
       "      <td>NaN</td>\n",
       "      <td>NaN</td>\n",
       "      <td>0.008750</td>\n",
       "      <td>normal</td>\n",
       "      <td>1</td>\n",
       "    </tr>\n",
       "    <tr>\n",
       "      <th>499</th>\n",
       "      <td>Among the Shadows</td>\n",
       "      <td>96</td>\n",
       "      <td>Horror, Thriller</td>\n",
       "      <td>2.2</td>\n",
       "      <td>NaN</td>\n",
       "      <td>1.025</td>\n",
       "      <td>NaN</td>\n",
       "      <td>3.0</td>\n",
       "      <td>NaN</td>\n",
       "      <td>NaN</td>\n",
       "      <td>normal</td>\n",
       "      <td>0</td>\n",
       "    </tr>\n",
       "  </tbody>\n",
       "</table>\n",
       "<p>500 rows × 12 columns</p>\n",
       "</div>"
      ],
      "text/plain": [
       "                          name  length_min                         genre  \\\n",
       "0    Spider-Man: Far from Home         129     Action, Adventure, Sci-Fi   \n",
       "1            Avengers: Endgame         181      Action, Adventure, Drama   \n",
       "2                        Klaus          96  Animation, Adventure, Comedy   \n",
       "3               Last Christmas         103        Comedy, Drama, Fantasy   \n",
       "4                 Little Women         135                Drama, Romance   \n",
       "..                         ...         ...                           ...   \n",
       "495     The Hole in the Ground          90        Drama, Horror, Mystery   \n",
       "496                    Skyfire          97      Action, Adventure, Drama   \n",
       "497                  Overcomer         119          Drama, Family, Sport   \n",
       "498            Dveselu putenis         104           Drama, History, War   \n",
       "499          Among the Shadows          96              Horror, Thriller   \n",
       "\n",
       "     rating_10_scale  metascore_100_scale  vote_number_thousand  \\\n",
       "0                7.4                 69.0               414.434   \n",
       "1                8.4                 78.0               981.756   \n",
       "2                8.2                 65.0               132.425   \n",
       "3                6.5                 50.0                71.509   \n",
       "4                7.8                 91.0               176.347   \n",
       "..               ...                  ...                   ...   \n",
       "495              5.7                 63.0                17.820   \n",
       "496              5.2                 52.0                 2.667   \n",
       "497              6.7                 17.0                 4.559   \n",
       "498              7.4                 63.0                 3.822   \n",
       "499              2.2                  NaN                 1.025   \n",
       "\n",
       "     US_Canada_gross_USD_Million  budget_USD_Million  \\\n",
       "0                         390.53               160.0   \n",
       "1                         858.37               356.0   \n",
       "2                            NaN                40.0   \n",
       "3                            NaN                25.0   \n",
       "4                         108.10                40.0   \n",
       "..                           ...                 ...   \n",
       "495                         0.02                 NaN   \n",
       "496                          NaN                 NaN   \n",
       "497                        26.25                 5.0   \n",
       "498                          NaN                 NaN   \n",
       "499                          NaN                 3.0   \n",
       "\n",
       "     opening_week_gross_USD_Million  gross_world_USD_Million  \\\n",
       "0                         92.579212              1131.927996   \n",
       "1                        357.115007              2797.501328   \n",
       "2                               NaN                      NaN   \n",
       "3                         11.441055               121.550750   \n",
       "4                         16.755310               216.601214   \n",
       "..                              ...                      ...   \n",
       "495                             NaN                 3.373474   \n",
       "496                        0.000861                24.444590   \n",
       "497                        8.146533                38.026103   \n",
       "498                             NaN                 0.008750   \n",
       "499                             NaN                      NaN   \n",
       "\n",
       "    movie_length_type  High_low_score  \n",
       "0                long               1  \n",
       "1                long               1  \n",
       "2              normal               1  \n",
       "3              normal               0  \n",
       "4                long               1  \n",
       "..                ...             ...  \n",
       "495            normal               0  \n",
       "496            normal               0  \n",
       "497            normal               0  \n",
       "498            normal               1  \n",
       "499            normal               0  \n",
       "\n",
       "[500 rows x 12 columns]"
      ]
     },
     "execution_count": 7,
     "metadata": {},
     "output_type": "execute_result"
    }
   ],
   "source": [
    "imdb_df"
   ]
  },
  {
   "cell_type": "markdown",
   "id": "21b88201",
   "metadata": {},
   "source": [
    "### Data visualization"
   ]
  },
  {
   "cell_type": "markdown",
   "id": "61e11f9b",
   "metadata": {},
   "source": [
    "`histplot - rating`"
   ]
  },
  {
   "cell_type": "code",
   "execution_count": 8,
   "id": "dcf2fb1f",
   "metadata": {},
   "outputs": [
    {
     "data": {
      "text/plain": [
       "<matplotlib.lines.Line2D at 0x11be698e0>"
      ]
     },
     "execution_count": 8,
     "metadata": {},
     "output_type": "execute_result"
    },
    {
     "data": {
      "image/png": "[encoded data removed]",
      "text/plain": [
       "<Figure size 432x288 with 1 Axes>"
      ]
     },
     "metadata": {
      "needs_background": "light"
     },
     "output_type": "display_data"
    }
   ],
   "source": [
    "ax = sns.histplot(x=imdb_df['rating_10_scale'],discrete=True)\n",
    "ax.set(xlabel='rating', ylabel='Number of Realizations')\n",
    "ax.axvline(imdb_df['rating_10_scale'].mean(),color='black',linewidth=3)"
   ]
  },
  {
   "cell_type": "markdown",
   "id": "45ab8fa8",
   "metadata": {},
   "source": [
    "`histplot - metascore`"
   ]
  },
  {
   "cell_type": "code",
   "execution_count": 9,
   "id": "da3c574e",
   "metadata": {},
   "outputs": [
    {
     "data": {
      "text/plain": [
       "<matplotlib.lines.Line2D at 0x11c0f3cd0>"
      ]
     },
     "execution_count": 9,
     "metadata": {},
     "output_type": "execute_result"
    },
    {
     "data": {
      "image/png": "[encoded data removed]",
      "text/plain": [
       "<Figure size 432x288 with 1 Axes>"
      ]
     },
     "metadata": {
      "needs_background": "light"
     },
     "output_type": "display_data"
    }
   ],
   "source": [
    "ax = sns.histplot(x=imdb_df['metascore_100_scale'],discrete=True)\n",
    "ax.set(xlabel='metascore', ylabel='Number of Realizations')\n",
    "ax.axvline(imdb_df['metascore_100_scale'].mean(),color='black',linewidth=3)"
   ]
  },
  {
   "cell_type": "code",
   "execution_count": 10,
   "id": "30613b7a",
   "metadata": {},
   "outputs": [
    {
     "data": {
      "text/html": [
       "<div>\n",
       "<style scoped>\n",
       "    .dataframe tbody tr th:only-of-type {\n",
       "        vertical-align: middle;\n",
       "    }\n",
       "\n",
       "    .dataframe tbody tr th {\n",
       "        vertical-align: top;\n",
       "    }\n",
       "\n",
       "    .dataframe thead th {\n",
       "        text-align: right;\n",
       "    }\n",
       "</style>\n",
       "<table border=\"1\" class=\"dataframe\">\n",
       "  <thead>\n",
       "    <tr style=\"text-align: right;\">\n",
       "      <th></th>\n",
       "      <th>name</th>\n",
       "      <th>length_min</th>\n",
       "      <th>genre</th>\n",
       "      <th>rating_10_scale</th>\n",
       "      <th>metascore_100_scale</th>\n",
       "      <th>vote_number_thousand</th>\n",
       "      <th>US_Canada_gross_USD_Million</th>\n",
       "      <th>budget_USD_Million</th>\n",
       "      <th>opening_week_gross_USD_Million</th>\n",
       "      <th>gross_world_USD_Million</th>\n",
       "      <th>movie_length_type</th>\n",
       "      <th>High_low_score</th>\n",
       "    </tr>\n",
       "  </thead>\n",
       "  <tbody>\n",
       "    <tr>\n",
       "      <th>0</th>\n",
       "      <td>Spider-Man: Far from Home</td>\n",
       "      <td>129</td>\n",
       "      <td>Action, Adventure, Sci-Fi</td>\n",
       "      <td>7.4</td>\n",
       "      <td>69.0</td>\n",
       "      <td>414.434</td>\n",
       "      <td>390.53</td>\n",
       "      <td>160.0</td>\n",
       "      <td>92.579212</td>\n",
       "      <td>1131.927996</td>\n",
       "      <td>long</td>\n",
       "      <td>1</td>\n",
       "    </tr>\n",
       "    <tr>\n",
       "      <th>1</th>\n",
       "      <td>Avengers: Endgame</td>\n",
       "      <td>181</td>\n",
       "      <td>Action, Adventure, Drama</td>\n",
       "      <td>8.4</td>\n",
       "      <td>78.0</td>\n",
       "      <td>981.756</td>\n",
       "      <td>858.37</td>\n",
       "      <td>356.0</td>\n",
       "      <td>357.115007</td>\n",
       "      <td>2797.501328</td>\n",
       "      <td>long</td>\n",
       "      <td>1</td>\n",
       "    </tr>\n",
       "    <tr>\n",
       "      <th>4</th>\n",
       "      <td>Little Women</td>\n",
       "      <td>135</td>\n",
       "      <td>Drama, Romance</td>\n",
       "      <td>7.8</td>\n",
       "      <td>91.0</td>\n",
       "      <td>176.347</td>\n",
       "      <td>108.10</td>\n",
       "      <td>40.0</td>\n",
       "      <td>16.755310</td>\n",
       "      <td>216.601214</td>\n",
       "      <td>long</td>\n",
       "      <td>1</td>\n",
       "    </tr>\n",
       "    <tr>\n",
       "      <th>5</th>\n",
       "      <td>The Lighthouse</td>\n",
       "      <td>109</td>\n",
       "      <td>Drama, Fantasy, Horror</td>\n",
       "      <td>7.5</td>\n",
       "      <td>83.0</td>\n",
       "      <td>181.100</td>\n",
       "      <td>0.43</td>\n",
       "      <td>11.0</td>\n",
       "      <td>0.427797</td>\n",
       "      <td>18.124206</td>\n",
       "      <td>normal</td>\n",
       "      <td>1</td>\n",
       "    </tr>\n",
       "    <tr>\n",
       "      <th>6</th>\n",
       "      <td>Midsommar</td>\n",
       "      <td>148</td>\n",
       "      <td>Drama, Horror, Mystery</td>\n",
       "      <td>7.1</td>\n",
       "      <td>72.0</td>\n",
       "      <td>268.146</td>\n",
       "      <td>27.33</td>\n",
       "      <td>9.0</td>\n",
       "      <td>6.560030</td>\n",
       "      <td>47.967636</td>\n",
       "      <td>long</td>\n",
       "      <td>1</td>\n",
       "    </tr>\n",
       "    <tr>\n",
       "      <th>...</th>\n",
       "      <td>...</td>\n",
       "      <td>...</td>\n",
       "      <td>...</td>\n",
       "      <td>...</td>\n",
       "      <td>...</td>\n",
       "      <td>...</td>\n",
       "      <td>...</td>\n",
       "      <td>...</td>\n",
       "      <td>...</td>\n",
       "      <td>...</td>\n",
       "      <td>...</td>\n",
       "      <td>...</td>\n",
       "    </tr>\n",
       "    <tr>\n",
       "      <th>450</th>\n",
       "      <td>Them That Follow</td>\n",
       "      <td>98</td>\n",
       "      <td>Drama, Thriller</td>\n",
       "      <td>5.4</td>\n",
       "      <td>57.0</td>\n",
       "      <td>3.211</td>\n",
       "      <td>0.16</td>\n",
       "      <td>NaN</td>\n",
       "      <td>0.013137</td>\n",
       "      <td>0.172952</td>\n",
       "      <td>normal</td>\n",
       "      <td>0</td>\n",
       "    </tr>\n",
       "    <tr>\n",
       "      <th>457</th>\n",
       "      <td>The Prodigy</td>\n",
       "      <td>92</td>\n",
       "      <td>Fantasy, Horror, Mystery</td>\n",
       "      <td>5.9</td>\n",
       "      <td>45.0</td>\n",
       "      <td>25.529</td>\n",
       "      <td>14.86</td>\n",
       "      <td>6.0</td>\n",
       "      <td>5.853061</td>\n",
       "      <td>21.127789</td>\n",
       "      <td>normal</td>\n",
       "      <td>0</td>\n",
       "    </tr>\n",
       "    <tr>\n",
       "      <th>458</th>\n",
       "      <td>The Mustang</td>\n",
       "      <td>96</td>\n",
       "      <td>Drama</td>\n",
       "      <td>6.9</td>\n",
       "      <td>77.0</td>\n",
       "      <td>12.009</td>\n",
       "      <td>5.04</td>\n",
       "      <td>NaN</td>\n",
       "      <td>0.071657</td>\n",
       "      <td>6.405816</td>\n",
       "      <td>normal</td>\n",
       "      <td>0</td>\n",
       "    </tr>\n",
       "    <tr>\n",
       "      <th>495</th>\n",
       "      <td>The Hole in the Ground</td>\n",
       "      <td>90</td>\n",
       "      <td>Drama, Horror, Mystery</td>\n",
       "      <td>5.7</td>\n",
       "      <td>63.0</td>\n",
       "      <td>17.820</td>\n",
       "      <td>0.02</td>\n",
       "      <td>NaN</td>\n",
       "      <td>NaN</td>\n",
       "      <td>3.373474</td>\n",
       "      <td>normal</td>\n",
       "      <td>0</td>\n",
       "    </tr>\n",
       "    <tr>\n",
       "      <th>497</th>\n",
       "      <td>Overcomer</td>\n",
       "      <td>119</td>\n",
       "      <td>Drama, Family, Sport</td>\n",
       "      <td>6.7</td>\n",
       "      <td>17.0</td>\n",
       "      <td>4.559</td>\n",
       "      <td>26.25</td>\n",
       "      <td>5.0</td>\n",
       "      <td>8.146533</td>\n",
       "      <td>38.026103</td>\n",
       "      <td>normal</td>\n",
       "      <td>0</td>\n",
       "    </tr>\n",
       "  </tbody>\n",
       "</table>\n",
       "<p>139 rows × 12 columns</p>\n",
       "</div>"
      ],
      "text/plain": [
       "                          name  length_min                      genre  \\\n",
       "0    Spider-Man: Far from Home         129  Action, Adventure, Sci-Fi   \n",
       "1            Avengers: Endgame         181   Action, Adventure, Drama   \n",
       "4                 Little Women         135             Drama, Romance   \n",
       "5               The Lighthouse         109     Drama, Fantasy, Horror   \n",
       "6                    Midsommar         148     Drama, Horror, Mystery   \n",
       "..                         ...         ...                        ...   \n",
       "450           Them That Follow          98            Drama, Thriller   \n",
       "457                The Prodigy          92   Fantasy, Horror, Mystery   \n",
       "458                The Mustang          96                      Drama   \n",
       "495     The Hole in the Ground          90     Drama, Horror, Mystery   \n",
       "497                  Overcomer         119       Drama, Family, Sport   \n",
       "\n",
       "     rating_10_scale  metascore_100_scale  vote_number_thousand  \\\n",
       "0                7.4                 69.0               414.434   \n",
       "1                8.4                 78.0               981.756   \n",
       "4                7.8                 91.0               176.347   \n",
       "5                7.5                 83.0               181.100   \n",
       "6                7.1                 72.0               268.146   \n",
       "..               ...                  ...                   ...   \n",
       "450              5.4                 57.0                 3.211   \n",
       "457              5.9                 45.0                25.529   \n",
       "458              6.9                 77.0                12.009   \n",
       "495              5.7                 63.0                17.820   \n",
       "497              6.7                 17.0                 4.559   \n",
       "\n",
       "     US_Canada_gross_USD_Million  budget_USD_Million  \\\n",
       "0                         390.53               160.0   \n",
       "1                         858.37               356.0   \n",
       "4                         108.10                40.0   \n",
       "5                           0.43                11.0   \n",
       "6                          27.33                 9.0   \n",
       "..                           ...                 ...   \n",
       "450                         0.16                 NaN   \n",
       "457                        14.86                 6.0   \n",
       "458                         5.04                 NaN   \n",
       "495                         0.02                 NaN   \n",
       "497                        26.25                 5.0   \n",
       "\n",
       "     opening_week_gross_USD_Million  gross_world_USD_Million  \\\n",
       "0                         92.579212              1131.927996   \n",
       "1                        357.115007              2797.501328   \n",
       "4                         16.755310               216.601214   \n",
       "5                          0.427797                18.124206   \n",
       "6                          6.560030                47.967636   \n",
       "..                              ...                      ...   \n",
       "450                        0.013137                 0.172952   \n",
       "457                        5.853061                21.127789   \n",
       "458                        0.071657                 6.405816   \n",
       "495                             NaN                 3.373474   \n",
       "497                        8.146533                38.026103   \n",
       "\n",
       "    movie_length_type  High_low_score  \n",
       "0                long               1  \n",
       "1                long               1  \n",
       "4                long               1  \n",
       "5              normal               1  \n",
       "6                long               1  \n",
       "..                ...             ...  \n",
       "450            normal               0  \n",
       "457            normal               0  \n",
       "458            normal               0  \n",
       "495            normal               0  \n",
       "497            normal               0  \n",
       "\n",
       "[139 rows x 12 columns]"
      ]
     },
     "execution_count": 10,
     "metadata": {},
     "output_type": "execute_result"
    }
   ],
   "source": [
    "imdb_NorthAmerica_gross_exist = imdb_df.loc[pd.isna(imdb_df['US_Canada_gross_USD_Million']) == False]\n",
    "imdb_NorthAmerica_gross_exist"
   ]
  },
  {
   "cell_type": "markdown",
   "id": "c3b5268d",
   "metadata": {},
   "source": [
    "`histplot - US/Canada box office`"
   ]
  },
  {
   "cell_type": "code",
   "execution_count": 11,
   "id": "c265ce5a",
   "metadata": {},
   "outputs": [
    {
     "data": {
      "text/plain": [
       "[Text(0.5, 0, 'US/Canada box office'), Text(0, 0.5, 'Number of Realizations')]"
      ]
     },
     "execution_count": 11,
     "metadata": {},
     "output_type": "execute_result"
    },
    {
     "data": {
      "image/png": "[encoded data removed]",
      "text/plain": [
       "<Figure size 432x288 with 1 Axes>"
      ]
     },
     "metadata": {
      "needs_background": "light"
     },
     "output_type": "display_data"
    }
   ],
   "source": [
    "ax = sns.histplot(x=imdb_NorthAmerica_gross_exist['US_Canada_gross_USD_Million'])\n",
    "ax.set(xlabel='US/Canada box office', ylabel='Number of Realizations')"
   ]
  },
  {
   "cell_type": "code",
   "execution_count": 12,
   "id": "9d6f4d77",
   "metadata": {},
   "outputs": [
    {
     "data": {
      "text/html": [
       "<div>\n",
       "<style scoped>\n",
       "    .dataframe tbody tr th:only-of-type {\n",
       "        vertical-align: middle;\n",
       "    }\n",
       "\n",
       "    .dataframe tbody tr th {\n",
       "        vertical-align: top;\n",
       "    }\n",
       "\n",
       "    .dataframe thead th {\n",
       "        text-align: right;\n",
       "    }\n",
       "</style>\n",
       "<table border=\"1\" class=\"dataframe\">\n",
       "  <thead>\n",
       "    <tr style=\"text-align: right;\">\n",
       "      <th></th>\n",
       "      <th>name</th>\n",
       "      <th>length_min</th>\n",
       "      <th>genre</th>\n",
       "      <th>rating_10_scale</th>\n",
       "      <th>metascore_100_scale</th>\n",
       "      <th>vote_number_thousand</th>\n",
       "      <th>US_Canada_gross_USD_Million</th>\n",
       "      <th>budget_USD_Million</th>\n",
       "      <th>opening_week_gross_USD_Million</th>\n",
       "      <th>gross_world_USD_Million</th>\n",
       "      <th>movie_length_type</th>\n",
       "      <th>High_low_score</th>\n",
       "    </tr>\n",
       "  </thead>\n",
       "  <tbody>\n",
       "    <tr>\n",
       "      <th>0</th>\n",
       "      <td>Spider-Man: Far from Home</td>\n",
       "      <td>129</td>\n",
       "      <td>Action, Adventure, Sci-Fi</td>\n",
       "      <td>7.4</td>\n",
       "      <td>69.0</td>\n",
       "      <td>414.434</td>\n",
       "      <td>390.53</td>\n",
       "      <td>160.000000</td>\n",
       "      <td>92.579212</td>\n",
       "      <td>1131.927996</td>\n",
       "      <td>long</td>\n",
       "      <td>1</td>\n",
       "    </tr>\n",
       "    <tr>\n",
       "      <th>1</th>\n",
       "      <td>Avengers: Endgame</td>\n",
       "      <td>181</td>\n",
       "      <td>Action, Adventure, Drama</td>\n",
       "      <td>8.4</td>\n",
       "      <td>78.0</td>\n",
       "      <td>981.756</td>\n",
       "      <td>858.37</td>\n",
       "      <td>356.000000</td>\n",
       "      <td>357.115007</td>\n",
       "      <td>2797.501328</td>\n",
       "      <td>long</td>\n",
       "      <td>1</td>\n",
       "    </tr>\n",
       "    <tr>\n",
       "      <th>3</th>\n",
       "      <td>Last Christmas</td>\n",
       "      <td>103</td>\n",
       "      <td>Comedy, Drama, Fantasy</td>\n",
       "      <td>6.5</td>\n",
       "      <td>50.0</td>\n",
       "      <td>71.509</td>\n",
       "      <td>NaN</td>\n",
       "      <td>25.000000</td>\n",
       "      <td>11.441055</td>\n",
       "      <td>121.550750</td>\n",
       "      <td>normal</td>\n",
       "      <td>0</td>\n",
       "    </tr>\n",
       "    <tr>\n",
       "      <th>4</th>\n",
       "      <td>Little Women</td>\n",
       "      <td>135</td>\n",
       "      <td>Drama, Romance</td>\n",
       "      <td>7.8</td>\n",
       "      <td>91.0</td>\n",
       "      <td>176.347</td>\n",
       "      <td>108.10</td>\n",
       "      <td>40.000000</td>\n",
       "      <td>16.755310</td>\n",
       "      <td>216.601214</td>\n",
       "      <td>long</td>\n",
       "      <td>1</td>\n",
       "    </tr>\n",
       "    <tr>\n",
       "      <th>5</th>\n",
       "      <td>The Lighthouse</td>\n",
       "      <td>109</td>\n",
       "      <td>Drama, Fantasy, Horror</td>\n",
       "      <td>7.5</td>\n",
       "      <td>83.0</td>\n",
       "      <td>181.100</td>\n",
       "      <td>0.43</td>\n",
       "      <td>11.000000</td>\n",
       "      <td>0.427797</td>\n",
       "      <td>18.124206</td>\n",
       "      <td>normal</td>\n",
       "      <td>1</td>\n",
       "    </tr>\n",
       "    <tr>\n",
       "      <th>...</th>\n",
       "      <td>...</td>\n",
       "      <td>...</td>\n",
       "      <td>...</td>\n",
       "      <td>...</td>\n",
       "      <td>...</td>\n",
       "      <td>...</td>\n",
       "      <td>...</td>\n",
       "      <td>...</td>\n",
       "      <td>...</td>\n",
       "      <td>...</td>\n",
       "      <td>...</td>\n",
       "      <td>...</td>\n",
       "    </tr>\n",
       "    <tr>\n",
       "      <th>494</th>\n",
       "      <td>Balkanskiy rubezh</td>\n",
       "      <td>130</td>\n",
       "      <td>Action, War</td>\n",
       "      <td>6.6</td>\n",
       "      <td>NaN</td>\n",
       "      <td>9.450</td>\n",
       "      <td>NaN</td>\n",
       "      <td>3.555583</td>\n",
       "      <td>NaN</td>\n",
       "      <td>5.849400</td>\n",
       "      <td>long</td>\n",
       "      <td>0</td>\n",
       "    </tr>\n",
       "    <tr>\n",
       "      <th>495</th>\n",
       "      <td>The Hole in the Ground</td>\n",
       "      <td>90</td>\n",
       "      <td>Drama, Horror, Mystery</td>\n",
       "      <td>5.7</td>\n",
       "      <td>63.0</td>\n",
       "      <td>17.820</td>\n",
       "      <td>0.02</td>\n",
       "      <td>NaN</td>\n",
       "      <td>NaN</td>\n",
       "      <td>3.373474</td>\n",
       "      <td>normal</td>\n",
       "      <td>0</td>\n",
       "    </tr>\n",
       "    <tr>\n",
       "      <th>496</th>\n",
       "      <td>Skyfire</td>\n",
       "      <td>97</td>\n",
       "      <td>Action, Adventure, Drama</td>\n",
       "      <td>5.2</td>\n",
       "      <td>52.0</td>\n",
       "      <td>2.667</td>\n",
       "      <td>NaN</td>\n",
       "      <td>NaN</td>\n",
       "      <td>0.000861</td>\n",
       "      <td>24.444590</td>\n",
       "      <td>normal</td>\n",
       "      <td>0</td>\n",
       "    </tr>\n",
       "    <tr>\n",
       "      <th>497</th>\n",
       "      <td>Overcomer</td>\n",
       "      <td>119</td>\n",
       "      <td>Drama, Family, Sport</td>\n",
       "      <td>6.7</td>\n",
       "      <td>17.0</td>\n",
       "      <td>4.559</td>\n",
       "      <td>26.25</td>\n",
       "      <td>5.000000</td>\n",
       "      <td>8.146533</td>\n",
       "      <td>38.026103</td>\n",
       "      <td>normal</td>\n",
       "      <td>0</td>\n",
       "    </tr>\n",
       "    <tr>\n",
       "      <th>498</th>\n",
       "      <td>Dveselu putenis</td>\n",
       "      <td>104</td>\n",
       "      <td>Drama, History, War</td>\n",
       "      <td>7.4</td>\n",
       "      <td>63.0</td>\n",
       "      <td>3.822</td>\n",
       "      <td>NaN</td>\n",
       "      <td>NaN</td>\n",
       "      <td>NaN</td>\n",
       "      <td>0.008750</td>\n",
       "      <td>normal</td>\n",
       "      <td>1</td>\n",
       "    </tr>\n",
       "  </tbody>\n",
       "</table>\n",
       "<p>386 rows × 12 columns</p>\n",
       "</div>"
      ],
      "text/plain": [
       "                          name  length_min                      genre  \\\n",
       "0    Spider-Man: Far from Home         129  Action, Adventure, Sci-Fi   \n",
       "1            Avengers: Endgame         181   Action, Adventure, Drama   \n",
       "3               Last Christmas         103     Comedy, Drama, Fantasy   \n",
       "4                 Little Women         135             Drama, Romance   \n",
       "5               The Lighthouse         109     Drama, Fantasy, Horror   \n",
       "..                         ...         ...                        ...   \n",
       "494          Balkanskiy rubezh         130                Action, War   \n",
       "495     The Hole in the Ground          90     Drama, Horror, Mystery   \n",
       "496                    Skyfire          97   Action, Adventure, Drama   \n",
       "497                  Overcomer         119       Drama, Family, Sport   \n",
       "498            Dveselu putenis         104        Drama, History, War   \n",
       "\n",
       "     rating_10_scale  metascore_100_scale  vote_number_thousand  \\\n",
       "0                7.4                 69.0               414.434   \n",
       "1                8.4                 78.0               981.756   \n",
       "3                6.5                 50.0                71.509   \n",
       "4                7.8                 91.0               176.347   \n",
       "5                7.5                 83.0               181.100   \n",
       "..               ...                  ...                   ...   \n",
       "494              6.6                  NaN                 9.450   \n",
       "495              5.7                 63.0                17.820   \n",
       "496              5.2                 52.0                 2.667   \n",
       "497              6.7                 17.0                 4.559   \n",
       "498              7.4                 63.0                 3.822   \n",
       "\n",
       "     US_Canada_gross_USD_Million  budget_USD_Million  \\\n",
       "0                         390.53          160.000000   \n",
       "1                         858.37          356.000000   \n",
       "3                            NaN           25.000000   \n",
       "4                         108.10           40.000000   \n",
       "5                           0.43           11.000000   \n",
       "..                           ...                 ...   \n",
       "494                          NaN            3.555583   \n",
       "495                         0.02                 NaN   \n",
       "496                          NaN                 NaN   \n",
       "497                        26.25            5.000000   \n",
       "498                          NaN                 NaN   \n",
       "\n",
       "     opening_week_gross_USD_Million  gross_world_USD_Million  \\\n",
       "0                         92.579212              1131.927996   \n",
       "1                        357.115007              2797.501328   \n",
       "3                         11.441055               121.550750   \n",
       "4                         16.755310               216.601214   \n",
       "5                          0.427797                18.124206   \n",
       "..                              ...                      ...   \n",
       "494                             NaN                 5.849400   \n",
       "495                             NaN                 3.373474   \n",
       "496                        0.000861                24.444590   \n",
       "497                        8.146533                38.026103   \n",
       "498                             NaN                 0.008750   \n",
       "\n",
       "    movie_length_type  High_low_score  \n",
       "0                long               1  \n",
       "1                long               1  \n",
       "3              normal               0  \n",
       "4                long               1  \n",
       "5              normal               1  \n",
       "..                ...             ...  \n",
       "494              long               0  \n",
       "495            normal               0  \n",
       "496            normal               0  \n",
       "497            normal               0  \n",
       "498            normal               1  \n",
       "\n",
       "[386 rows x 12 columns]"
      ]
     },
     "execution_count": 12,
     "metadata": {},
     "output_type": "execute_result"
    }
   ],
   "source": [
    "imdb_worldwide_gross_exist = imdb_df.loc[pd.isna(imdb_df['gross_world_USD_Million']) == False]\n",
    "imdb_worldwide_gross_exist"
   ]
  },
  {
   "cell_type": "markdown",
   "id": "f6a3d5ad",
   "metadata": {},
   "source": [
    "`histplot - world box office`"
   ]
  },
  {
   "cell_type": "code",
   "execution_count": 13,
   "id": "f6df8914",
   "metadata": {
    "scrolled": true
   },
   "outputs": [
    {
     "data": {
      "text/plain": [
       "[Text(0.5, 0, 'world-wide box office'), Text(0, 0.5, 'Number of Realizations')]"
      ]
     },
     "execution_count": 13,
     "metadata": {},
     "output_type": "execute_result"
    },
    {
     "data": {
      "image/png": "[encoded data removed]",
      "text/plain": [
       "<Figure size 432x288 with 1 Axes>"
      ]
     },
     "metadata": {
      "needs_background": "light"
     },
     "output_type": "display_data"
    }
   ],
   "source": [
    "ax = sns.histplot(x=imdb_worldwide_gross_exist['gross_world_USD_Million'])\n",
    "ax.set(xlabel='world-wide box office', ylabel='Number of Realizations')"
   ]
  },
  {
   "cell_type": "code",
   "execution_count": 14,
   "id": "19f2d0ca",
   "metadata": {},
   "outputs": [
    {
     "data": {
      "text/plain": [
       "[Text(0.5, 0, 'world wide box office < 500'),\n",
       " Text(0, 0.5, 'Number of Realizations')]"
      ]
     },
     "execution_count": 14,
     "metadata": {},
     "output_type": "execute_result"
    },
    {
     "data": {
      "image/png": "[encoded data removed]",
      "text/plain": [
       "<Figure size 432x288 with 1 Axes>"
      ]
     },
     "metadata": {
      "needs_background": "light"
     },
     "output_type": "display_data"
    }
   ],
   "source": [
    "#look detailedly in world box office under 500 million which most data locate\n",
    "\n",
    "ax = sns.histplot(x=imdb_worldwide_gross_exist.loc[imdb_worldwide_gross_exist['gross_world_USD_Million'] \n",
    "                                                   < 500]['gross_world_USD_Million'])\n",
    "ax.set(xlabel='world wide box office < 500', ylabel='Number of Realizations')"
   ]
  },
  {
   "cell_type": "markdown",
   "id": "7304829a",
   "metadata": {},
   "source": [
    "`histplot - high/low score`"
   ]
  },
  {
   "cell_type": "code",
   "execution_count": 15,
   "id": "38fd834b",
   "metadata": {},
   "outputs": [
    {
     "data": {
      "text/plain": [
       "[Text(0.5, 0, 'low/high score'), Text(0, 0.5, 'Number of Realizations')]"
      ]
     },
     "execution_count": 15,
     "metadata": {},
     "output_type": "execute_result"
    },
    {
     "data": {
      "image/png": "[encoded data removed]",
      "text/plain": [
       "<Figure size 432x288 with 1 Axes>"
      ]
     },
     "metadata": {
      "needs_background": "light"
     },
     "output_type": "display_data"
    }
   ],
   "source": [
    "ax = sns.histplot(x=imdb_df['High_low_score'])\n",
    "ax.set(xlabel='low/high score', ylabel='Number of Realizations')"
   ]
  },
  {
   "cell_type": "markdown",
   "id": "ce8ec8e8",
   "metadata": {},
   "source": [
    "`scatterplot - rating , world box office`"
   ]
  },
  {
   "cell_type": "code",
   "execution_count": 16,
   "id": "12a35027",
   "metadata": {},
   "outputs": [
    {
     "data": {
      "text/plain": [
       "[Text(0.5, 0, 'rating'), Text(0, 0.5, 'world box office')]"
      ]
     },
     "execution_count": 16,
     "metadata": {},
     "output_type": "execute_result"
    },
    {
     "data": {
      "image/png": "[encoded data removed]",
      "text/plain": [
       "<Figure size 432x288 with 1 Axes>"
      ]
     },
     "metadata": {
      "needs_background": "light"
     },
     "output_type": "display_data"
    }
   ],
   "source": [
    "ax = sns.scatterplot(data = imdb_df, x='rating_10_scale', y='gross_world_USD_Million')\n",
    "ax.set(xlabel='rating', ylabel='world box office')"
   ]
  },
  {
   "cell_type": "code",
   "execution_count": 17,
   "id": "86e707b8",
   "metadata": {},
   "outputs": [
    {
     "data": {
      "text/plain": [
       "[Text(0.5, 0, 'rating'), Text(0, 0.5, 'world box office')]"
      ]
     },
     "execution_count": 17,
     "metadata": {},
     "output_type": "execute_result"
    },
    {
     "data": {
      "image/png": "[encoded data removed]",
      "text/plain": [
       "<Figure size 432x288 with 1 Axes>"
      ]
     },
     "metadata": {
      "needs_background": "light"
     },
     "output_type": "display_data"
    }
   ],
   "source": [
    "#look detailedly in world box office under 300 million which most data locate\n",
    "\n",
    "ax = sns.scatterplot(data = imdb_df.loc[imdb_df['gross_world_USD_Million'] <= 300], \n",
    "                     x='rating_10_scale', y='gross_world_USD_Million')\n",
    "ax.set(xlabel='rating', ylabel='world box office')"
   ]
  },
  {
   "cell_type": "markdown",
   "id": "3a901c95",
   "metadata": {},
   "source": [
    "`scatterplot - budget , US/Canada box office`"
   ]
  },
  {
   "cell_type": "code",
   "execution_count": 18,
   "id": "26c47e3e",
   "metadata": {},
   "outputs": [
    {
     "data": {
      "text/plain": [
       "[Text(0.5, 0, 'budge'), Text(0, 0.5, 'US/Canada box office')]"
      ]
     },
     "execution_count": 18,
     "metadata": {},
     "output_type": "execute_result"
    },
    {
     "data": {
      "image/png": "[encoded data removed]",
      "text/plain": [
       "<Figure size 432x288 with 1 Axes>"
      ]
     },
     "metadata": {
      "needs_background": "light"
     },
     "output_type": "display_data"
    }
   ],
   "source": [
    "ax = sns.scatterplot(data = imdb_df, x='budget_USD_Million', y='US_Canada_gross_USD_Million')\n",
    "ax.set(xlabel='budge', ylabel='US/Canada box office')"
   ]
  },
  {
   "cell_type": "markdown",
   "id": "cce0c135",
   "metadata": {},
   "source": [
    "`scatterplot - budget , world box office`"
   ]
  },
  {
   "cell_type": "code",
   "execution_count": 19,
   "id": "f1d5b439",
   "metadata": {},
   "outputs": [
    {
     "data": {
      "text/plain": [
       "[Text(0.5, 0, 'budge'), Text(0, 0.5, 'world box office')]"
      ]
     },
     "execution_count": 19,
     "metadata": {},
     "output_type": "execute_result"
    },
    {
     "data": {
      "image/png": "[encoded data removed]",
      "text/plain": [
       "<Figure size 432x288 with 1 Axes>"
      ]
     },
     "metadata": {
      "needs_background": "light"
     },
     "output_type": "display_data"
    }
   ],
   "source": [
    "ax = sns.scatterplot(data = imdb_df, x='budget_USD_Million', y='gross_world_USD_Million')\n",
    "ax.set(xlabel='budge', ylabel='world box office')"
   ]
  },
  {
   "cell_type": "markdown",
   "id": "3ce3f1e3",
   "metadata": {},
   "source": [
    "### Regression analysis\n",
    "\n",
    "#### (1) Linear regression\n",
    "\n",
    "##### *single predictor*"
   ]
  },
  {
   "cell_type": "markdown",
   "id": "7b6054b8",
   "metadata": {},
   "source": [
    "1. `US/Canada gross box office - rating`"
   ]
  },
  {
   "cell_type": "code",
   "execution_count": 20,
   "id": "5c10162b",
   "metadata": {
    "scrolled": false
   },
   "outputs": [
    {
     "data": {
      "text/html": [
       "<table class=\"simpletable\">\n",
       "<tr>\n",
       "         <td></td>            <th>coef</th>     <th>std err</th>      <th>t</th>      <th>P>|t|</th>  <th>[0.025</th>    <th>0.975]</th>  \n",
       "</tr>\n",
       "<tr>\n",
       "  <th>Intercept</th>       <td> -168.5134</td> <td>   79.227</td> <td>   -2.127</td> <td> 0.035</td> <td> -325.180</td> <td>  -11.847</td>\n",
       "</tr>\n",
       "<tr>\n",
       "  <th>rating_10_scale</th> <td>   36.6000</td> <td>   11.910</td> <td>    3.073</td> <td> 0.003</td> <td>   13.049</td> <td>   60.151</td>\n",
       "</tr>\n",
       "</table>"
      ],
      "text/plain": [
       "<class 'statsmodels.iolib.table.SimpleTable'>"
      ]
     },
     "execution_count": 20,
     "metadata": {},
     "output_type": "execute_result"
    }
   ],
   "source": [
    "box_office_est = ols('US_Canada_gross_USD_Million~rating_10_scale',data=imdb_NorthAmerica_gross_exist).fit() \n",
    "box_office_est.summary().tables[1]"
   ]
  },
  {
   "cell_type": "code",
   "execution_count": 21,
   "id": "b53357bd",
   "metadata": {},
   "outputs": [
    {
     "data": {
      "image/png": "[encoded data removed]",
      "text/plain": [
       "<Figure size 432x288 with 1 Axes>"
      ]
     },
     "metadata": {
      "needs_background": "light"
     },
     "output_type": "display_data"
    }
   ],
   "source": [
    "#use residual plot to test the assumption 𝑆𝐷(𝜖𝑖)=𝜎\n",
    "\n",
    "ax = sns.scatterplot(x=box_office_est.predict(),y=box_office_est.resid) \n",
    "ax.axhline(color='black',linestyle='--',linewidth=3) \n",
    "ax.set(xlabel='Expected box office',ylabel='Error');"
   ]
  },
  {
   "cell_type": "code",
   "execution_count": 22,
   "id": "7b5fe977",
   "metadata": {},
   "outputs": [
    {
     "data": {
      "image/png": "[encoded data removed]",
      "text/plain": [
       "<Figure size 432x288 with 1 Axes>"
      ]
     },
     "metadata": {
      "needs_background": "light"
     },
     "output_type": "display_data"
    }
   ],
   "source": [
    "#use qqplot to test whether error 𝜖𝑖 are normally distributed\n",
    "\n",
    "sm.qqplot(box_office_est.resid,line='r');  #add ; to turn two into one"
   ]
  },
  {
   "cell_type": "code",
   "execution_count": 23,
   "id": "dab133d2",
   "metadata": {},
   "outputs": [
    {
     "data": {
      "text/html": [
       "<table class=\"simpletable\">\n",
       "<tr>\n",
       "         <td></td>            <th>coef</th>     <th>std err</th>      <th>t</th>      <th>P>|t|</th>  <th>[0.025</th>    <th>0.975]</th>  \n",
       "</tr>\n",
       "<tr>\n",
       "  <th>Intercept</th>       <td> -168.5134</td> <td>   94.968</td> <td>   -1.774</td> <td> 0.078</td> <td> -356.306</td> <td>   19.279</td>\n",
       "</tr>\n",
       "<tr>\n",
       "  <th>rating_10_scale</th> <td>   36.6000</td> <td>   15.473</td> <td>    2.365</td> <td> 0.019</td> <td>    6.004</td> <td>   67.196</td>\n",
       "</tr>\n",
       "</table>"
      ],
      "text/plain": [
       "<class 'statsmodels.iolib.table.SimpleTable'>"
      ]
     },
     "execution_count": 23,
     "metadata": {},
     "output_type": "execute_result"
    }
   ],
   "source": [
    "box_office_robust = box_office_est.get_robustcov_results(cov_type='HC3') \n",
    "box_office_robust.summary().tables[1]"
   ]
  },
  {
   "cell_type": "markdown",
   "id": "3584c6c5",
   "metadata": {},
   "source": [
    "Here I study the correlation between US/Canada box office and 10-scale rating. First I make a normal ols and found that the coefficient is significant. Second, I make a residual plot and qqplot to diagnose whether the model comply with the assumption that 𝑆𝐷(𝜖𝑖)=𝜎 and the error 𝜖𝑖 are normally distributed. Based on the plots, we can see that: 1) when the expected box office 𝐸(𝑌𝑖) are smaller, the estimated errors tend to become more smaller in magnitude; 2) the estimated error doesn't lie on the straight line in qqplot. Therefore, the assumption that 𝑆𝐷(𝜖𝑖)=𝜎 and the error 𝜖𝑖 are normally distributed is problematic, and I choose to use robust 95% confidence interval to modify the original model. Third, from the robust result we can know that the effect of rating on US/Canada box office is significant. The coefficient 36.6 represnets that when the rating is one unit higher, the expected box office in US/Canada will increase 36.6 million US dollars. The true effect of rating on US/Canada box office has 95% probability to be between 6.004 and 67.196."
   ]
  },
  {
   "cell_type": "markdown",
   "id": "03759704",
   "metadata": {},
   "source": [
    "2. `world gross box office - rating`"
   ]
  },
  {
   "cell_type": "code",
   "execution_count": 24,
   "id": "4220cfef",
   "metadata": {},
   "outputs": [
    {
     "data": {
      "text/html": [
       "<table class=\"simpletable\">\n",
       "<tr>\n",
       "         <td></td>            <th>coef</th>     <th>std err</th>      <th>t</th>      <th>P>|t|</th>  <th>[0.025</th>    <th>0.975]</th>  \n",
       "</tr>\n",
       "<tr>\n",
       "  <th>Intercept</th>       <td> -225.6017</td> <td>   76.129</td> <td>   -2.963</td> <td> 0.003</td> <td> -375.283</td> <td>  -75.920</td>\n",
       "</tr>\n",
       "<tr>\n",
       "  <th>rating_10_scale</th> <td>   48.2545</td> <td>   11.806</td> <td>    4.087</td> <td> 0.000</td> <td>   25.043</td> <td>   71.466</td>\n",
       "</tr>\n",
       "</table>"
      ],
      "text/plain": [
       "<class 'statsmodels.iolib.table.SimpleTable'>"
      ]
     },
     "execution_count": 24,
     "metadata": {},
     "output_type": "execute_result"
    }
   ],
   "source": [
    "box_office_est1 = ols('gross_world_USD_Million~rating_10_scale',data=imdb_worldwide_gross_exist).fit() \n",
    "box_office_est1.summary().tables[1]"
   ]
  },
  {
   "cell_type": "code",
   "execution_count": 25,
   "id": "f1f1c5cf",
   "metadata": {},
   "outputs": [
    {
     "data": {
      "image/png": "[encoded data removed]",
      "text/plain": [
       "<Figure size 432x288 with 1 Axes>"
      ]
     },
     "metadata": {
      "needs_background": "light"
     },
     "output_type": "display_data"
    }
   ],
   "source": [
    "ax = sns.scatterplot(x=box_office_est1.predict(),y=box_office_est1.resid) \n",
    "ax.axhline(color='black',linestyle='--',linewidth=3) \n",
    "ax.set(xlabel='Expected box office',ylabel='Error');"
   ]
  },
  {
   "cell_type": "code",
   "execution_count": 26,
   "id": "96300045",
   "metadata": {},
   "outputs": [
    {
     "data": {
      "image/png": "[encoded data removed]",
      "text/plain": [
       "<Figure size 432x288 with 1 Axes>"
      ]
     },
     "metadata": {
      "needs_background": "light"
     },
     "output_type": "display_data"
    }
   ],
   "source": [
    "sm.qqplot(box_office_est1.resid,line='r');"
   ]
  },
  {
   "cell_type": "code",
   "execution_count": 27,
   "id": "018c52c4",
   "metadata": {
    "scrolled": true
   },
   "outputs": [
    {
     "data": {
      "text/html": [
       "<table class=\"simpletable\">\n",
       "<tr>\n",
       "         <td></td>            <th>coef</th>     <th>std err</th>      <th>t</th>      <th>P>|t|</th>  <th>[0.025</th>    <th>0.975]</th>  \n",
       "</tr>\n",
       "<tr>\n",
       "  <th>Intercept</th>       <td> -225.6017</td> <td>   90.754</td> <td>   -2.486</td> <td> 0.013</td> <td> -404.039</td> <td>  -47.165</td>\n",
       "</tr>\n",
       "<tr>\n",
       "  <th>rating_10_scale</th> <td>   48.2545</td> <td>   15.684</td> <td>    3.077</td> <td> 0.002</td> <td>   17.417</td> <td>   79.092</td>\n",
       "</tr>\n",
       "</table>"
      ],
      "text/plain": [
       "<class 'statsmodels.iolib.table.SimpleTable'>"
      ]
     },
     "execution_count": 27,
     "metadata": {},
     "output_type": "execute_result"
    }
   ],
   "source": [
    "box_office_robust1 = box_office_est1.get_robustcov_results(cov_type='HC3') \n",
    "box_office_robust1.summary().tables[1]"
   ]
  },
  {
   "cell_type": "markdown",
   "id": "923260bf",
   "metadata": {},
   "source": [
    "Here I study the correlation between world box office and 10-scale rating. First I make a normal ols and found that the coefficient is significant. Second, I make a residual plot and qqplot to diagnose whether the model comply with the assumption that 𝑆𝐷(𝜖𝑖)=𝜎 and the error 𝜖𝑖 are normally distributed. Based on the plots, we can see that: 1) when the expected box office 𝐸(𝑌𝑖) are smaller, the estimated errors tend to become more smaller in magnitude, and the errors are highly dispersed; 2) the estimated error doesn't lie on the straight line in qqplot. Therefore, the assumption that 𝑆𝐷(𝜖𝑖)=𝜎 and the error 𝜖𝑖 are normally distributed is problematic, and I choose to use robust 95% confidence interval to modify the original model. Third, from the robust result we can know that the effect of rating on world box office is significant. The coefficient 48.2545 represnets that when the rating is one unit higher, the expected box office in the whole world will increase 48.2545 million US dollars. The true effect of rating on world box office has 95% probability to be between 17.417 and 79.092."
   ]
  },
  {
   "cell_type": "markdown",
   "id": "ba82571f",
   "metadata": {},
   "source": [
    "3. `world gross box office - budget`"
   ]
  },
  {
   "cell_type": "code",
   "execution_count": 28,
   "id": "597d4652",
   "metadata": {},
   "outputs": [
    {
     "data": {
      "text/html": [
       "<table class=\"simpletable\">\n",
       "<tr>\n",
       "           <td></td>             <th>coef</th>     <th>std err</th>      <th>t</th>      <th>P>|t|</th>  <th>[0.025</th>    <th>0.975]</th>  \n",
       "</tr>\n",
       "<tr>\n",
       "  <th>Intercept</th>          <td>  -34.5377</td> <td>   18.103</td> <td>   -1.908</td> <td> 0.058</td> <td>  -70.256</td> <td>    1.180</td>\n",
       "</tr>\n",
       "<tr>\n",
       "  <th>budget_USD_Million</th> <td>    4.5537</td> <td>    0.251</td> <td>   18.159</td> <td> 0.000</td> <td>    4.059</td> <td>    5.048</td>\n",
       "</tr>\n",
       "</table>"
      ],
      "text/plain": [
       "<class 'statsmodels.iolib.table.SimpleTable'>"
      ]
     },
     "execution_count": 28,
     "metadata": {},
     "output_type": "execute_result"
    }
   ],
   "source": [
    "world_budget_exist = imdb_worldwide_gross_exist.loc[pd.isna(imdb_worldwide_gross_exist['budget_USD_Million'])==False]\n",
    "box_office_est2 = ols('gross_world_USD_Million~budget_USD_Million',data=world_budget_exist).fit() \n",
    "box_office_est2.summary().tables[1]"
   ]
  },
  {
   "cell_type": "code",
   "execution_count": 29,
   "id": "263769b1",
   "metadata": {},
   "outputs": [
    {
     "data": {
      "image/png": "[encoded data removed]",
      "text/plain": [
       "<Figure size 432x288 with 1 Axes>"
      ]
     },
     "metadata": {
      "needs_background": "light"
     },
     "output_type": "display_data"
    }
   ],
   "source": [
    "ax = sns.scatterplot(x=box_office_est2.predict(),y=box_office_est2.resid) \n",
    "ax.axhline(color='black',linestyle='--',linewidth=3) \n",
    "ax.set(xlabel='Expected box office',ylabel='Error');"
   ]
  },
  {
   "cell_type": "code",
   "execution_count": 30,
   "id": "fd072142",
   "metadata": {},
   "outputs": [
    {
     "data": {
      "image/png": "[encoded data removed]",
      "text/plain": [
       "<Figure size 432x288 with 1 Axes>"
      ]
     },
     "metadata": {
      "needs_background": "light"
     },
     "output_type": "display_data"
    }
   ],
   "source": [
    "sm.qqplot(box_office_est2.resid,line='r');"
   ]
  },
  {
   "cell_type": "code",
   "execution_count": 31,
   "id": "245b9458",
   "metadata": {
    "scrolled": true
   },
   "outputs": [
    {
     "data": {
      "text/html": [
       "<table class=\"simpletable\">\n",
       "<tr>\n",
       "           <td></td>             <th>coef</th>     <th>std err</th>      <th>t</th>      <th>P>|t|</th>  <th>[0.025</th>    <th>0.975]</th>  \n",
       "</tr>\n",
       "<tr>\n",
       "  <th>Intercept</th>          <td>  -34.5377</td> <td>   24.990</td> <td>   -1.382</td> <td> 0.169</td> <td>  -83.844</td> <td>   14.769</td>\n",
       "</tr>\n",
       "<tr>\n",
       "  <th>budget_USD_Million</th> <td>    4.5537</td> <td>    0.829</td> <td>    5.491</td> <td> 0.000</td> <td>    2.917</td> <td>    6.190</td>\n",
       "</tr>\n",
       "</table>"
      ],
      "text/plain": [
       "<class 'statsmodels.iolib.table.SimpleTable'>"
      ]
     },
     "execution_count": 31,
     "metadata": {},
     "output_type": "execute_result"
    }
   ],
   "source": [
    "box_office_robust2 = box_office_est2.get_robustcov_results(cov_type='HC3') \n",
    "box_office_robust2.summary().tables[1]"
   ]
  },
  {
   "cell_type": "markdown",
   "id": "e06550fa",
   "metadata": {},
   "source": [
    "Here I study the correlation between world box office and movie budget. First I make a normal ols and found that the coefficient is significant. Second, I make a residual plot and qqplot to diagnose whether the model comply with the assumption that 𝑆𝐷(𝜖𝑖)=𝜎 and the error 𝜖𝑖 are normally distributed. Based on the plots, we can see that: 1) when the expected box office 𝐸(𝑌𝑖) are smaller, the estimated errors tend to become more smaller in magnitude; 2) the estimated error doesn't lie on the straight line in qqplot. Therefore, the assumption that 𝑆𝐷(𝜖𝑖)=𝜎 and the error 𝜖𝑖 are normally distributed is problematic, and I choose to use robust 95% confidence interval to modify the original model. Third, from the robust result we can know that the effect of budget on world box office is significant. The coefficient 4.5537 represnets that when the budget is one million US dollars higher, the expected box office in the whole world will increase 4.5537 million US dollars. The true effect of rating on world box office has 95% probability to be between 2.917 and 6.19."
   ]
  },
  {
   "cell_type": "markdown",
   "id": "6f83c83b",
   "metadata": {},
   "source": [
    "##### *Multiple predictors*"
   ]
  },
  {
   "cell_type": "code",
   "execution_count": 32,
   "id": "f2c4e096",
   "metadata": {
    "scrolled": true
   },
   "outputs": [
    {
     "data": {
      "text/html": [
       "<div>\n",
       "<style scoped>\n",
       "    .dataframe tbody tr th:only-of-type {\n",
       "        vertical-align: middle;\n",
       "    }\n",
       "\n",
       "    .dataframe tbody tr th {\n",
       "        vertical-align: top;\n",
       "    }\n",
       "\n",
       "    .dataframe thead th {\n",
       "        text-align: right;\n",
       "    }\n",
       "</style>\n",
       "<table border=\"1\" class=\"dataframe\">\n",
       "  <thead>\n",
       "    <tr style=\"text-align: right;\">\n",
       "      <th></th>\n",
       "      <th>name</th>\n",
       "      <th>length_min</th>\n",
       "      <th>genre</th>\n",
       "      <th>rating_10_scale</th>\n",
       "      <th>metascore_100_scale</th>\n",
       "      <th>vote_number_thousand</th>\n",
       "      <th>US_Canada_gross_USD_Million</th>\n",
       "      <th>budget_USD_Million</th>\n",
       "      <th>opening_week_gross_USD_Million</th>\n",
       "      <th>gross_world_USD_Million</th>\n",
       "      <th>movie_length_type</th>\n",
       "      <th>High_low_score</th>\n",
       "    </tr>\n",
       "  </thead>\n",
       "  <tbody>\n",
       "    <tr>\n",
       "      <th>0</th>\n",
       "      <td>Spider-Man: Far from Home</td>\n",
       "      <td>129</td>\n",
       "      <td>Action, Adventure, Sci-Fi</td>\n",
       "      <td>7.4</td>\n",
       "      <td>69.0</td>\n",
       "      <td>414.434</td>\n",
       "      <td>390.53</td>\n",
       "      <td>160.0</td>\n",
       "      <td>92.579212</td>\n",
       "      <td>1131.927996</td>\n",
       "      <td>long</td>\n",
       "      <td>1</td>\n",
       "    </tr>\n",
       "    <tr>\n",
       "      <th>1</th>\n",
       "      <td>Avengers: Endgame</td>\n",
       "      <td>181</td>\n",
       "      <td>Action, Adventure, Drama</td>\n",
       "      <td>8.4</td>\n",
       "      <td>78.0</td>\n",
       "      <td>981.756</td>\n",
       "      <td>858.37</td>\n",
       "      <td>356.0</td>\n",
       "      <td>357.115007</td>\n",
       "      <td>2797.501328</td>\n",
       "      <td>long</td>\n",
       "      <td>1</td>\n",
       "    </tr>\n",
       "    <tr>\n",
       "      <th>4</th>\n",
       "      <td>Little Women</td>\n",
       "      <td>135</td>\n",
       "      <td>Drama, Romance</td>\n",
       "      <td>7.8</td>\n",
       "      <td>91.0</td>\n",
       "      <td>176.347</td>\n",
       "      <td>108.10</td>\n",
       "      <td>40.0</td>\n",
       "      <td>16.755310</td>\n",
       "      <td>216.601214</td>\n",
       "      <td>long</td>\n",
       "      <td>1</td>\n",
       "    </tr>\n",
       "    <tr>\n",
       "      <th>5</th>\n",
       "      <td>The Lighthouse</td>\n",
       "      <td>109</td>\n",
       "      <td>Drama, Fantasy, Horror</td>\n",
       "      <td>7.5</td>\n",
       "      <td>83.0</td>\n",
       "      <td>181.100</td>\n",
       "      <td>0.43</td>\n",
       "      <td>11.0</td>\n",
       "      <td>0.427797</td>\n",
       "      <td>18.124206</td>\n",
       "      <td>normal</td>\n",
       "      <td>1</td>\n",
       "    </tr>\n",
       "    <tr>\n",
       "      <th>6</th>\n",
       "      <td>Midsommar</td>\n",
       "      <td>148</td>\n",
       "      <td>Drama, Horror, Mystery</td>\n",
       "      <td>7.1</td>\n",
       "      <td>72.0</td>\n",
       "      <td>268.146</td>\n",
       "      <td>27.33</td>\n",
       "      <td>9.0</td>\n",
       "      <td>6.560030</td>\n",
       "      <td>47.967636</td>\n",
       "      <td>long</td>\n",
       "      <td>1</td>\n",
       "    </tr>\n",
       "    <tr>\n",
       "      <th>...</th>\n",
       "      <td>...</td>\n",
       "      <td>...</td>\n",
       "      <td>...</td>\n",
       "      <td>...</td>\n",
       "      <td>...</td>\n",
       "      <td>...</td>\n",
       "      <td>...</td>\n",
       "      <td>...</td>\n",
       "      <td>...</td>\n",
       "      <td>...</td>\n",
       "      <td>...</td>\n",
       "      <td>...</td>\n",
       "    </tr>\n",
       "    <tr>\n",
       "      <th>338</th>\n",
       "      <td>Triple Threat</td>\n",
       "      <td>96</td>\n",
       "      <td>Action, Thriller</td>\n",
       "      <td>5.6</td>\n",
       "      <td>60.0</td>\n",
       "      <td>10.884</td>\n",
       "      <td>0.08</td>\n",
       "      <td>10.0</td>\n",
       "      <td>0.005936</td>\n",
       "      <td>0.345900</td>\n",
       "      <td>normal</td>\n",
       "      <td>0</td>\n",
       "    </tr>\n",
       "    <tr>\n",
       "      <th>390</th>\n",
       "      <td>A Madea Family Funeral</td>\n",
       "      <td>109</td>\n",
       "      <td>Comedy, Drama</td>\n",
       "      <td>4.5</td>\n",
       "      <td>39.0</td>\n",
       "      <td>4.244</td>\n",
       "      <td>73.26</td>\n",
       "      <td>20.0</td>\n",
       "      <td>27.062332</td>\n",
       "      <td>74.747725</td>\n",
       "      <td>normal</td>\n",
       "      <td>0</td>\n",
       "    </tr>\n",
       "    <tr>\n",
       "      <th>448</th>\n",
       "      <td>Mysteriet om hr. Link</td>\n",
       "      <td>93</td>\n",
       "      <td>Animation, Adventure, Comedy</td>\n",
       "      <td>6.7</td>\n",
       "      <td>68.0</td>\n",
       "      <td>24.657</td>\n",
       "      <td>16.65</td>\n",
       "      <td>100.0</td>\n",
       "      <td>5.944950</td>\n",
       "      <td>26.565710</td>\n",
       "      <td>normal</td>\n",
       "      <td>0</td>\n",
       "    </tr>\n",
       "    <tr>\n",
       "      <th>457</th>\n",
       "      <td>The Prodigy</td>\n",
       "      <td>92</td>\n",
       "      <td>Fantasy, Horror, Mystery</td>\n",
       "      <td>5.9</td>\n",
       "      <td>45.0</td>\n",
       "      <td>25.529</td>\n",
       "      <td>14.86</td>\n",
       "      <td>6.0</td>\n",
       "      <td>5.853061</td>\n",
       "      <td>21.127789</td>\n",
       "      <td>normal</td>\n",
       "      <td>0</td>\n",
       "    </tr>\n",
       "    <tr>\n",
       "      <th>497</th>\n",
       "      <td>Overcomer</td>\n",
       "      <td>119</td>\n",
       "      <td>Drama, Family, Sport</td>\n",
       "      <td>6.7</td>\n",
       "      <td>17.0</td>\n",
       "      <td>4.559</td>\n",
       "      <td>26.25</td>\n",
       "      <td>5.0</td>\n",
       "      <td>8.146533</td>\n",
       "      <td>38.026103</td>\n",
       "      <td>normal</td>\n",
       "      <td>0</td>\n",
       "    </tr>\n",
       "  </tbody>\n",
       "</table>\n",
       "<p>108 rows × 12 columns</p>\n",
       "</div>"
      ],
      "text/plain": [
       "                          name  length_min                         genre  \\\n",
       "0    Spider-Man: Far from Home         129     Action, Adventure, Sci-Fi   \n",
       "1            Avengers: Endgame         181      Action, Adventure, Drama   \n",
       "4                 Little Women         135                Drama, Romance   \n",
       "5               The Lighthouse         109        Drama, Fantasy, Horror   \n",
       "6                    Midsommar         148        Drama, Horror, Mystery   \n",
       "..                         ...         ...                           ...   \n",
       "338              Triple Threat          96              Action, Thriller   \n",
       "390     A Madea Family Funeral         109                 Comedy, Drama   \n",
       "448      Mysteriet om hr. Link          93  Animation, Adventure, Comedy   \n",
       "457                The Prodigy          92      Fantasy, Horror, Mystery   \n",
       "497                  Overcomer         119          Drama, Family, Sport   \n",
       "\n",
       "     rating_10_scale  metascore_100_scale  vote_number_thousand  \\\n",
       "0                7.4                 69.0               414.434   \n",
       "1                8.4                 78.0               981.756   \n",
       "4                7.8                 91.0               176.347   \n",
       "5                7.5                 83.0               181.100   \n",
       "6                7.1                 72.0               268.146   \n",
       "..               ...                  ...                   ...   \n",
       "338              5.6                 60.0                10.884   \n",
       "390              4.5                 39.0                 4.244   \n",
       "448              6.7                 68.0                24.657   \n",
       "457              5.9                 45.0                25.529   \n",
       "497              6.7                 17.0                 4.559   \n",
       "\n",
       "     US_Canada_gross_USD_Million  budget_USD_Million  \\\n",
       "0                         390.53               160.0   \n",
       "1                         858.37               356.0   \n",
       "4                         108.10                40.0   \n",
       "5                           0.43                11.0   \n",
       "6                          27.33                 9.0   \n",
       "..                           ...                 ...   \n",
       "338                         0.08                10.0   \n",
       "390                        73.26                20.0   \n",
       "448                        16.65               100.0   \n",
       "457                        14.86                 6.0   \n",
       "497                        26.25                 5.0   \n",
       "\n",
       "     opening_week_gross_USD_Million  gross_world_USD_Million  \\\n",
       "0                         92.579212              1131.927996   \n",
       "1                        357.115007              2797.501328   \n",
       "4                         16.755310               216.601214   \n",
       "5                          0.427797                18.124206   \n",
       "6                          6.560030                47.967636   \n",
       "..                              ...                      ...   \n",
       "338                        0.005936                 0.345900   \n",
       "390                       27.062332                74.747725   \n",
       "448                        5.944950                26.565710   \n",
       "457                        5.853061                21.127789   \n",
       "497                        8.146533                38.026103   \n",
       "\n",
       "    movie_length_type  High_low_score  \n",
       "0                long               1  \n",
       "1                long               1  \n",
       "4                long               1  \n",
       "5              normal               1  \n",
       "6                long               1  \n",
       "..                ...             ...  \n",
       "338            normal               0  \n",
       "390            normal               0  \n",
       "448            normal               0  \n",
       "457            normal               0  \n",
       "497            normal               0  \n",
       "\n",
       "[108 rows x 12 columns]"
      ]
     },
     "execution_count": 32,
     "metadata": {},
     "output_type": "execute_result"
    }
   ],
   "source": [
    "imdb_df_clean = imdb_df.dropna()\n",
    "imdb_df_clean"
   ]
  },
  {
   "cell_type": "markdown",
   "id": "3b9bb70d",
   "metadata": {},
   "source": [
    "1. `world box office - rating + budget + opening week box office`"
   ]
  },
  {
   "cell_type": "code",
   "execution_count": 33,
   "id": "eb0fcb4a",
   "metadata": {
    "scrolled": false
   },
   "outputs": [
    {
     "data": {
      "text/html": [
       "<table class=\"simpletable\">\n",
       "<tr>\n",
       "                 <td></td>                   <th>coef</th>     <th>std err</th>      <th>t</th>      <th>P>|t|</th>  <th>[0.025</th>    <th>0.975]</th>  \n",
       "</tr>\n",
       "<tr>\n",
       "  <th>Intercept</th>                      <td> -390.4230</td> <td>   99.614</td> <td>   -3.919</td> <td> 0.000</td> <td> -587.961</td> <td> -192.885</td>\n",
       "</tr>\n",
       "<tr>\n",
       "  <th>rating_10_scale</th>                <td>   59.3583</td> <td>   15.352</td> <td>    3.866</td> <td> 0.000</td> <td>   28.914</td> <td>   89.803</td>\n",
       "</tr>\n",
       "<tr>\n",
       "  <th>budget_USD_Million</th>             <td>    0.9997</td> <td>    0.279</td> <td>    3.580</td> <td> 0.001</td> <td>    0.446</td> <td>    1.554</td>\n",
       "</tr>\n",
       "<tr>\n",
       "  <th>opening_week_gross_USD_Million</th> <td>    6.6242</td> <td>    0.407</td> <td>   16.267</td> <td> 0.000</td> <td>    5.817</td> <td>    7.432</td>\n",
       "</tr>\n",
       "</table>"
      ],
      "text/plain": [
       "<class 'statsmodels.iolib.table.SimpleTable'>"
      ]
     },
     "execution_count": 33,
     "metadata": {},
     "output_type": "execute_result"
    }
   ],
   "source": [
    "box_office_est3 = ols('gross_world_USD_Million~rating_10_scale+budget_USD_Million \\\n",
    "                      +opening_week_gross_USD_Million',data=imdb_df_clean).fit() \n",
    "box_office_est3.summary().tables[1]"
   ]
  },
  {
   "cell_type": "code",
   "execution_count": 34,
   "id": "7aaaa99a",
   "metadata": {},
   "outputs": [
    {
     "data": {
      "image/png": "[encoded data removed]",
      "text/plain": [
       "<Figure size 432x288 with 1 Axes>"
      ]
     },
     "metadata": {
      "needs_background": "light"
     },
     "output_type": "display_data"
    }
   ],
   "source": [
    "ax = sns.scatterplot(x=box_office_est3.predict(),y=box_office_est3.resid) \n",
    "ax.axhline(color='black',linestyle='--',linewidth=3) \n",
    "ax.set(xlabel='Expected box office',ylabel='Error');"
   ]
  },
  {
   "cell_type": "code",
   "execution_count": 35,
   "id": "d358f63d",
   "metadata": {},
   "outputs": [
    {
     "data": {
      "image/png": "[encoded data removed]",
      "text/plain": [
       "<Figure size 432x288 with 1 Axes>"
      ]
     },
     "metadata": {
      "needs_background": "light"
     },
     "output_type": "display_data"
    }
   ],
   "source": [
    "sm.qqplot(box_office_est3.resid,line='r');"
   ]
  },
  {
   "cell_type": "code",
   "execution_count": 36,
   "id": "ceea297f",
   "metadata": {},
   "outputs": [
    {
     "data": {
      "text/html": [
       "<table class=\"simpletable\">\n",
       "<tr>\n",
       "                 <td></td>                   <th>coef</th>     <th>std err</th>      <th>t</th>      <th>P>|t|</th>  <th>[0.025</th>    <th>0.975]</th>  \n",
       "</tr>\n",
       "<tr>\n",
       "  <th>Intercept</th>                      <td> -390.4230</td> <td>   91.091</td> <td>   -4.286</td> <td> 0.000</td> <td> -571.060</td> <td> -209.786</td>\n",
       "</tr>\n",
       "<tr>\n",
       "  <th>rating_10_scale</th>                <td>   59.3583</td> <td>   14.677</td> <td>    4.044</td> <td> 0.000</td> <td>   30.254</td> <td>   88.463</td>\n",
       "</tr>\n",
       "<tr>\n",
       "  <th>budget_USD_Million</th>             <td>    0.9997</td> <td>    0.313</td> <td>    3.190</td> <td> 0.002</td> <td>    0.378</td> <td>    1.621</td>\n",
       "</tr>\n",
       "<tr>\n",
       "  <th>opening_week_gross_USD_Million</th> <td>    6.6242</td> <td>    0.507</td> <td>   13.056</td> <td> 0.000</td> <td>    5.618</td> <td>    7.630</td>\n",
       "</tr>\n",
       "</table>"
      ],
      "text/plain": [
       "<class 'statsmodels.iolib.table.SimpleTable'>"
      ]
     },
     "execution_count": 36,
     "metadata": {},
     "output_type": "execute_result"
    }
   ],
   "source": [
    "box_office_robust3 = box_office_est3.get_robustcov_results(cov_type='HC3') \n",
    "box_office_robust3.summary().tables[1]"
   ]
  },
  {
   "cell_type": "markdown",
   "id": "4c6f89ab",
   "metadata": {},
   "source": [
    "Here I study the correlation between world box office and rating, budget and opening week box office. First I make a normal ols and found that all coefficients are significant. Second, I make a residual plot and qqplot to diagnose whether the model comply with the assumption that 𝑆𝐷(𝜖𝑖)=𝜎 and the error 𝜖𝑖 are normally distributed. Based on the plots, we can see that: 1) when the expected box office 𝐸(𝑌𝑖) are smaller, the estimated errors tend to become more smaller in magnitude; 2) the estimated error doesn't lie on the straight line in qqplot. Therefore, the assumption that 𝑆𝐷(𝜖𝑖)=𝜎 and the error 𝜖𝑖 are normally distributed is problematic, and I choose to use robust 95% confidence interval to modify the original model. \n",
    "\n",
    "Third, from the robust result we can know that the effects of rating, budget and opening week box office on world box office are significant. The coefficient 59.3583 represents that when budget and opening week box office are controlled for, if the rating is one unit higher, the expected box office in the world will increase 59.3583 million US dollars. The coefficient 0.9997 represnets that when rating and opening week box office are controlled for, if the budget is one million US dollars higher, the expected box office in the world will increase 0.9997 million US dollars. The coefficient 6.6242 represnets that when budget and rating are controlled for, if the opening week box office is one million US dollars higher, the expected box office in the world will increase 6.6242 million US dollars."
   ]
  },
  {
   "cell_type": "markdown",
   "id": "0cfbea94",
   "metadata": {},
   "source": [
    "#### (2) Logistic regression"
   ]
  },
  {
   "cell_type": "code",
   "execution_count": 37,
   "id": "dd7936c8",
   "metadata": {
    "scrolled": true
   },
   "outputs": [
    {
     "data": {
      "text/html": [
       "<div>\n",
       "<style scoped>\n",
       "    .dataframe tbody tr th:only-of-type {\n",
       "        vertical-align: middle;\n",
       "    }\n",
       "\n",
       "    .dataframe tbody tr th {\n",
       "        vertical-align: top;\n",
       "    }\n",
       "\n",
       "    .dataframe thead th {\n",
       "        text-align: right;\n",
       "    }\n",
       "</style>\n",
       "<table border=\"1\" class=\"dataframe\">\n",
       "  <thead>\n",
       "    <tr style=\"text-align: right;\">\n",
       "      <th></th>\n",
       "      <th>name</th>\n",
       "      <th>length_min</th>\n",
       "      <th>genre</th>\n",
       "      <th>rating_10_scale</th>\n",
       "      <th>metascore_100_scale</th>\n",
       "      <th>vote_number_thousand</th>\n",
       "      <th>US_Canada_gross_USD_Million</th>\n",
       "      <th>budget_USD_Million</th>\n",
       "      <th>opening_week_gross_USD_Million</th>\n",
       "      <th>gross_world_USD_Million</th>\n",
       "      <th>movie_length_type</th>\n",
       "      <th>High_low_score</th>\n",
       "    </tr>\n",
       "  </thead>\n",
       "  <tbody>\n",
       "    <tr>\n",
       "      <th>0</th>\n",
       "      <td>Spider-Man: Far from Home</td>\n",
       "      <td>129</td>\n",
       "      <td>Action, Adventure, Sci-Fi</td>\n",
       "      <td>7.4</td>\n",
       "      <td>69.0</td>\n",
       "      <td>414.434</td>\n",
       "      <td>390.53</td>\n",
       "      <td>160.000000</td>\n",
       "      <td>92.579212</td>\n",
       "      <td>1131.927996</td>\n",
       "      <td>long</td>\n",
       "      <td>1</td>\n",
       "    </tr>\n",
       "    <tr>\n",
       "      <th>1</th>\n",
       "      <td>Avengers: Endgame</td>\n",
       "      <td>181</td>\n",
       "      <td>Action, Adventure, Drama</td>\n",
       "      <td>8.4</td>\n",
       "      <td>78.0</td>\n",
       "      <td>981.756</td>\n",
       "      <td>858.37</td>\n",
       "      <td>356.000000</td>\n",
       "      <td>357.115007</td>\n",
       "      <td>2797.501328</td>\n",
       "      <td>long</td>\n",
       "      <td>1</td>\n",
       "    </tr>\n",
       "    <tr>\n",
       "      <th>2</th>\n",
       "      <td>Klaus</td>\n",
       "      <td>96</td>\n",
       "      <td>Animation, Adventure, Comedy</td>\n",
       "      <td>8.2</td>\n",
       "      <td>65.0</td>\n",
       "      <td>132.425</td>\n",
       "      <td>NaN</td>\n",
       "      <td>40.000000</td>\n",
       "      <td>NaN</td>\n",
       "      <td>NaN</td>\n",
       "      <td>normal</td>\n",
       "      <td>1</td>\n",
       "    </tr>\n",
       "    <tr>\n",
       "      <th>3</th>\n",
       "      <td>Last Christmas</td>\n",
       "      <td>103</td>\n",
       "      <td>Comedy, Drama, Fantasy</td>\n",
       "      <td>6.5</td>\n",
       "      <td>50.0</td>\n",
       "      <td>71.509</td>\n",
       "      <td>NaN</td>\n",
       "      <td>25.000000</td>\n",
       "      <td>11.441055</td>\n",
       "      <td>121.550750</td>\n",
       "      <td>normal</td>\n",
       "      <td>0</td>\n",
       "    </tr>\n",
       "    <tr>\n",
       "      <th>4</th>\n",
       "      <td>Little Women</td>\n",
       "      <td>135</td>\n",
       "      <td>Drama, Romance</td>\n",
       "      <td>7.8</td>\n",
       "      <td>91.0</td>\n",
       "      <td>176.347</td>\n",
       "      <td>108.10</td>\n",
       "      <td>40.000000</td>\n",
       "      <td>16.755310</td>\n",
       "      <td>216.601214</td>\n",
       "      <td>long</td>\n",
       "      <td>1</td>\n",
       "    </tr>\n",
       "    <tr>\n",
       "      <th>...</th>\n",
       "      <td>...</td>\n",
       "      <td>...</td>\n",
       "      <td>...</td>\n",
       "      <td>...</td>\n",
       "      <td>...</td>\n",
       "      <td>...</td>\n",
       "      <td>...</td>\n",
       "      <td>...</td>\n",
       "      <td>...</td>\n",
       "      <td>...</td>\n",
       "      <td>...</td>\n",
       "      <td>...</td>\n",
       "    </tr>\n",
       "    <tr>\n",
       "      <th>484</th>\n",
       "      <td>Deathcember</td>\n",
       "      <td>145</td>\n",
       "      <td>Comedy, Horror</td>\n",
       "      <td>4.5</td>\n",
       "      <td>NaN</td>\n",
       "      <td>0.617</td>\n",
       "      <td>NaN</td>\n",
       "      <td>0.167973</td>\n",
       "      <td>NaN</td>\n",
       "      <td>NaN</td>\n",
       "      <td>long</td>\n",
       "      <td>0</td>\n",
       "    </tr>\n",
       "    <tr>\n",
       "      <th>488</th>\n",
       "      <td>The Hard Way</td>\n",
       "      <td>92</td>\n",
       "      <td>Action</td>\n",
       "      <td>4.8</td>\n",
       "      <td>NaN</td>\n",
       "      <td>3.078</td>\n",
       "      <td>NaN</td>\n",
       "      <td>3.500000</td>\n",
       "      <td>NaN</td>\n",
       "      <td>NaN</td>\n",
       "      <td>normal</td>\n",
       "      <td>0</td>\n",
       "    </tr>\n",
       "    <tr>\n",
       "      <th>494</th>\n",
       "      <td>Balkanskiy rubezh</td>\n",
       "      <td>130</td>\n",
       "      <td>Action, War</td>\n",
       "      <td>6.6</td>\n",
       "      <td>NaN</td>\n",
       "      <td>9.450</td>\n",
       "      <td>NaN</td>\n",
       "      <td>3.555583</td>\n",
       "      <td>NaN</td>\n",
       "      <td>5.849400</td>\n",
       "      <td>long</td>\n",
       "      <td>0</td>\n",
       "    </tr>\n",
       "    <tr>\n",
       "      <th>497</th>\n",
       "      <td>Overcomer</td>\n",
       "      <td>119</td>\n",
       "      <td>Drama, Family, Sport</td>\n",
       "      <td>6.7</td>\n",
       "      <td>17.0</td>\n",
       "      <td>4.559</td>\n",
       "      <td>26.25</td>\n",
       "      <td>5.000000</td>\n",
       "      <td>8.146533</td>\n",
       "      <td>38.026103</td>\n",
       "      <td>normal</td>\n",
       "      <td>0</td>\n",
       "    </tr>\n",
       "    <tr>\n",
       "      <th>499</th>\n",
       "      <td>Among the Shadows</td>\n",
       "      <td>96</td>\n",
       "      <td>Horror, Thriller</td>\n",
       "      <td>2.2</td>\n",
       "      <td>NaN</td>\n",
       "      <td>1.025</td>\n",
       "      <td>NaN</td>\n",
       "      <td>3.000000</td>\n",
       "      <td>NaN</td>\n",
       "      <td>NaN</td>\n",
       "      <td>normal</td>\n",
       "      <td>0</td>\n",
       "    </tr>\n",
       "  </tbody>\n",
       "</table>\n",
       "<p>205 rows × 12 columns</p>\n",
       "</div>"
      ],
      "text/plain": [
       "                          name  length_min                         genre  \\\n",
       "0    Spider-Man: Far from Home         129     Action, Adventure, Sci-Fi   \n",
       "1            Avengers: Endgame         181      Action, Adventure, Drama   \n",
       "2                        Klaus          96  Animation, Adventure, Comedy   \n",
       "3               Last Christmas         103        Comedy, Drama, Fantasy   \n",
       "4                 Little Women         135                Drama, Romance   \n",
       "..                         ...         ...                           ...   \n",
       "484                Deathcember         145                Comedy, Horror   \n",
       "488               The Hard Way          92                        Action   \n",
       "494          Balkanskiy rubezh         130                   Action, War   \n",
       "497                  Overcomer         119          Drama, Family, Sport   \n",
       "499          Among the Shadows          96              Horror, Thriller   \n",
       "\n",
       "     rating_10_scale  metascore_100_scale  vote_number_thousand  \\\n",
       "0                7.4                 69.0               414.434   \n",
       "1                8.4                 78.0               981.756   \n",
       "2                8.2                 65.0               132.425   \n",
       "3                6.5                 50.0                71.509   \n",
       "4                7.8                 91.0               176.347   \n",
       "..               ...                  ...                   ...   \n",
       "484              4.5                  NaN                 0.617   \n",
       "488              4.8                  NaN                 3.078   \n",
       "494              6.6                  NaN                 9.450   \n",
       "497              6.7                 17.0                 4.559   \n",
       "499              2.2                  NaN                 1.025   \n",
       "\n",
       "     US_Canada_gross_USD_Million  budget_USD_Million  \\\n",
       "0                         390.53          160.000000   \n",
       "1                         858.37          356.000000   \n",
       "2                            NaN           40.000000   \n",
       "3                            NaN           25.000000   \n",
       "4                         108.10           40.000000   \n",
       "..                           ...                 ...   \n",
       "484                          NaN            0.167973   \n",
       "488                          NaN            3.500000   \n",
       "494                          NaN            3.555583   \n",
       "497                        26.25            5.000000   \n",
       "499                          NaN            3.000000   \n",
       "\n",
       "     opening_week_gross_USD_Million  gross_world_USD_Million  \\\n",
       "0                         92.579212              1131.927996   \n",
       "1                        357.115007              2797.501328   \n",
       "2                               NaN                      NaN   \n",
       "3                         11.441055               121.550750   \n",
       "4                         16.755310               216.601214   \n",
       "..                              ...                      ...   \n",
       "484                             NaN                      NaN   \n",
       "488                             NaN                      NaN   \n",
       "494                             NaN                 5.849400   \n",
       "497                        8.146533                38.026103   \n",
       "499                             NaN                      NaN   \n",
       "\n",
       "    movie_length_type  High_low_score  \n",
       "0                long               1  \n",
       "1                long               1  \n",
       "2              normal               1  \n",
       "3              normal               0  \n",
       "4                long               1  \n",
       "..                ...             ...  \n",
       "484              long               0  \n",
       "488            normal               0  \n",
       "494              long               0  \n",
       "497            normal               0  \n",
       "499            normal               0  \n",
       "\n",
       "[205 rows x 12 columns]"
      ]
     },
     "execution_count": 37,
     "metadata": {},
     "output_type": "execute_result"
    }
   ],
   "source": [
    "budget_clean = imdb_df.loc[pd.isna(imdb_df['budget_USD_Million']) == False]\n",
    "budget_clean"
   ]
  },
  {
   "cell_type": "markdown",
   "id": "a2f546e3",
   "metadata": {},
   "source": [
    "1. `binary score - budget`"
   ]
  },
  {
   "cell_type": "code",
   "execution_count": 38,
   "id": "d83f1fd5",
   "metadata": {},
   "outputs": [
    {
     "name": "stdout",
     "output_type": "stream",
     "text": [
      "Optimization terminated successfully.\n",
      "         Current function value: 0.552098\n",
      "         Iterations 5\n"
     ]
    },
    {
     "data": {
      "text/html": [
       "<table class=\"simpletable\">\n",
       "<tr>\n",
       "           <td></td>             <th>coef</th>     <th>std err</th>      <th>z</th>      <th>P>|z|</th>  <th>[0.025</th>    <th>0.975]</th>  \n",
       "</tr>\n",
       "<tr>\n",
       "  <th>Intercept</th>          <td>   -1.2679</td> <td>    0.202</td> <td>   -6.282</td> <td> 0.000</td> <td>   -1.664</td> <td>   -0.872</td>\n",
       "</tr>\n",
       "<tr>\n",
       "  <th>budget_USD_Million</th> <td>    0.0032</td> <td>    0.003</td> <td>    1.211</td> <td> 0.226</td> <td>   -0.002</td> <td>    0.008</td>\n",
       "</tr>\n",
       "</table>"
      ],
      "text/plain": [
       "<class 'statsmodels.iolib.table.SimpleTable'>"
      ]
     },
     "execution_count": 38,
     "metadata": {},
     "output_type": "execute_result"
    }
   ],
   "source": [
    "rating_logit = smf.logit(formula='High_low_score ~ budget_USD_Million', data=budget_clean).fit() \n",
    "rating_logit.summary().tables[1]"
   ]
  },
  {
   "cell_type": "markdown",
   "id": "c506f596",
   "metadata": {},
   "source": [
    "Here I study the correlation between binary variable score and budget. Based on the logistic regression result, the effect of budget on the high score odds *(high score probability/1-high score probability)* is not significant, as the p value is 0.226 which far exceeds 0.05."
   ]
  },
  {
   "cell_type": "markdown",
   "id": "8433f66f",
   "metadata": {},
   "source": [
    "2. `Binary score - vote number`"
   ]
  },
  {
   "cell_type": "code",
   "execution_count": 39,
   "id": "edad3b83",
   "metadata": {
    "scrolled": true
   },
   "outputs": [
    {
     "name": "stdout",
     "output_type": "stream",
     "text": [
      "Optimization terminated successfully.\n",
      "         Current function value: 0.486165\n",
      "         Iterations 6\n"
     ]
    },
    {
     "data": {
      "text/html": [
       "<table class=\"simpletable\">\n",
       "<tr>\n",
       "            <td></td>              <th>coef</th>     <th>std err</th>      <th>z</th>      <th>P>|z|</th>  <th>[0.025</th>    <th>0.975]</th>  \n",
       "</tr>\n",
       "<tr>\n",
       "  <th>Intercept</th>            <td>   -1.6556</td> <td>    0.134</td> <td>  -12.345</td> <td> 0.000</td> <td>   -1.918</td> <td>   -1.393</td>\n",
       "</tr>\n",
       "<tr>\n",
       "  <th>vote_number_thousand</th> <td>    0.0079</td> <td>    0.001</td> <td>    5.437</td> <td> 0.000</td> <td>    0.005</td> <td>    0.011</td>\n",
       "</tr>\n",
       "</table>"
      ],
      "text/plain": [
       "<class 'statsmodels.iolib.table.SimpleTable'>"
      ]
     },
     "execution_count": 39,
     "metadata": {},
     "output_type": "execute_result"
    }
   ],
   "source": [
    "rating_logit1 = smf.logit(formula='High_low_score ~ vote_number_thousand', data=imdb_df).fit() \n",
    "rating_logit1.summary().tables[1]"
   ]
  },
  {
   "cell_type": "markdown",
   "id": "92091796",
   "metadata": {},
   "source": [
    "Here I study the correlation between binary variable score and vote number. Based on the logistic regression result, the effect of vote number on the high score odds *(high score probability/1-high score probability)* is significant. The coefficient 0.0079 means that when vote number increase one unit(one thousand), the value of high score odds will increase $e^{0.0079}$=1.00793 multiple, revealing that the high score odds will increase 0.793%. The high score probability will be $[e^{-1.6556}/(e^{-1.6556}+1)]*[(e^{-1.6556+0.0079}+1)/e^{-1.6556+0.0079}]$ multiple of previous one. This true effect has 95% to be between 0.005 and 0.011."
   ]
  },
  {
   "cell_type": "markdown",
   "id": "c33d5aad",
   "metadata": {},
   "source": [
    "#### (3) Ols regression with control variable"
   ]
  },
  {
   "cell_type": "markdown",
   "id": "8185abbf",
   "metadata": {},
   "source": [
    "1. `world box office - opening week box office + binary score(control)`"
   ]
  },
  {
   "cell_type": "code",
   "execution_count": 40,
   "id": "31c90733",
   "metadata": {},
   "outputs": [
    {
     "data": {
      "text/html": [
       "<table class=\"simpletable\">\n",
       "<tr>\n",
       "                 <td></td>                   <th>coef</th>     <th>std err</th>      <th>t</th>      <th>P>|t|</th>  <th>[0.025</th>    <th>0.975]</th>  \n",
       "</tr>\n",
       "<tr>\n",
       "  <th>Intercept</th>                      <td>   -1.1703</td> <td>    8.899</td> <td>   -0.132</td> <td> 0.895</td> <td>  -18.707</td> <td>   16.367</td>\n",
       "</tr>\n",
       "<tr>\n",
       "  <th>opening_week_gross_USD_Million</th> <td>    7.9977</td> <td>    0.196</td> <td>   40.836</td> <td> 0.000</td> <td>    7.612</td> <td>    8.384</td>\n",
       "</tr>\n",
       "<tr>\n",
       "  <th>High_low_score</th>                 <td>   53.4719</td> <td>   15.293</td> <td>    3.497</td> <td> 0.001</td> <td>   23.335</td> <td>   83.609</td>\n",
       "</tr>\n",
       "</table>"
      ],
      "text/plain": [
       "<class 'statsmodels.iolib.table.SimpleTable'>"
      ]
     },
     "execution_count": 40,
     "metadata": {},
     "output_type": "execute_result"
    }
   ],
   "source": [
    "#select high/low score binary variable as control variable\n",
    "\n",
    "world_opening_control = imdb_df.loc[(pd.isna(imdb_df['opening_week_gross_USD_Million']) == False) &\n",
    "                                  (pd.isna(imdb_df['gross_world_USD_Million']) == False)]\n",
    "box_office_est4 = ols('gross_world_USD_Million~opening_week_gross_USD_Million+High_low_score',\n",
    "                      data=world_opening_control).fit() \n",
    "box_office_est4.summary().tables[1]"
   ]
  },
  {
   "cell_type": "code",
   "execution_count": 41,
   "id": "276fb6b3",
   "metadata": {},
   "outputs": [
    {
     "data": {
      "image/png": "[encoded data removed]",
      "text/plain": [
       "<Figure size 432x288 with 1 Axes>"
      ]
     },
     "metadata": {
      "needs_background": "light"
     },
     "output_type": "display_data"
    }
   ],
   "source": [
    "ax = sns.scatterplot(x=box_office_est4.predict(),y=box_office_est4.resid) \n",
    "ax.axhline(color='black',linestyle='--',linewidth=3) \n",
    "ax.set(xlabel='Expected box office',ylabel='Error');"
   ]
  },
  {
   "cell_type": "code",
   "execution_count": 42,
   "id": "b1ae32a1",
   "metadata": {},
   "outputs": [
    {
     "data": {
      "image/png": "[encoded data removed]",
      "text/plain": [
       "<Figure size 432x288 with 1 Axes>"
      ]
     },
     "metadata": {
      "needs_background": "light"
     },
     "output_type": "display_data"
    }
   ],
   "source": [
    "sm.qqplot(box_office_est4.resid,line='r');"
   ]
  },
  {
   "cell_type": "code",
   "execution_count": 43,
   "id": "4cabcd63",
   "metadata": {},
   "outputs": [
    {
     "data": {
      "text/html": [
       "<table class=\"simpletable\">\n",
       "<tr>\n",
       "                 <td></td>                   <th>coef</th>     <th>std err</th>      <th>t</th>      <th>P>|t|</th>  <th>[0.025</th>    <th>0.975]</th>  \n",
       "</tr>\n",
       "<tr>\n",
       "  <th>Intercept</th>                      <td>   -1.1703</td> <td>    7.108</td> <td>   -0.165</td> <td> 0.869</td> <td>  -15.177</td> <td>   12.836</td>\n",
       "</tr>\n",
       "<tr>\n",
       "  <th>opening_week_gross_USD_Million</th> <td>    7.9977</td> <td>    0.415</td> <td>   19.271</td> <td> 0.000</td> <td>    7.180</td> <td>    8.816</td>\n",
       "</tr>\n",
       "<tr>\n",
       "  <th>High_low_score</th>                 <td>   53.4719</td> <td>   17.397</td> <td>    3.074</td> <td> 0.002</td> <td>   19.189</td> <td>   87.755</td>\n",
       "</tr>\n",
       "</table>"
      ],
      "text/plain": [
       "<class 'statsmodels.iolib.table.SimpleTable'>"
      ]
     },
     "execution_count": 43,
     "metadata": {},
     "output_type": "execute_result"
    }
   ],
   "source": [
    "box_office_robust4 = box_office_est4.get_robustcov_results(cov_type='HC3') \n",
    "box_office_robust4.summary().tables[1]"
   ]
  },
  {
   "cell_type": "markdown",
   "id": "28b08bfd",
   "metadata": {},
   "source": [
    "Here I study the correlation between world box office and opening box office, with binary score as control variable. First I make a normal ols and found that all coefficients are significant. Second, I make a residual plot and qqplot to diagnose whether the model comply with the assumption that 𝑆𝐷(𝜖𝑖)=𝜎 and the error 𝜖𝑖 are normally distributed. Based on the plots, we can see that: 1) when the expected box office 𝐸(𝑌𝑖) are smaller, the estimated errors tend to become more smaller in magnitude, and the errors are dispersed; 2) the estimated error doesn't lie on the straight line in qqplot. Therefore, the assumption that 𝑆𝐷(𝜖𝑖)=𝜎 and the error 𝜖𝑖 are normally distributed is problematic, and I choose to use robust 95% confidence interval to modify the original model. \n",
    "\n",
    "Third, from the robust result we can know that the effects of opening week box office and score on world box office are significant. The coefficient 7.9977 represents that when the scores are low(under 7) or when the scores are controlled for, if the opening week box office is one million US dollars higher, the expected box office in the world will increase 7.9977 million US dollars. The coefficient 53.4719 represents that when the opening week box office is controlled for, the difference between expected world box office of high score movie and expected world box office of low score movie is 53.4719 million US dollars."
   ]
  },
  {
   "cell_type": "markdown",
   "id": "29e42d85",
   "metadata": {},
   "source": [
    "#### (4) Ols regression with control variable and interaction term"
   ]
  },
  {
   "cell_type": "markdown",
   "id": "7bd067ee",
   "metadata": {},
   "source": [
    "1. `world box office - opening week box office + binary score + opening week box office*binary score`"
   ]
  },
  {
   "cell_type": "code",
   "execution_count": 44,
   "id": "b8ef321c",
   "metadata": {},
   "outputs": [
    {
     "data": {
      "text/html": [
       "<table class=\"simpletable\">\n",
       "<tr>\n",
       "                        <td></td>                           <th>coef</th>     <th>std err</th>      <th>t</th>      <th>P>|t|</th>  <th>[0.025</th>    <th>0.975]</th>  \n",
       "</tr>\n",
       "<tr>\n",
       "  <th>Intercept</th>                                     <td>   -1.1934</td> <td>    9.419</td> <td>   -0.127</td> <td> 0.899</td> <td>  -19.756</td> <td>   17.369</td>\n",
       "</tr>\n",
       "<tr>\n",
       "  <th>opening_week_gross_USD_Million</th>                <td>    7.9993</td> <td>    0.288</td> <td>   27.736</td> <td> 0.000</td> <td>    7.431</td> <td>    8.568</td>\n",
       "</tr>\n",
       "<tr>\n",
       "  <th>High_low_score</th>                                <td>   53.5187</td> <td>   16.510</td> <td>    3.242</td> <td> 0.001</td> <td>   20.982</td> <td>   86.055</td>\n",
       "</tr>\n",
       "<tr>\n",
       "  <th>opening_week_gross_USD_Million:High_low_score</th> <td>   -0.0030</td> <td>    0.394</td> <td>   -0.008</td> <td> 0.994</td> <td>   -0.779</td> <td>    0.773</td>\n",
       "</tr>\n",
       "</table>"
      ],
      "text/plain": [
       "<class 'statsmodels.iolib.table.SimpleTable'>"
      ]
     },
     "execution_count": 44,
     "metadata": {},
     "output_type": "execute_result"
    }
   ],
   "source": [
    "box_office_est5 = ols('gross_world_USD_Million~opening_week_gross_USD_Million+High_low_score+ \\\n",
    "                      opening_week_gross_USD_Million*High_low_score', data=world_opening_control).fit() \n",
    "box_office_est5.summary().tables[1]"
   ]
  },
  {
   "cell_type": "markdown",
   "id": "756298ac",
   "metadata": {},
   "source": [
    "Here I study the correlation between world box office and opening week box office, binary score and the interaction term of opening week box office and score. Based on the ols result, the coefficients of opening week box office and score are significant, while the coefficient of interaction term is not significant. This means that binary score(high or low movie score) has no effect on the relationship between opening week box office and world box office."
   ]
  },
  {
   "cell_type": "markdown",
   "id": "30dc08d8",
   "metadata": {},
   "source": [
    "2. `world box office - vote number + binary score + vote number*binary score`"
   ]
  },
  {
   "cell_type": "code",
   "execution_count": 45,
   "id": "69fb4054",
   "metadata": {
    "scrolled": true
   },
   "outputs": [
    {
     "data": {
      "text/html": [
       "<table class=\"simpletable\">\n",
       "<tr>\n",
       "                   <td></td>                      <th>coef</th>     <th>std err</th>      <th>t</th>      <th>P>|t|</th>  <th>[0.025</th>    <th>0.975]</th>  \n",
       "</tr>\n",
       "<tr>\n",
       "  <th>Intercept</th>                           <td>  -19.6249</td> <td>   11.397</td> <td>   -1.722</td> <td> 0.086</td> <td>  -42.034</td> <td>    2.784</td>\n",
       "</tr>\n",
       "<tr>\n",
       "  <th>vote_number_thousand</th>                <td>    2.4785</td> <td>    0.165</td> <td>   15.024</td> <td> 0.000</td> <td>    2.154</td> <td>    2.803</td>\n",
       "</tr>\n",
       "<tr>\n",
       "  <th>High_low_score</th>                      <td>   10.1364</td> <td>   22.459</td> <td>    0.451</td> <td> 0.652</td> <td>  -34.022</td> <td>   54.295</td>\n",
       "</tr>\n",
       "<tr>\n",
       "  <th>vote_number_thousand:High_low_score</th> <td>   -1.2596</td> <td>    0.186</td> <td>   -6.778</td> <td> 0.000</td> <td>   -1.625</td> <td>   -0.894</td>\n",
       "</tr>\n",
       "</table>"
      ],
      "text/plain": [
       "<class 'statsmodels.iolib.table.SimpleTable'>"
      ]
     },
     "execution_count": 45,
     "metadata": {},
     "output_type": "execute_result"
    }
   ],
   "source": [
    "box_office_est6 = ols('gross_world_USD_Million~vote_number_thousand+High_low_score+vote_number_thousand*High_low_score', \n",
    "                      data=imdb_worldwide_gross_exist).fit() \n",
    "box_office_est6.summary().tables[1]"
   ]
  },
  {
   "cell_type": "code",
   "execution_count": 46,
   "id": "66456ce6",
   "metadata": {},
   "outputs": [
    {
     "data": {
      "image/png": "[encoded data removed]",
      "text/plain": [
       "<Figure size 432x288 with 1 Axes>"
      ]
     },
     "metadata": {
      "needs_background": "light"
     },
     "output_type": "display_data"
    }
   ],
   "source": [
    "ax = sns.scatterplot(x=box_office_est6.predict(),y=box_office_est6.resid) \n",
    "ax.axhline(color='black',linestyle='--',linewidth=3) \n",
    "ax.set(xlabel='Expected box office',ylabel='Error');"
   ]
  },
  {
   "cell_type": "code",
   "execution_count": 47,
   "id": "42dd09ac",
   "metadata": {},
   "outputs": [
    {
     "data": {
      "image/png": "[encoded data removed]",
      "text/plain": [
       "<Figure size 432x288 with 1 Axes>"
      ]
     },
     "metadata": {
      "needs_background": "light"
     },
     "output_type": "display_data"
    }
   ],
   "source": [
    "sm.qqplot(box_office_est6.resid,line='r');"
   ]
  },
  {
   "cell_type": "code",
   "execution_count": 48,
   "id": "08d36660",
   "metadata": {},
   "outputs": [
    {
     "data": {
      "text/html": [
       "<table class=\"simpletable\">\n",
       "<tr>\n",
       "                   <td></td>                      <th>coef</th>     <th>std err</th>      <th>t</th>      <th>P>|t|</th>  <th>[0.025</th>    <th>0.975]</th>  \n",
       "</tr>\n",
       "<tr>\n",
       "  <th>Intercept</th>                           <td>  -19.6249</td> <td>    5.977</td> <td>   -3.284</td> <td> 0.001</td> <td>  -31.376</td> <td>   -7.874</td>\n",
       "</tr>\n",
       "<tr>\n",
       "  <th>vote_number_thousand</th>                <td>    2.4785</td> <td>    0.328</td> <td>    7.559</td> <td> 0.000</td> <td>    1.834</td> <td>    3.123</td>\n",
       "</tr>\n",
       "<tr>\n",
       "  <th>High_low_score</th>                      <td>   10.1364</td> <td>   36.962</td> <td>    0.274</td> <td> 0.784</td> <td>  -62.539</td> <td>   82.812</td>\n",
       "</tr>\n",
       "<tr>\n",
       "  <th>vote_number_thousand:High_low_score</th> <td>   -1.2596</td> <td>    0.590</td> <td>   -2.134</td> <td> 0.034</td> <td>   -2.420</td> <td>   -0.099</td>\n",
       "</tr>\n",
       "</table>"
      ],
      "text/plain": [
       "<class 'statsmodels.iolib.table.SimpleTable'>"
      ]
     },
     "execution_count": 48,
     "metadata": {},
     "output_type": "execute_result"
    }
   ],
   "source": [
    "box_office_robust6 = box_office_est6.get_robustcov_results(cov_type='HC3') \n",
    "box_office_robust6.summary().tables[1]"
   ]
  },
  {
   "cell_type": "markdown",
   "id": "73cf63e0",
   "metadata": {},
   "source": [
    "Here I study the correlation between world box office and vote number, binary score and the interaction term of vote number and binary score. First I make a normal ols and found that coefficients of vote number and interaction term are significant, coefficient of score is not significant. Second, I make a residual plot and qqplot to diagnose whether the model comply with the assumption that 𝑆𝐷(𝜖𝑖)=𝜎 and the error 𝜖𝑖 are normally distributed. Based on the plots, we can see that: 1) when the expected box office 𝐸(𝑌𝑖) are smaller, the estimated errors tend to become more smaller in magnitude; 2) the estimated error doesn't lie on the straight line in qqplot. Therefore, the assumption that 𝑆𝐷(𝜖𝑖)=𝜎 and the error 𝜖𝑖 are normally distributed is problematic, and I choose to use robust 95% confidence interval to modify the original model.\n",
    "\n",
    "Based on the robust result we can know that the coefficients of vote number and interaction term are significant, while the coefficient of binary score is not significant. This reveals that whether the score of movie is high(7 and above) and low(under 7) has effects on the relationship between vote number and world box office. The coefficient 2.4785 means that when the score of movie is low(under 7), one unit increase of vote number is associated with 2.4785 million US dollars increase in the world box office of the movie. The interaction coefficient -1.2596 means that when the movie socre is high, the effect of vote number on world box office will decrease 1.2596, from 2.4785 to 1.2189(2.4785-1.2596). Now one unit increase of vote number is associated with 1.2189 million US dollars increase in the world box office of the movie."
   ]
  },
  {
   "cell_type": "markdown",
   "id": "eb1f58b7",
   "metadata": {},
   "source": [
    "#### (5) Ols regression with non-binary categorical variable"
   ]
  },
  {
   "cell_type": "code",
   "execution_count": 49,
   "id": "edad9687",
   "metadata": {},
   "outputs": [
    {
     "data": {
      "text/html": [
       "<table class=\"simpletable\">\n",
       "<tr>\n",
       "                 <td></td>                   <th>coef</th>     <th>std err</th>      <th>t</th>      <th>P>|t|</th>  <th>[0.025</th>    <th>0.975]</th>  \n",
       "</tr>\n",
       "<tr>\n",
       "  <th>Intercept</th>                      <td>  179.3931</td> <td>   25.098</td> <td>    7.148</td> <td> 0.000</td> <td>  130.047</td> <td>  228.739</td>\n",
       "</tr>\n",
       "<tr>\n",
       "  <th>C(movie_length_type)[T.normal]</th> <td> -124.2138</td> <td>   29.220</td> <td>   -4.251</td> <td> 0.000</td> <td> -181.665</td> <td>  -66.763</td>\n",
       "</tr>\n",
       "<tr>\n",
       "  <th>C(movie_length_type)[T.short]</th>  <td> -153.2694</td> <td>   45.822</td> <td>   -3.345</td> <td> 0.001</td> <td> -243.363</td> <td>  -63.176</td>\n",
       "</tr>\n",
       "</table>"
      ],
      "text/plain": [
       "<class 'statsmodels.iolib.table.SimpleTable'>"
      ]
     },
     "execution_count": 49,
     "metadata": {},
     "output_type": "execute_result"
    }
   ],
   "source": [
    "box_office_est7 = ols('gross_world_USD_Million~C(movie_length_type)', data=imdb_worldwide_gross_exist).fit() \n",
    "box_office_est7.summary().tables[1]"
   ]
  },
  {
   "cell_type": "code",
   "execution_count": 50,
   "id": "71494613",
   "metadata": {},
   "outputs": [
    {
     "data": {
      "image/png": "[encoded data removed]",
      "text/plain": [
       "<Figure size 432x288 with 1 Axes>"
      ]
     },
     "metadata": {
      "needs_background": "light"
     },
     "output_type": "display_data"
    }
   ],
   "source": [
    "ax = sns.scatterplot(x=box_office_est7.predict(),y=box_office_est7.resid) \n",
    "ax.axhline(color='black',linestyle='--',linewidth=3) \n",
    "ax.set(xlabel='Expected box office',ylabel='Error');"
   ]
  },
  {
   "cell_type": "code",
   "execution_count": 51,
   "id": "cda73d7c",
   "metadata": {},
   "outputs": [
    {
     "data": {
      "image/png": "[encoded data removed]",
      "text/plain": [
       "<Figure size 432x288 with 1 Axes>"
      ]
     },
     "metadata": {
      "needs_background": "light"
     },
     "output_type": "display_data"
    }
   ],
   "source": [
    "sm.qqplot(box_office_est7.resid,line='r');"
   ]
  },
  {
   "cell_type": "code",
   "execution_count": 52,
   "id": "36c1d662",
   "metadata": {},
   "outputs": [
    {
     "data": {
      "text/html": [
       "<table class=\"simpletable\">\n",
       "<tr>\n",
       "                 <td></td>                   <th>coef</th>     <th>std err</th>      <th>t</th>      <th>P>|t|</th>  <th>[0.025</th>    <th>0.975]</th>  \n",
       "</tr>\n",
       "<tr>\n",
       "  <th>Intercept</th>                      <td>  179.3931</td> <td>   41.750</td> <td>    4.297</td> <td> 0.000</td> <td>   97.306</td> <td>  261.480</td>\n",
       "</tr>\n",
       "<tr>\n",
       "  <th>C(movie_length_type)[T.normal]</th> <td> -124.2138</td> <td>   43.129</td> <td>   -2.880</td> <td> 0.004</td> <td> -209.012</td> <td>  -39.415</td>\n",
       "</tr>\n",
       "<tr>\n",
       "  <th>C(movie_length_type)[T.short]</th>  <td> -153.2694</td> <td>   43.564</td> <td>   -3.518</td> <td> 0.000</td> <td> -238.923</td> <td>  -67.616</td>\n",
       "</tr>\n",
       "</table>"
      ],
      "text/plain": [
       "<class 'statsmodels.iolib.table.SimpleTable'>"
      ]
     },
     "execution_count": 52,
     "metadata": {},
     "output_type": "execute_result"
    }
   ],
   "source": [
    "box_office_robust7 = box_office_est7.get_robustcov_results(cov_type='HC3') \n",
    "box_office_robust7.summary().tables[1]"
   ]
  },
  {
   "cell_type": "markdown",
   "id": "2f40b4ea",
   "metadata": {},
   "source": [
    "Here I study the correlation between world box office and a non-binary catigorical variable, movie length. First I make a dummy ols and found that all dummy coefficients are significant. Second, I make a residual plot and qqplot to diagnose whether the model comply with the assumption that 𝑆𝐷(𝜖𝑖)=𝜎 and the error 𝜖𝑖 are normally distributed. Based on the plots, we can see that: 1) the estimated errors are dispersed; 2) the estimated error doesn't lie on the straight line in qqplot. Therefore, the assumption that 𝑆𝐷(𝜖𝑖)=𝜎 and the error 𝜖𝑖 are normally distributed is problematic, and I choose to use robust 95% confidence interval to modify the original model.\n",
    "\n",
    "From the robust result we can see that all coefficients are significant. The intercept 179.3931 means that when the movie is a long movie(>120), the expected world box office of the movie is 179.3931 million US dollars. The coefficient -124.2138 is the difference between expected world box office of long movie and normal length movie. When the movie length is normal(>=90,<=120), the expected world box office is 124.2138 million US dollars less than long movies. The coefficient -153.2694 is the difference between expected world box office of long movie and short length movie. When the movie length is short(<90), the expected world box office is 153.2694 million US dollars less than long movies."
   ]
  },
  {
   "cell_type": "markdown",
   "id": "4f710cc6",
   "metadata": {},
   "source": [
    "#### (6) polynomial"
   ]
  },
  {
   "cell_type": "markdown",
   "id": "2ea6b32f",
   "metadata": {},
   "source": [
    "Add polynomial into the models is an approach to deal with non-linear correlation. Most of models I run above have problem with the assumption that 𝑆𝐷(𝜖𝑖)=𝜎 and the error 𝜖𝑖 are normally distributed, and I test all the models with polynomial and find out one model is suitable to use polynomial to modify. Other models have insignificant coefficient of polynomial or insignificant coefficient of linear term after I add the polynomial. "
   ]
  },
  {
   "cell_type": "markdown",
   "id": "46e0b3c0",
   "metadata": {},
   "source": [
    "1. `world box office - budget + budget**3`"
   ]
  },
  {
   "cell_type": "code",
   "execution_count": 53,
   "id": "4ae49025",
   "metadata": {},
   "outputs": [
    {
     "data": {
      "text/html": [
       "<table class=\"simpletable\">\n",
       "<tr>\n",
       "               <td></td>                 <th>coef</th>     <th>std err</th>      <th>t</th>      <th>P>|t|</th>  <th>[0.025</th>    <th>0.975]</th>  \n",
       "</tr>\n",
       "<tr>\n",
       "  <th>Intercept</th>                  <td>   18.0724</td> <td>   15.685</td> <td>    1.152</td> <td> 0.251</td> <td>  -12.875</td> <td>   49.020</td>\n",
       "</tr>\n",
       "<tr>\n",
       "  <th>budget_USD_Million</th>         <td>    2.3881</td> <td>    0.776</td> <td>    3.078</td> <td> 0.002</td> <td>    0.857</td> <td>    3.919</td>\n",
       "</tr>\n",
       "<tr>\n",
       "  <th>I(budget_USD_Million ** 3)</th> <td> 3.964e-05</td> <td> 1.54e-05</td> <td>    2.578</td> <td> 0.011</td> <td>  9.3e-06</td> <td>    7e-05</td>\n",
       "</tr>\n",
       "</table>"
      ],
      "text/plain": [
       "<class 'statsmodels.iolib.table.SimpleTable'>"
      ]
     },
     "execution_count": 53,
     "metadata": {},
     "output_type": "execute_result"
    }
   ],
   "source": [
    "box_office_est_polynomial = ols('gross_world_USD_Million~budget_USD_Million+I(budget_USD_Million**3)'\n",
    "                            ,data=world_budget_exist).fit() \n",
    "box_office_polynomial_robust = box_office_est_polynomial.get_robustcov_results(cov_type='HC3') \n",
    "box_office_polynomial_robust.summary().tables[1]"
   ]
  },
  {
   "cell_type": "code",
   "execution_count": 54,
   "id": "31fa851d",
   "metadata": {},
   "outputs": [
    {
     "data": {
      "image/png": "[encoded data removed]",
      "text/plain": [
       "<Figure size 432x288 with 1 Axes>"
      ]
     },
     "metadata": {
      "needs_background": "light"
     },
     "output_type": "display_data"
    }
   ],
   "source": [
    "ax = sns.scatterplot(x=box_office_est_polynomial.predict(),y=box_office_est_polynomial.resid) \n",
    "ax.axhline(color='black',linestyle='--',linewidth=3) \n",
    "ax.set(xlabel='Expected box office',ylabel='Error');"
   ]
  },
  {
   "cell_type": "code",
   "execution_count": 55,
   "id": "5de3bc95",
   "metadata": {},
   "outputs": [
    {
     "data": {
      "image/png": "[encoded data removed]",
      "text/plain": [
       "<Figure size 432x288 with 1 Axes>"
      ]
     },
     "metadata": {
      "needs_background": "light"
     },
     "output_type": "display_data"
    }
   ],
   "source": [
    "ax = sns.scatterplot(data=world_budget_exist,x='budget_USD_Million',y='gross_world_USD_Million')\n",
    "ax = sns.lineplot(data=world_budget_exist,x='budget_USD_Million',y=box_office_est_polynomial.predict())"
   ]
  },
  {
   "cell_type": "markdown",
   "id": "8ca2bfd1",
   "metadata": {},
   "source": [
    "Based on the robust result, the polynomial term and linear term are both significant. What's more, after including the polynomial term `budget_USD_Million**3`, the residual plot of the model looks much better than before and the regression line fits data points better. "
   ]
  },
  {
   "cell_type": "markdown",
   "id": "eda72b9f",
   "metadata": {},
   "source": [
    "#### (7) Log"
   ]
  },
  {
   "cell_type": "markdown",
   "id": "a421b88c",
   "metadata": {},
   "source": [
    "Taking the log is a good way to deal with heteroscedasticity, especially when the dimensions of quantity are different in the variables. For instance, the world box office of different movies can be very large and the effect of rating on movies with different world box office can vary. In this case, we can use log to modify our model. Also, using log is a good way to observe data with large magnitude, as it transforms the change into percentage. Based on the heteroscedasticity problems revealed in my models and the advantages of log, I can take log of both dependent and independent variables in many of my models. The following are some examples."
   ]
  },
  {
   "cell_type": "markdown",
   "id": "e3561e55",
   "metadata": {},
   "source": [
    "1. `log(world box office) - log(rating)`"
   ]
  },
  {
   "cell_type": "code",
   "execution_count": 56,
   "id": "63957e8c",
   "metadata": {},
   "outputs": [
    {
     "data": {
      "text/html": [
       "<table class=\"simpletable\">\n",
       "<tr>\n",
       "             <td></td>                <th>coef</th>     <th>std err</th>      <th>t</th>      <th>P>|t|</th>  <th>[0.025</th>    <th>0.975]</th>  \n",
       "</tr>\n",
       "<tr>\n",
       "  <th>Intercept</th>               <td>   -8.5051</td> <td>    1.807</td> <td>   -4.708</td> <td> 0.000</td> <td>  -12.057</td> <td>   -4.953</td>\n",
       "</tr>\n",
       "<tr>\n",
       "  <th>np.log(rating_10_scale)</th> <td>    5.3209</td> <td>    0.973</td> <td>    5.469</td> <td> 0.000</td> <td>    3.408</td> <td>    7.234</td>\n",
       "</tr>\n",
       "</table>"
      ],
      "text/plain": [
       "<class 'statsmodels.iolib.table.SimpleTable'>"
      ]
     },
     "execution_count": 56,
     "metadata": {},
     "output_type": "execute_result"
    }
   ],
   "source": [
    "box_office_est_log = ols('np.log(gross_world_USD_Million)~np.log(rating_10_scale)',data=imdb_worldwide_gross_exist).fit() \n",
    "box_office_log_robust = box_office_est_log.get_robustcov_results(cov_type='HC3') \n",
    "box_office_log_robust.summary().tables[1]"
   ]
  },
  {
   "cell_type": "code",
   "execution_count": 57,
   "id": "c784034d",
   "metadata": {},
   "outputs": [
    {
     "data": {
      "image/png": "[encoded data removed]",
      "text/plain": [
       "<Figure size 432x288 with 1 Axes>"
      ]
     },
     "metadata": {
      "needs_background": "light"
     },
     "output_type": "display_data"
    }
   ],
   "source": [
    "ax = sns.scatterplot(x=box_office_est_log.predict(),y=box_office_est_log.resid) \n",
    "ax.axhline(color='black',linestyle='--',linewidth=3) \n",
    "ax.set(xlabel='Expected box office',ylabel='Error');"
   ]
  },
  {
   "cell_type": "markdown",
   "id": "c63e3a4a",
   "metadata": {},
   "source": [
    "We can see that the coefficient is significant and the residual plot looks so much better than before. Now the coefficient means that when rating increases 1%, the world box office will increase 5.32%."
   ]
  },
  {
   "cell_type": "markdown",
   "id": "b61dc456",
   "metadata": {},
   "source": [
    "2. `log(world box office) - log(budget)`"
   ]
  },
  {
   "cell_type": "code",
   "execution_count": 58,
   "id": "a12ee0d0",
   "metadata": {},
   "outputs": [
    {
     "data": {
      "text/html": [
       "<table class=\"simpletable\">\n",
       "<tr>\n",
       "               <td></td>                 <th>coef</th>     <th>std err</th>      <th>t</th>      <th>P>|t|</th>  <th>[0.025</th>    <th>0.975]</th>  \n",
       "</tr>\n",
       "<tr>\n",
       "  <th>Intercept</th>                  <td>   -1.1534</td> <td>    0.445</td> <td>   -2.593</td> <td> 0.010</td> <td>   -2.031</td> <td>   -0.276</td>\n",
       "</tr>\n",
       "<tr>\n",
       "  <th>np.log(budget_USD_Million)</th> <td>    1.4485</td> <td>    0.122</td> <td>   11.873</td> <td> 0.000</td> <td>    1.208</td> <td>    1.689</td>\n",
       "</tr>\n",
       "</table>"
      ],
      "text/plain": [
       "<class 'statsmodels.iolib.table.SimpleTable'>"
      ]
     },
     "execution_count": 58,
     "metadata": {},
     "output_type": "execute_result"
    }
   ],
   "source": [
    "box_office_est_log2 = ols('np.log(gross_world_USD_Million)~np.log(budget_USD_Million)',data=world_budget_exist).fit() \n",
    "box_office_log_robust2 = box_office_est_log2.get_robustcov_results(cov_type='HC3') \n",
    "box_office_log_robust2.summary().tables[1]"
   ]
  },
  {
   "cell_type": "code",
   "execution_count": 59,
   "id": "30a96789",
   "metadata": {},
   "outputs": [
    {
     "data": {
      "image/png": "[encoded data removed]",
      "text/plain": [
       "<Figure size 432x288 with 1 Axes>"
      ]
     },
     "metadata": {
      "needs_background": "light"
     },
     "output_type": "display_data"
    }
   ],
   "source": [
    "ax = sns.scatterplot(x=box_office_est_log2.predict(),y=box_office_est_log2.resid) \n",
    "ax.axhline(color='black',linestyle='--',linewidth=3) \n",
    "ax.set(xlabel='Expected box office',ylabel='Error');"
   ]
  },
  {
   "cell_type": "markdown",
   "id": "de0023f1",
   "metadata": {},
   "source": [
    "The coefficient is significant and the residual plot looks better than before. Now the coefficient means that when budget increases 1%, the world box office will increase 1.4485%. This provides us a new vision to look at their relation."
   ]
  },
  {
   "cell_type": "markdown",
   "id": "74c2a0b1",
   "metadata": {},
   "source": [
    "3. `log(world box office) - log(opening week box office) + score binary`"
   ]
  },
  {
   "cell_type": "code",
   "execution_count": 60,
   "id": "057788d1",
   "metadata": {},
   "outputs": [
    {
     "data": {
      "text/html": [
       "<table class=\"simpletable\">\n",
       "<tr>\n",
       "                     <td></td>                       <th>coef</th>     <th>std err</th>      <th>t</th>      <th>P>|t|</th>  <th>[0.025</th>    <th>0.975]</th>  \n",
       "</tr>\n",
       "<tr>\n",
       "  <th>Intercept</th>                              <td>    2.4472</td> <td>    0.109</td> <td>   22.526</td> <td> 0.000</td> <td>    2.233</td> <td>    2.661</td>\n",
       "</tr>\n",
       "<tr>\n",
       "  <th>np.log(opening_week_gross_USD_Million)</th> <td>    0.6840</td> <td>    0.036</td> <td>   18.960</td> <td> 0.000</td> <td>    0.613</td> <td>    0.755</td>\n",
       "</tr>\n",
       "<tr>\n",
       "  <th>High_low_score</th>                         <td>    1.3481</td> <td>    0.209</td> <td>    6.465</td> <td> 0.000</td> <td>    0.937</td> <td>    1.759</td>\n",
       "</tr>\n",
       "</table>"
      ],
      "text/plain": [
       "<class 'statsmodels.iolib.table.SimpleTable'>"
      ]
     },
     "execution_count": 60,
     "metadata": {},
     "output_type": "execute_result"
    }
   ],
   "source": [
    "box_office_est_log3 = ols('np.log(gross_world_USD_Million)~np.log(opening_week_gross_USD_Million)+High_low_score',\n",
    "                      data=world_opening_control).fit() \n",
    "box_office_log_robust3 = box_office_est_log3.get_robustcov_results(cov_type='HC3') \n",
    "box_office_log_robust3.summary().tables[1]"
   ]
  },
  {
   "cell_type": "code",
   "execution_count": 61,
   "id": "cec48932",
   "metadata": {},
   "outputs": [
    {
     "data": {
      "image/png": "[encoded data removed]",
      "text/plain": [
       "<Figure size 432x288 with 1 Axes>"
      ]
     },
     "metadata": {
      "needs_background": "light"
     },
     "output_type": "display_data"
    }
   ],
   "source": [
    "ax = sns.scatterplot(x=box_office_est_log3.predict(),y=box_office_est_log3.resid) \n",
    "ax.axhline(color='black',linestyle='--',linewidth=3) \n",
    "ax.set(xlabel='Expected box office',ylabel='Error');"
   ]
  },
  {
   "cell_type": "markdown",
   "id": "d4afa377",
   "metadata": {},
   "source": [
    "The coefficients are significant and the residual plot looks better. Now the coefficient 0.684 means that when the score is controlled, when opening week box office increases 1%, the world box office will increase 0.684%. The coefficient 1.3481 means that when opening week box office is controlled for, the expected box office of high score movies will be 134.81% higher than the expected box office of low score movies."
   ]
  },
  {
   "cell_type": "markdown",
   "id": "77db39b8",
   "metadata": {},
   "source": [
    "4. `log(world box office) - log(opening week box office) + score binary + log(opening week box office)*score binary`"
   ]
  },
  {
   "cell_type": "code",
   "execution_count": 62,
   "id": "d7ce5ae7",
   "metadata": {},
   "outputs": [
    {
     "data": {
      "text/html": [
       "<table class=\"simpletable\">\n",
       "<tr>\n",
       "                            <td></td>                               <th>coef</th>     <th>std err</th>      <th>t</th>      <th>P>|t|</th>  <th>[0.025</th>    <th>0.975]</th>  \n",
       "</tr>\n",
       "<tr>\n",
       "  <th>Intercept</th>                                             <td>    2.4439</td> <td>    0.108</td> <td>   22.688</td> <td> 0.000</td> <td>    2.232</td> <td>    2.656</td>\n",
       "</tr>\n",
       "<tr>\n",
       "  <th>np.log(opening_week_gross_USD_Million)</th>                <td>    0.7582</td> <td>    0.045</td> <td>   16.719</td> <td> 0.000</td> <td>    0.669</td> <td>    0.848</td>\n",
       "</tr>\n",
       "<tr>\n",
       "  <th>High_low_score</th>                                        <td>    1.3219</td> <td>    0.193</td> <td>    6.852</td> <td> 0.000</td> <td>    0.942</td> <td>    1.702</td>\n",
       "</tr>\n",
       "<tr>\n",
       "  <th>np.log(opening_week_gross_USD_Million):High_low_score</th> <td>   -0.2644</td> <td>    0.066</td> <td>   -3.980</td> <td> 0.000</td> <td>   -0.395</td> <td>   -0.133</td>\n",
       "</tr>\n",
       "</table>"
      ],
      "text/plain": [
       "<class 'statsmodels.iolib.table.SimpleTable'>"
      ]
     },
     "execution_count": 62,
     "metadata": {},
     "output_type": "execute_result"
    }
   ],
   "source": [
    "box_office_est_log4 = ols('np.log(gross_world_USD_Million)~np.log(opening_week_gross_USD_Million)+High_low_score+ \\\n",
    "                      np.log(opening_week_gross_USD_Million)*High_low_score', data=world_opening_control).fit() \n",
    "box_office_log_robust4 = box_office_est_log4.get_robustcov_results(cov_type='HC3') \n",
    "box_office_log_robust4.summary().tables[1]"
   ]
  },
  {
   "cell_type": "code",
   "execution_count": 63,
   "id": "53c99c7c",
   "metadata": {},
   "outputs": [
    {
     "data": {
      "image/png": "[encoded data removed]",
      "text/plain": [
       "<Figure size 432x288 with 1 Axes>"
      ]
     },
     "metadata": {
      "needs_background": "light"
     },
     "output_type": "display_data"
    }
   ],
   "source": [
    "ax = sns.scatterplot(x=box_office_est_log4.predict(),y=box_office_est_log4.resid) \n",
    "ax.axhline(color='black',linestyle='--',linewidth=3) \n",
    "ax.set(xlabel='Expected box office',ylabel='Error');"
   ]
  },
  {
   "cell_type": "markdown",
   "id": "bc5de684",
   "metadata": {},
   "source": [
    "The coefficients are significant and the residual plot also looks better. Now the coefficient 0.7582 means that when the score is low, when opening week box office increases 1%, the world box office will increase 0.7582%. The coefficient of interaction term -0.2644 means that when the score is high, when opening week box office increases 1%, the world box office will increase 0.7582%-0.2644%=0.4938%."
   ]
  },
  {
   "cell_type": "code",
   "execution_count": null,
   "id": "9821f79d",
   "metadata": {},
   "outputs": [],
   "source": []
  }
 ],
 "metadata": {
  "kernelspec": {
   "display_name": "Python 3",
   "language": "python",
   "name": "python3"
  },
  "language_info": {
   "codemirror_mode": {
    "name": "ipython",
    "version": 3
   },
   "file_extension": ".py",
   "mimetype": "text/x-python",
   "name": "python",
   "nbconvert_exporter": "python",
   "pygments_lexer": "ipython3",
   "version": "3.8.8"
  }
 },
 "nbformat": 4,
 "nbformat_minor": 5
}
